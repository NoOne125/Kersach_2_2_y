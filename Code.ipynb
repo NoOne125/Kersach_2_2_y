{
 "cells": [
  {
   "cell_type": "markdown",
   "id": "04f60d61",
   "metadata": {},
   "source": [
    "## IMPORT DATASETS"
   ]
  },
  {
   "cell_type": "code",
   "execution_count": 1,
   "id": "de3858ad",
   "metadata": {
    "vscode": {
     "languageId": "markdown"
    }
   },
   "outputs": [],
   "source": [
    "import pandas as pd"
   ]
  },
  {
   "cell_type": "code",
   "execution_count": 2,
   "id": "027c7666",
   "metadata": {},
   "outputs": [],
   "source": [
    "df_fake = pd.read_csv(\"Fake.csv\")\n",
    "df_real = pd.read_csv(\"True.csv\")"
   ]
  },
  {
   "cell_type": "markdown",
   "id": "61ad805e",
   "metadata": {},
   "source": [
    "## Checking Data"
   ]
  },
  {
   "cell_type": "code",
   "execution_count": 3,
   "id": "d63f57ab",
   "metadata": {},
   "outputs": [
    {
     "data": {
      "text/html": [
       "<div>\n",
       "<style scoped>\n",
       "    .dataframe tbody tr th:only-of-type {\n",
       "        vertical-align: middle;\n",
       "    }\n",
       "\n",
       "    .dataframe tbody tr th {\n",
       "        vertical-align: top;\n",
       "    }\n",
       "\n",
       "    .dataframe thead th {\n",
       "        text-align: right;\n",
       "    }\n",
       "</style>\n",
       "<table border=\"1\" class=\"dataframe\">\n",
       "  <thead>\n",
       "    <tr style=\"text-align: right;\">\n",
       "      <th></th>\n",
       "      <th>title</th>\n",
       "      <th>text</th>\n",
       "      <th>subject</th>\n",
       "      <th>date</th>\n",
       "    </tr>\n",
       "  </thead>\n",
       "  <tbody>\n",
       "    <tr>\n",
       "      <th>count</th>\n",
       "      <td>23471</td>\n",
       "      <td>23471</td>\n",
       "      <td>23471</td>\n",
       "      <td>23471</td>\n",
       "    </tr>\n",
       "    <tr>\n",
       "      <th>unique</th>\n",
       "      <td>17898</td>\n",
       "      <td>17450</td>\n",
       "      <td>6</td>\n",
       "      <td>1675</td>\n",
       "    </tr>\n",
       "    <tr>\n",
       "      <th>top</th>\n",
       "      <td>MEDIA IGNORES Time That Bill Clinton FIRED His...</td>\n",
       "      <td></td>\n",
       "      <td>News</td>\n",
       "      <td>May 10, 2017</td>\n",
       "    </tr>\n",
       "    <tr>\n",
       "      <th>freq</th>\n",
       "      <td>6</td>\n",
       "      <td>626</td>\n",
       "      <td>9050</td>\n",
       "      <td>46</td>\n",
       "    </tr>\n",
       "  </tbody>\n",
       "</table>\n",
       "</div>"
      ],
      "text/plain": [
       "                                                    title   text subject  \\\n",
       "count                                               23471  23471   23471   \n",
       "unique                                              17898  17450       6   \n",
       "top     MEDIA IGNORES Time That Bill Clinton FIRED His...           News   \n",
       "freq                                                    6    626    9050   \n",
       "\n",
       "                date  \n",
       "count          23471  \n",
       "unique          1675  \n",
       "top     May 10, 2017  \n",
       "freq              46  "
      ]
     },
     "execution_count": 3,
     "metadata": {},
     "output_type": "execute_result"
    }
   ],
   "source": [
    "df_fake.describe()"
   ]
  },
  {
   "cell_type": "code",
   "execution_count": 4,
   "id": "d68142af",
   "metadata": {},
   "outputs": [
    {
     "data": {
      "text/html": [
       "<div>\n",
       "<style scoped>\n",
       "    .dataframe tbody tr th:only-of-type {\n",
       "        vertical-align: middle;\n",
       "    }\n",
       "\n",
       "    .dataframe tbody tr th {\n",
       "        vertical-align: top;\n",
       "    }\n",
       "\n",
       "    .dataframe thead th {\n",
       "        text-align: right;\n",
       "    }\n",
       "</style>\n",
       "<table border=\"1\" class=\"dataframe\">\n",
       "  <thead>\n",
       "    <tr style=\"text-align: right;\">\n",
       "      <th></th>\n",
       "      <th>title</th>\n",
       "      <th>text</th>\n",
       "      <th>subject</th>\n",
       "      <th>date</th>\n",
       "    </tr>\n",
       "  </thead>\n",
       "  <tbody>\n",
       "    <tr>\n",
       "      <th>count</th>\n",
       "      <td>21417</td>\n",
       "      <td>21417</td>\n",
       "      <td>21417</td>\n",
       "      <td>21417</td>\n",
       "    </tr>\n",
       "    <tr>\n",
       "      <th>unique</th>\n",
       "      <td>20826</td>\n",
       "      <td>21192</td>\n",
       "      <td>2</td>\n",
       "      <td>716</td>\n",
       "    </tr>\n",
       "    <tr>\n",
       "      <th>top</th>\n",
       "      <td>Factbox: Trump fills top jobs for his administ...</td>\n",
       "      <td>(Reuters) - Highlights for U.S. President Dona...</td>\n",
       "      <td>politicsNews</td>\n",
       "      <td>December 20, 2017</td>\n",
       "    </tr>\n",
       "    <tr>\n",
       "      <th>freq</th>\n",
       "      <td>14</td>\n",
       "      <td>8</td>\n",
       "      <td>11272</td>\n",
       "      <td>182</td>\n",
       "    </tr>\n",
       "  </tbody>\n",
       "</table>\n",
       "</div>"
      ],
      "text/plain": [
       "                                                    title  \\\n",
       "count                                               21417   \n",
       "unique                                              20826   \n",
       "top     Factbox: Trump fills top jobs for his administ...   \n",
       "freq                                                   14   \n",
       "\n",
       "                                                     text       subject  \\\n",
       "count                                               21417         21417   \n",
       "unique                                              21192             2   \n",
       "top     (Reuters) - Highlights for U.S. President Dona...  politicsNews   \n",
       "freq                                                    8         11272   \n",
       "\n",
       "                      date  \n",
       "count                21417  \n",
       "unique                 716  \n",
       "top     December 20, 2017   \n",
       "freq                   182  "
      ]
     },
     "execution_count": 4,
     "metadata": {},
     "output_type": "execute_result"
    }
   ],
   "source": [
    "df_real.describe()"
   ]
  },
  {
   "cell_type": "markdown",
   "id": "e72e21cd",
   "metadata": {},
   "source": [
    "## Data pre-processing"
   ]
  },
  {
   "cell_type": "markdown",
   "id": "4cf284a7",
   "metadata": {},
   "source": [
    "### Fake"
   ]
  },
  {
   "cell_type": "code",
   "execution_count": 5,
   "id": "70b742e9",
   "metadata": {},
   "outputs": [
    {
     "data": {
      "text/html": [
       "<div>\n",
       "<style scoped>\n",
       "    .dataframe tbody tr th:only-of-type {\n",
       "        vertical-align: middle;\n",
       "    }\n",
       "\n",
       "    .dataframe tbody tr th {\n",
       "        vertical-align: top;\n",
       "    }\n",
       "\n",
       "    .dataframe thead th {\n",
       "        text-align: right;\n",
       "    }\n",
       "</style>\n",
       "<table border=\"1\" class=\"dataframe\">\n",
       "  <thead>\n",
       "    <tr style=\"text-align: right;\">\n",
       "      <th></th>\n",
       "      <th>text</th>\n",
       "      <th>subject</th>\n",
       "      <th>date</th>\n",
       "    </tr>\n",
       "  </thead>\n",
       "  <tbody>\n",
       "    <tr>\n",
       "      <th>0</th>\n",
       "      <td>Donald Trump Sends Out Embarrassing New Year’...</td>\n",
       "      <td>News</td>\n",
       "      <td>December 31, 2017</td>\n",
       "    </tr>\n",
       "    <tr>\n",
       "      <th>1</th>\n",
       "      <td>Drunk Bragging Trump Staffer Started Russian ...</td>\n",
       "      <td>News</td>\n",
       "      <td>December 31, 2017</td>\n",
       "    </tr>\n",
       "    <tr>\n",
       "      <th>2</th>\n",
       "      <td>Sheriff David Clarke Becomes An Internet Joke...</td>\n",
       "      <td>News</td>\n",
       "      <td>December 30, 2017</td>\n",
       "    </tr>\n",
       "    <tr>\n",
       "      <th>3</th>\n",
       "      <td>Trump Is So Obsessed He Even Has Obama’s Name...</td>\n",
       "      <td>News</td>\n",
       "      <td>December 29, 2017</td>\n",
       "    </tr>\n",
       "    <tr>\n",
       "      <th>4</th>\n",
       "      <td>Pope Francis Just Called Out Donald Trump Dur...</td>\n",
       "      <td>News</td>\n",
       "      <td>December 25, 2017</td>\n",
       "    </tr>\n",
       "  </tbody>\n",
       "</table>\n",
       "</div>"
      ],
      "text/plain": [
       "                                                text subject  \\\n",
       "0   Donald Trump Sends Out Embarrassing New Year’...    News   \n",
       "1   Drunk Bragging Trump Staffer Started Russian ...    News   \n",
       "2   Sheriff David Clarke Becomes An Internet Joke...    News   \n",
       "3   Trump Is So Obsessed He Even Has Obama’s Name...    News   \n",
       "4   Pope Francis Just Called Out Donald Trump Dur...    News   \n",
       "\n",
       "                date  \n",
       "0  December 31, 2017  \n",
       "1  December 31, 2017  \n",
       "2  December 30, 2017  \n",
       "3  December 29, 2017  \n",
       "4  December 25, 2017  "
      ]
     },
     "execution_count": 5,
     "metadata": {},
     "output_type": "execute_result"
    }
   ],
   "source": [
    "df_fake['text'] = df_fake['title'] + '\\n' + df_fake['text']\n",
    "df_fake.drop('title',axis=1,inplace=True)\n",
    "df_fake.head()"
   ]
  },
  {
   "cell_type": "code",
   "execution_count": 6,
   "metadata": {},
   "outputs": [
    {
     "data": {
      "text/html": [
       "<div>\n",
       "<style scoped>\n",
       "    .dataframe tbody tr th:only-of-type {\n",
       "        vertical-align: middle;\n",
       "    }\n",
       "\n",
       "    .dataframe tbody tr th {\n",
       "        vertical-align: top;\n",
       "    }\n",
       "\n",
       "    .dataframe thead th {\n",
       "        text-align: right;\n",
       "    }\n",
       "</style>\n",
       "<table border=\"1\" class=\"dataframe\">\n",
       "  <thead>\n",
       "    <tr style=\"text-align: right;\">\n",
       "      <th></th>\n",
       "      <th>text</th>\n",
       "      <th>subject</th>\n",
       "      <th>date</th>\n",
       "      <th>isFake</th>\n",
       "    </tr>\n",
       "  </thead>\n",
       "  <tbody>\n",
       "    <tr>\n",
       "      <th>0</th>\n",
       "      <td>Donald Trump Sends Out Embarrassing New Year’...</td>\n",
       "      <td>News</td>\n",
       "      <td>December 31, 2017</td>\n",
       "      <td>1</td>\n",
       "    </tr>\n",
       "    <tr>\n",
       "      <th>1</th>\n",
       "      <td>Drunk Bragging Trump Staffer Started Russian ...</td>\n",
       "      <td>News</td>\n",
       "      <td>December 31, 2017</td>\n",
       "      <td>1</td>\n",
       "    </tr>\n",
       "    <tr>\n",
       "      <th>2</th>\n",
       "      <td>Sheriff David Clarke Becomes An Internet Joke...</td>\n",
       "      <td>News</td>\n",
       "      <td>December 30, 2017</td>\n",
       "      <td>1</td>\n",
       "    </tr>\n",
       "    <tr>\n",
       "      <th>3</th>\n",
       "      <td>Trump Is So Obsessed He Even Has Obama’s Name...</td>\n",
       "      <td>News</td>\n",
       "      <td>December 29, 2017</td>\n",
       "      <td>1</td>\n",
       "    </tr>\n",
       "    <tr>\n",
       "      <th>4</th>\n",
       "      <td>Pope Francis Just Called Out Donald Trump Dur...</td>\n",
       "      <td>News</td>\n",
       "      <td>December 25, 2017</td>\n",
       "      <td>1</td>\n",
       "    </tr>\n",
       "  </tbody>\n",
       "</table>\n",
       "</div>"
      ],
      "text/plain": [
       "                                                text subject  \\\n",
       "0   Donald Trump Sends Out Embarrassing New Year’...    News   \n",
       "1   Drunk Bragging Trump Staffer Started Russian ...    News   \n",
       "2   Sheriff David Clarke Becomes An Internet Joke...    News   \n",
       "3   Trump Is So Obsessed He Even Has Obama’s Name...    News   \n",
       "4   Pope Francis Just Called Out Donald Trump Dur...    News   \n",
       "\n",
       "                date  isFake  \n",
       "0  December 31, 2017       1  \n",
       "1  December 31, 2017       1  \n",
       "2  December 30, 2017       1  \n",
       "3  December 29, 2017       1  \n",
       "4  December 25, 2017       1  "
      ]
     },
     "execution_count": 6,
     "metadata": {},
     "output_type": "execute_result"
    }
   ],
   "source": [
    "df_fake['isFake'] = 1\n",
    "df_fake.head()"
   ]
  },
  {
   "cell_type": "markdown",
   "id": "af6aeb21",
   "metadata": {},
   "source": [
    "### Real"
   ]
  },
  {
   "cell_type": "code",
   "execution_count": 7,
   "id": "fbbaccc0",
   "metadata": {},
   "outputs": [
    {
     "data": {
      "text/html": [
       "<div>\n",
       "<style scoped>\n",
       "    .dataframe tbody tr th:only-of-type {\n",
       "        vertical-align: middle;\n",
       "    }\n",
       "\n",
       "    .dataframe tbody tr th {\n",
       "        vertical-align: top;\n",
       "    }\n",
       "\n",
       "    .dataframe thead th {\n",
       "        text-align: right;\n",
       "    }\n",
       "</style>\n",
       "<table border=\"1\" class=\"dataframe\">\n",
       "  <thead>\n",
       "    <tr style=\"text-align: right;\">\n",
       "      <th></th>\n",
       "      <th>text</th>\n",
       "      <th>subject</th>\n",
       "      <th>date</th>\n",
       "    </tr>\n",
       "  </thead>\n",
       "  <tbody>\n",
       "    <tr>\n",
       "      <th>0</th>\n",
       "      <td>As U.S. budget fight looms, Republicans flip t...</td>\n",
       "      <td>politicsNews</td>\n",
       "      <td>December 31, 2017</td>\n",
       "    </tr>\n",
       "    <tr>\n",
       "      <th>1</th>\n",
       "      <td>U.S. military to accept transgender recruits o...</td>\n",
       "      <td>politicsNews</td>\n",
       "      <td>December 29, 2017</td>\n",
       "    </tr>\n",
       "    <tr>\n",
       "      <th>2</th>\n",
       "      <td>Senior U.S. Republican senator: 'Let Mr. Muell...</td>\n",
       "      <td>politicsNews</td>\n",
       "      <td>December 31, 2017</td>\n",
       "    </tr>\n",
       "    <tr>\n",
       "      <th>3</th>\n",
       "      <td>FBI Russia probe helped by Australian diplomat...</td>\n",
       "      <td>politicsNews</td>\n",
       "      <td>December 30, 2017</td>\n",
       "    </tr>\n",
       "    <tr>\n",
       "      <th>4</th>\n",
       "      <td>Trump wants Postal Service to charge 'much mor...</td>\n",
       "      <td>politicsNews</td>\n",
       "      <td>December 29, 2017</td>\n",
       "    </tr>\n",
       "  </tbody>\n",
       "</table>\n",
       "</div>"
      ],
      "text/plain": [
       "                                                text       subject  \\\n",
       "0  As U.S. budget fight looms, Republicans flip t...  politicsNews   \n",
       "1  U.S. military to accept transgender recruits o...  politicsNews   \n",
       "2  Senior U.S. Republican senator: 'Let Mr. Muell...  politicsNews   \n",
       "3  FBI Russia probe helped by Australian diplomat...  politicsNews   \n",
       "4  Trump wants Postal Service to charge 'much mor...  politicsNews   \n",
       "\n",
       "                 date  \n",
       "0  December 31, 2017   \n",
       "1  December 29, 2017   \n",
       "2  December 31, 2017   \n",
       "3  December 30, 2017   \n",
       "4  December 29, 2017   "
      ]
     },
     "execution_count": 7,
     "metadata": {},
     "output_type": "execute_result"
    }
   ],
   "source": [
    "df_real['text'] = df_real['title'] + '\\n' + df_real['text']\n",
    "df_real.drop('title',axis=1,inplace=True)\n",
    "df_real.head()"
   ]
  },
  {
   "cell_type": "code",
   "execution_count": 8,
   "metadata": {},
   "outputs": [
    {
     "data": {
      "text/html": [
       "<div>\n",
       "<style scoped>\n",
       "    .dataframe tbody tr th:only-of-type {\n",
       "        vertical-align: middle;\n",
       "    }\n",
       "\n",
       "    .dataframe tbody tr th {\n",
       "        vertical-align: top;\n",
       "    }\n",
       "\n",
       "    .dataframe thead th {\n",
       "        text-align: right;\n",
       "    }\n",
       "</style>\n",
       "<table border=\"1\" class=\"dataframe\">\n",
       "  <thead>\n",
       "    <tr style=\"text-align: right;\">\n",
       "      <th></th>\n",
       "      <th>text</th>\n",
       "      <th>subject</th>\n",
       "      <th>date</th>\n",
       "      <th>isFake</th>\n",
       "    </tr>\n",
       "  </thead>\n",
       "  <tbody>\n",
       "    <tr>\n",
       "      <th>0</th>\n",
       "      <td>As U.S. budget fight looms, Republicans flip t...</td>\n",
       "      <td>politicsNews</td>\n",
       "      <td>December 31, 2017</td>\n",
       "      <td>0</td>\n",
       "    </tr>\n",
       "    <tr>\n",
       "      <th>1</th>\n",
       "      <td>U.S. military to accept transgender recruits o...</td>\n",
       "      <td>politicsNews</td>\n",
       "      <td>December 29, 2017</td>\n",
       "      <td>0</td>\n",
       "    </tr>\n",
       "    <tr>\n",
       "      <th>2</th>\n",
       "      <td>Senior U.S. Republican senator: 'Let Mr. Muell...</td>\n",
       "      <td>politicsNews</td>\n",
       "      <td>December 31, 2017</td>\n",
       "      <td>0</td>\n",
       "    </tr>\n",
       "    <tr>\n",
       "      <th>3</th>\n",
       "      <td>FBI Russia probe helped by Australian diplomat...</td>\n",
       "      <td>politicsNews</td>\n",
       "      <td>December 30, 2017</td>\n",
       "      <td>0</td>\n",
       "    </tr>\n",
       "    <tr>\n",
       "      <th>4</th>\n",
       "      <td>Trump wants Postal Service to charge 'much mor...</td>\n",
       "      <td>politicsNews</td>\n",
       "      <td>December 29, 2017</td>\n",
       "      <td>0</td>\n",
       "    </tr>\n",
       "  </tbody>\n",
       "</table>\n",
       "</div>"
      ],
      "text/plain": [
       "                                                text       subject  \\\n",
       "0  As U.S. budget fight looms, Republicans flip t...  politicsNews   \n",
       "1  U.S. military to accept transgender recruits o...  politicsNews   \n",
       "2  Senior U.S. Republican senator: 'Let Mr. Muell...  politicsNews   \n",
       "3  FBI Russia probe helped by Australian diplomat...  politicsNews   \n",
       "4  Trump wants Postal Service to charge 'much mor...  politicsNews   \n",
       "\n",
       "                 date  isFake  \n",
       "0  December 31, 2017        0  \n",
       "1  December 29, 2017        0  \n",
       "2  December 31, 2017        0  \n",
       "3  December 30, 2017        0  \n",
       "4  December 29, 2017        0  "
      ]
     },
     "execution_count": 8,
     "metadata": {},
     "output_type": "execute_result"
    }
   ],
   "source": [
    "df_real['isFake'] = 0\n",
    "df_real.head()"
   ]
  },
  {
   "cell_type": "markdown",
   "id": "a13f4639",
   "metadata": {},
   "source": [
    "### Union Data"
   ]
  },
  {
   "cell_type": "code",
   "execution_count": 9,
   "id": "ab9c53ae",
   "metadata": {},
   "outputs": [
    {
     "name": "stderr",
     "output_type": "stream",
     "text": [
      "C:\\Users\\admin\\AppData\\Local\\Temp\\ipykernel_2196\\1270347466.py:1: FutureWarning: The frame.append method is deprecated and will be removed from pandas in a future version. Use pandas.concat instead.\n",
      "  df = df_fake.append(df_real)\n"
     ]
    },
    {
     "data": {
      "text/html": [
       "<div>\n",
       "<style scoped>\n",
       "    .dataframe tbody tr th:only-of-type {\n",
       "        vertical-align: middle;\n",
       "    }\n",
       "\n",
       "    .dataframe tbody tr th {\n",
       "        vertical-align: top;\n",
       "    }\n",
       "\n",
       "    .dataframe thead th {\n",
       "        text-align: right;\n",
       "    }\n",
       "</style>\n",
       "<table border=\"1\" class=\"dataframe\">\n",
       "  <thead>\n",
       "    <tr style=\"text-align: right;\">\n",
       "      <th></th>\n",
       "      <th>text</th>\n",
       "      <th>subject</th>\n",
       "      <th>date</th>\n",
       "      <th>isFake</th>\n",
       "    </tr>\n",
       "  </thead>\n",
       "  <tbody>\n",
       "    <tr>\n",
       "      <th>0</th>\n",
       "      <td>Donald Trump Sends Out Embarrassing New Year’...</td>\n",
       "      <td>News</td>\n",
       "      <td>December 31, 2017</td>\n",
       "      <td>1</td>\n",
       "    </tr>\n",
       "    <tr>\n",
       "      <th>1</th>\n",
       "      <td>Drunk Bragging Trump Staffer Started Russian ...</td>\n",
       "      <td>News</td>\n",
       "      <td>December 31, 2017</td>\n",
       "      <td>1</td>\n",
       "    </tr>\n",
       "    <tr>\n",
       "      <th>2</th>\n",
       "      <td>Sheriff David Clarke Becomes An Internet Joke...</td>\n",
       "      <td>News</td>\n",
       "      <td>December 30, 2017</td>\n",
       "      <td>1</td>\n",
       "    </tr>\n",
       "    <tr>\n",
       "      <th>3</th>\n",
       "      <td>Trump Is So Obsessed He Even Has Obama’s Name...</td>\n",
       "      <td>News</td>\n",
       "      <td>December 29, 2017</td>\n",
       "      <td>1</td>\n",
       "    </tr>\n",
       "    <tr>\n",
       "      <th>4</th>\n",
       "      <td>Pope Francis Just Called Out Donald Trump Dur...</td>\n",
       "      <td>News</td>\n",
       "      <td>December 25, 2017</td>\n",
       "      <td>1</td>\n",
       "    </tr>\n",
       "  </tbody>\n",
       "</table>\n",
       "</div>"
      ],
      "text/plain": [
       "                                                text subject  \\\n",
       "0   Donald Trump Sends Out Embarrassing New Year’...    News   \n",
       "1   Drunk Bragging Trump Staffer Started Russian ...    News   \n",
       "2   Sheriff David Clarke Becomes An Internet Joke...    News   \n",
       "3   Trump Is So Obsessed He Even Has Obama’s Name...    News   \n",
       "4   Pope Francis Just Called Out Donald Trump Dur...    News   \n",
       "\n",
       "                date  isFake  \n",
       "0  December 31, 2017       1  \n",
       "1  December 31, 2017       1  \n",
       "2  December 30, 2017       1  \n",
       "3  December 29, 2017       1  \n",
       "4  December 25, 2017       1  "
      ]
     },
     "execution_count": 9,
     "metadata": {},
     "output_type": "execute_result"
    }
   ],
   "source": [
    "df = df_fake.append(df_real)\n",
    "df = df.loc[:,['text', 'subject', 'date', 'isFake']].copy()\n",
    "df.head()"
   ]
  },
  {
   "cell_type": "code",
   "execution_count": 10,
   "id": "8e462857",
   "metadata": {},
   "outputs": [
    {
     "data": {
      "text/plain": [
       "(44888, 4)"
      ]
     },
     "execution_count": 10,
     "metadata": {},
     "output_type": "execute_result"
    }
   ],
   "source": [
    "df.shape"
   ]
  },
  {
   "cell_type": "code",
   "execution_count": 11,
   "id": "ccfdad66",
   "metadata": {},
   "outputs": [
    {
     "data": {
      "text/plain": [
       "text       object\n",
       "subject    object\n",
       "date       object\n",
       "isFake      int64\n",
       "dtype: object"
      ]
     },
     "execution_count": 11,
     "metadata": {},
     "output_type": "execute_result"
    }
   ],
   "source": [
    "df.dtypes"
   ]
  },
  {
   "cell_type": "markdown",
   "id": "f9935f1a",
   "metadata": {},
   "source": [
    "## Saving Data"
   ]
  },
  {
   "cell_type": "code",
   "execution_count": 12,
   "id": "f6796e34",
   "metadata": {},
   "outputs": [],
   "source": [
    "df.to_csv(\"News.csv\", index=False)"
   ]
  },
  {
   "cell_type": "markdown",
   "metadata": {},
   "source": [
    "## Visualize"
   ]
  },
  {
   "cell_type": "code",
   "execution_count": 13,
   "metadata": {},
   "outputs": [
    {
     "data": {
      "text/plain": [
       "<AxesSubplot:xlabel='isFake', ylabel='count'>"
      ]
     },
     "execution_count": 13,
     "metadata": {},
     "output_type": "execute_result"
    },
    {
     "data": {
      "image/png": "[encoded data removed]",
      "text/plain": [
       "<Figure size 576x576 with 1 Axes>"
      ]
     },
     "metadata": {
      "needs_background": "light"
     },
     "output_type": "display_data"
    }
   ],
   "source": [
    "import matplotlib.pyplot as plt\n",
    "import seaborn as sns\n",
    "plt.figure(figsize = (8, 8))\n",
    "sns.countplot(x = \"isFake\", data = df)"
   ]
  },
  {
   "cell_type": "code",
   "execution_count": 14,
   "metadata": {},
   "outputs": [
    {
     "data": {
      "text/plain": [
       "<AxesSubplot:xlabel='count', ylabel='subject'>"
      ]
     },
     "execution_count": 14,
     "metadata": {},
     "output_type": "execute_result"
    },
    {
     "data": {
      "image/png": "[encoded data removed]",
      "text/plain": [
       "<Figure size 432x288 with 1 Axes>"
      ]
     },
     "metadata": {
      "needs_background": "light"
     },
     "output_type": "display_data"
    }
   ],
   "source": [
    "sns.countplot(y = \"subject\", data = df)"
   ]
  },
  {
   "cell_type": "markdown",
   "metadata": {},
   "source": [
    "## ARIMA"
   ]
  },
  {
   "cell_type": "code",
   "execution_count": 15,
   "metadata": {},
   "outputs": [
    {
     "data": {
      "text/plain": [
       "<AxesSubplot:xlabel='date'>"
      ]
     },
     "execution_count": 15,
     "metadata": {},
     "output_type": "execute_result"
    },
    {
     "data": {
      "image/png": "[encoded data removed]",
      "text/plain": [
       "<Figure size 432x288 with 1 Axes>"
      ]
     },
     "metadata": {
      "needs_background": "light"
     },
     "output_type": "display_data"
    }
   ],
   "source": [
    "df_plot = df.copy()\n",
    "df_plot['date'] = pd.to_datetime(df_plot['date'])\n",
    "df_plot.drop(['text', 'subject'],axis=1,inplace=True)\n",
    "df_end = df_plot.groupby(pd.Grouper(key = 'date', freq = 'W'))['isFake'].sum()\n",
    "df_end.drop(['2015-04-05', '2018-01-07', '2018-01-14', '2018-01-21', '2018-01-28', '2018-02-04', '2018-02-11', '2018-02-18', '2018-02-25'],axis=0,inplace=True)\n",
    "df_end.plot()"
   ]
  },
  {
   "cell_type": "code",
   "execution_count": 42,
   "metadata": {},
   "outputs": [
    {
     "data": {
      "image/png": "[encoded data removed]",
      "text/plain": [
       "<Figure size 576x396 with 2 Axes>"
      ]
     },
     "execution_count": 42,
     "metadata": {},
     "output_type": "execute_result"
    },
    {
     "data": {
      "image/png": "[encoded data removed]",
      "text/plain": [
       "<Figure size 576x396 with 2 Axes>"
      ]
     },
     "metadata": {},
     "output_type": "display_data"
    }
   ],
   "source": [
    "from statsmodels.tsa.arima_model import ARIMA\n",
    "\n",
    "from statsmodels.graphics.tsaplots import plot_acf\n",
    "from statsmodels.graphics.tsaplots import plot_pacf\n",
    "\n",
    "plt.figure()\n",
    "plt.subplot(211)\n",
    "plot_acf(df_end, lags =20, ax = plt.gca())\n",
    "plt.subplot(212)\n",
    "\n",
    "plot_pacf(df_end, method = 'ywmle', lags = 20, ax = plt.gca())"
   ]
  },
  {
   "cell_type": "code",
   "execution_count": 17,
   "metadata": {},
   "outputs": [
    {
     "data": {
      "text/plain": [
       "<AxesSubplot:xlabel='date'>"
      ]
     },
     "execution_count": 17,
     "metadata": {},
     "output_type": "execute_result"
    },
    {
     "data": {
      "image/png": "[encoded data removed]",
      "text/plain": [
       "<Figure size 432x288 with 1 Axes>"
      ]
     },
     "metadata": {
      "needs_background": "light"
     },
     "output_type": "display_data"
    }
   ],
   "source": [
    "z_1 = df_end.diff(periods=1)\n",
    "z_1.plot()"
   ]
  },
  {
   "cell_type": "code",
   "execution_count": 18,
   "metadata": {},
   "outputs": [
    {
     "data": {
      "image/png": "[encoded data removed]",
      "text/plain": [
       "<Figure size 432x288 with 2 Axes>"
      ]
     },
     "execution_count": 18,
     "metadata": {},
     "output_type": "execute_result"
    },
    {
     "data": {
      "image/png": "[encoded data removed]",
      "text/plain": [
       "<Figure size 432x288 with 2 Axes>"
      ]
     },
     "metadata": {
      "needs_background": "light"
     },
     "output_type": "display_data"
    }
   ],
   "source": [
    "z_1 = z_1.dropna()\n",
    "\n",
    "plt.figure()\n",
    "plt.subplot(211)\n",
    "plot_acf(z_1, lags =20, ax = plt.gca())\n",
    "plt.subplot(212)\n",
    "\n",
    "plot_pacf(z_1, method = 'ywmle', lags = 20, ax = plt.gca())"
   ]
  },
  {
   "cell_type": "markdown",
   "metadata": {},
   "source": [
    "## Classification"
   ]
  },
  {
   "cell_type": "code",
   "execution_count": 19,
   "metadata": {},
   "outputs": [
    {
     "data": {
      "text/html": [
       "<div>\n",
       "<style scoped>\n",
       "    .dataframe tbody tr th:only-of-type {\n",
       "        vertical-align: middle;\n",
       "    }\n",
       "\n",
       "    .dataframe tbody tr th {\n",
       "        vertical-align: top;\n",
       "    }\n",
       "\n",
       "    .dataframe thead th {\n",
       "        text-align: right;\n",
       "    }\n",
       "</style>\n",
       "<table border=\"1\" class=\"dataframe\">\n",
       "  <thead>\n",
       "    <tr style=\"text-align: right;\">\n",
       "      <th></th>\n",
       "      <th>text</th>\n",
       "      <th>subject</th>\n",
       "      <th>date</th>\n",
       "      <th>isFake</th>\n",
       "    </tr>\n",
       "  </thead>\n",
       "  <tbody>\n",
       "    <tr>\n",
       "      <th>0</th>\n",
       "      <td>Trump mulls new order to replace travel ban, n...</td>\n",
       "      <td>politicsNews</td>\n",
       "      <td>September 22, 2017</td>\n",
       "      <td>0</td>\n",
       "    </tr>\n",
       "    <tr>\n",
       "      <th>1</th>\n",
       "      <td>China upset by U.S. Republican platform on Sou...</td>\n",
       "      <td>politicsNews</td>\n",
       "      <td>July 21, 2016</td>\n",
       "      <td>0</td>\n",
       "    </tr>\n",
       "    <tr>\n",
       "      <th>2</th>\n",
       "      <td>U.S. Navy chief says forces in Asia may be rei...</td>\n",
       "      <td>worldnews</td>\n",
       "      <td>December 19, 2017</td>\n",
       "      <td>0</td>\n",
       "    </tr>\n",
       "    <tr>\n",
       "      <th>3</th>\n",
       "      <td>WATCH: GOP Leader Won’t Call Trump’s Attack O...</td>\n",
       "      <td>News</td>\n",
       "      <td>June 5, 2016</td>\n",
       "      <td>1</td>\n",
       "    </tr>\n",
       "    <tr>\n",
       "      <th>4</th>\n",
       "      <td>These Two Pictures Tell You Everything You Ne...</td>\n",
       "      <td>News</td>\n",
       "      <td>July 20, 2016</td>\n",
       "      <td>1</td>\n",
       "    </tr>\n",
       "  </tbody>\n",
       "</table>\n",
       "</div>"
      ],
      "text/plain": [
       "                                                text       subject  \\\n",
       "0  Trump mulls new order to replace travel ban, n...  politicsNews   \n",
       "1  China upset by U.S. Republican platform on Sou...  politicsNews   \n",
       "2  U.S. Navy chief says forces in Asia may be rei...     worldnews   \n",
       "3   WATCH: GOP Leader Won’t Call Trump’s Attack O...          News   \n",
       "4   These Two Pictures Tell You Everything You Ne...          News   \n",
       "\n",
       "                  date  isFake  \n",
       "0  September 22, 2017        0  \n",
       "1       July 21, 2016        0  \n",
       "2   December 19, 2017        0  \n",
       "3         June 5, 2016       1  \n",
       "4        July 20, 2016       1  "
      ]
     },
     "execution_count": 19,
     "metadata": {},
     "output_type": "execute_result"
    }
   ],
   "source": [
    "df = df.sample(10000, random_state=786).reset_index(drop=True)\n",
    "df.head()"
   ]
  },
  {
   "cell_type": "code",
   "execution_count": 20,
   "metadata": {},
   "outputs": [
    {
     "data": {
      "text/html": [
       "<style type=\"text/css\">\n",
       "</style>\n",
       "<table id=\"T_e3a33\">\n",
       "  <thead>\n",
       "    <tr>\n",
       "      <th id=\"T_e3a33_level0_col0\" class=\"col_heading level0 col0\" >Description</th>\n",
       "      <th id=\"T_e3a33_level0_col1\" class=\"col_heading level0 col1\" >Value</th>\n",
       "    </tr>\n",
       "  </thead>\n",
       "  <tbody>\n",
       "    <tr>\n",
       "      <td id=\"T_e3a33_row0_col0\" class=\"data row0 col0\" >session_id</td>\n",
       "      <td id=\"T_e3a33_row0_col1\" class=\"data row0 col1\" >123</td>\n",
       "    </tr>\n",
       "    <tr>\n",
       "      <td id=\"T_e3a33_row1_col0\" class=\"data row1 col0\" >Documents</td>\n",
       "      <td id=\"T_e3a33_row1_col1\" class=\"data row1 col1\" >10000</td>\n",
       "    </tr>\n",
       "    <tr>\n",
       "      <td id=\"T_e3a33_row2_col0\" class=\"data row2 col0\" >Vocab Size</td>\n",
       "      <td id=\"T_e3a33_row2_col1\" class=\"data row2 col1\" >34777</td>\n",
       "    </tr>\n",
       "    <tr>\n",
       "      <td id=\"T_e3a33_row3_col0\" class=\"data row3 col0\" >Custom Stopwords</td>\n",
       "      <td id=\"T_e3a33_row3_col1\" class=\"data row3 col1\" >False</td>\n",
       "    </tr>\n",
       "  </tbody>\n",
       "</table>\n"
      ],
      "text/plain": [
       "<pandas.io.formats.style.Styler at 0x13f9a912070>"
      ]
     },
     "metadata": {},
     "output_type": "display_data"
    }
   ],
   "source": [
    "import warnings\n",
    "warnings.filterwarnings(action='ignore')\n",
    "\n",
    "import plotly.express as px\n",
    "\n",
    "from matplotlib import rcParams\n",
    "\n",
    "from pycaret.nlp import *\n",
    "%time \n",
    "fake_news_nlp = setup(data = df, target = 'text', session_id = 123)"
   ]
  },
  {
   "cell_type": "code",
   "execution_count": 21,
   "metadata": {},
   "outputs": [
    {
     "data": {
      "text/html": [
       "        <script type=\"text/javascript\">\n",
       "        window.PlotlyConfig = {MathJaxConfig: 'local'};\n",
       "        if (window.MathJax && window.MathJax.Hub && window.MathJax.Hub.Config) {window.MathJax.Hub.Config({SVG: {font: \"STIX-Web\"}});}\n",
       "        if (typeof require !== 'undefined') {\n",
       "        require.undef(\"plotly\");\n",
       "        requirejs.config({\n",
       "            paths: {\n",
       "                'plotly': ['https://cdn.plot.ly/plotly-2.12.1.min']\n",
       "            }\n",
       "        });\n",
       "        require(['plotly'], function(Plotly) {\n",
       "            window._Plotly = Plotly;\n",
       "        });\n",
       "        }\n",
       "        </script>\n",
       "        "
      ]
     },
     "metadata": {},
     "output_type": "display_data"
    },
    {
     "data": {
      "application/vnd.plotly.v1+json": {
       "config": {
        "plotlyServerURL": "https://plot.ly"
       },
       "data": [
        {
         "alignmentgroup": "True",
         "customdata": [
          [
           "say, people, police, kill, man, attack, report, tell, group, take"
          ],
          [
           "trump, say, go, people, make, get, know, would, think, campaign"
          ],
          [
           "say, would, government, official, trump, also, military, country, former, election"
          ],
          [
           "say, would, state, law, year, percent, vote, government, rule, federal"
          ]
         ],
         "hovertemplate": "Topic=%{x}<br>Documents=%{y}<br>Keyword=%{customdata[0]}<extra></extra>",
         "legendgroup": "",
         "marker": {
          "color": "#636efa",
          "pattern": {
           "shape": ""
          }
         },
         "name": "",
         "offsetgroup": "",
         "orientation": "v",
         "showlegend": false,
         "textposition": "auto",
         "type": "bar",
         "x": [
          "Topic 0",
          "Topic 1",
          "Topic 2",
          "Topic 3"
         ],
         "xaxis": "x",
         "y": [
          1676,
          3646,
          3002,
          1676
         ],
         "yaxis": "y"
        }
       ],
       "layout": {
        "barmode": "relative",
        "legend": {
         "tracegroupgap": 0
        },
        "template": {
         "data": {
          "bar": [
           {
            "error_x": {
             "color": "#2a3f5f"
            },
            "error_y": {
             "color": "#2a3f5f"
            },
            "marker": {
             "line": {
              "color": "#E5ECF6",
              "width": 0.5
             },
             "pattern": {
              "fillmode": "overlay",
              "size": 10,
              "solidity": 0.2
             }
            },
            "type": "bar"
           }
          ],
          "barpolar": [
           {
            "marker": {
             "line": {
              "color": "#E5ECF6",
              "width": 0.5
             },
             "pattern": {
              "fillmode": "overlay",
              "size": 10,
              "solidity": 0.2
             }
            },
            "type": "barpolar"
           }
          ],
          "carpet": [
           {
            "aaxis": {
             "endlinecolor": "#2a3f5f",
             "gridcolor": "white",
             "linecolor": "white",
             "minorgridcolor": "white",
             "startlinecolor": "#2a3f5f"
            },
            "baxis": {
             "endlinecolor": "#2a3f5f",
             "gridcolor": "white",
             "linecolor": "white",
             "minorgridcolor": "white",
             "startlinecolor": "#2a3f5f"
            },
            "type": "carpet"
           }
          ],
          "choropleth": [
           {
            "colorbar": {
             "outlinewidth": 0,
             "ticks": ""
            },
            "type": "choropleth"
           }
          ],
          "contour": [
           {
            "colorbar": {
             "outlinewidth": 0,
             "ticks": ""
            },
            "colorscale": [
             [
              0,
              "#0d0887"
             ],
             [
              0.1111111111111111,
              "#46039f"
             ],
             [
              0.2222222222222222,
              "#7201a8"
             ],
             [
              0.3333333333333333,
              "#9c179e"
             ],
             [
              0.4444444444444444,
              "#bd3786"
             ],
             [
              0.5555555555555556,
              "#d8576b"
             ],
             [
              0.6666666666666666,
              "#ed7953"
             ],
             [
              0.7777777777777778,
              "#fb9f3a"
             ],
             [
              0.8888888888888888,
              "#fdca26"
             ],
             [
              1,
              "#f0f921"
             ]
            ],
            "type": "contour"
           }
          ],
          "contourcarpet": [
           {
            "colorbar": {
             "outlinewidth": 0,
             "ticks": ""
            },
            "type": "contourcarpet"
           }
          ],
          "heatmap": [
           {
            "colorbar": {
             "outlinewidth": 0,
             "ticks": ""
            },
            "colorscale": [
             [
              0,
              "#0d0887"
             ],
             [
              0.1111111111111111,
              "#46039f"
             ],
             [
              0.2222222222222222,
              "#7201a8"
             ],
             [
              0.3333333333333333,
              "#9c179e"
             ],
             [
              0.4444444444444444,
              "#bd3786"
             ],
             [
              0.5555555555555556,
              "#d8576b"
             ],
             [
              0.6666666666666666,
              "#ed7953"
             ],
             [
              0.7777777777777778,
              "#fb9f3a"
             ],
             [
              0.8888888888888888,
              "#fdca26"
             ],
             [
              1,
              "#f0f921"
             ]
            ],
            "type": "heatmap"
           }
          ],
          "heatmapgl": [
           {
            "colorbar": {
             "outlinewidth": 0,
             "ticks": ""
            },
            "colorscale": [
             [
              0,
              "#0d0887"
             ],
             [
              0.1111111111111111,
              "#46039f"
             ],
             [
              0.2222222222222222,
              "#7201a8"
             ],
             [
              0.3333333333333333,
              "#9c179e"
             ],
             [
              0.4444444444444444,
              "#bd3786"
             ],
             [
              0.5555555555555556,
              "#d8576b"
             ],
             [
              0.6666666666666666,
              "#ed7953"
             ],
             [
              0.7777777777777778,
              "#fb9f3a"
             ],
             [
              0.8888888888888888,
              "#fdca26"
             ],
             [
              1,
              "#f0f921"
             ]
            ],
            "type": "heatmapgl"
           }
          ],
          "histogram": [
           {
            "marker": {
             "pattern": {
              "fillmode": "overlay",
              "size": 10,
              "solidity": 0.2
             }
            },
            "type": "histogram"
           }
          ],
          "histogram2d": [
           {
            "colorbar": {
             "outlinewidth": 0,
             "ticks": ""
            },
            "colorscale": [
             [
              0,
              "#0d0887"
             ],
             [
              0.1111111111111111,
              "#46039f"
             ],
             [
              0.2222222222222222,
              "#7201a8"
             ],
             [
              0.3333333333333333,
              "#9c179e"
             ],
             [
              0.4444444444444444,
              "#bd3786"
             ],
             [
              0.5555555555555556,
              "#d8576b"
             ],
             [
              0.6666666666666666,
              "#ed7953"
             ],
             [
              0.7777777777777778,
              "#fb9f3a"
             ],
             [
              0.8888888888888888,
              "#fdca26"
             ],
             [
              1,
              "#f0f921"
             ]
            ],
            "type": "histogram2d"
           }
          ],
          "histogram2dcontour": [
           {
            "colorbar": {
             "outlinewidth": 0,
             "ticks": ""
            },
            "colorscale": [
             [
              0,
              "#0d0887"
             ],
             [
              0.1111111111111111,
              "#46039f"
             ],
             [
              0.2222222222222222,
              "#7201a8"
             ],
             [
              0.3333333333333333,
              "#9c179e"
             ],
             [
              0.4444444444444444,
              "#bd3786"
             ],
             [
              0.5555555555555556,
              "#d8576b"
             ],
             [
              0.6666666666666666,
              "#ed7953"
             ],
             [
              0.7777777777777778,
              "#fb9f3a"
             ],
             [
              0.8888888888888888,
              "#fdca26"
             ],
             [
              1,
              "#f0f921"
             ]
            ],
            "type": "histogram2dcontour"
           }
          ],
          "mesh3d": [
           {
            "colorbar": {
             "outlinewidth": 0,
             "ticks": ""
            },
            "type": "mesh3d"
           }
          ],
          "parcoords": [
           {
            "line": {
             "colorbar": {
              "outlinewidth": 0,
              "ticks": ""
             }
            },
            "type": "parcoords"
           }
          ],
          "pie": [
           {
            "automargin": true,
            "type": "pie"
           }
          ],
          "scatter": [
           {
            "fillpattern": {
             "fillmode": "overlay",
             "size": 10,
             "solidity": 0.2
            },
            "type": "scatter"
           }
          ],
          "scatter3d": [
           {
            "line": {
             "colorbar": {
              "outlinewidth": 0,
              "ticks": ""
             }
            },
            "marker": {
             "colorbar": {
              "outlinewidth": 0,
              "ticks": ""
             }
            },
            "type": "scatter3d"
           }
          ],
          "scattercarpet": [
           {
            "marker": {
             "colorbar": {
              "outlinewidth": 0,
              "ticks": ""
             }
            },
            "type": "scattercarpet"
           }
          ],
          "scattergeo": [
           {
            "marker": {
             "colorbar": {
              "outlinewidth": 0,
              "ticks": ""
             }
            },
            "type": "scattergeo"
           }
          ],
          "scattergl": [
           {
            "marker": {
             "colorbar": {
              "outlinewidth": 0,
              "ticks": ""
             }
            },
            "type": "scattergl"
           }
          ],
          "scattermapbox": [
           {
            "marker": {
             "colorbar": {
              "outlinewidth": 0,
              "ticks": ""
             }
            },
            "type": "scattermapbox"
           }
          ],
          "scatterpolar": [
           {
            "marker": {
             "colorbar": {
              "outlinewidth": 0,
              "ticks": ""
             }
            },
            "type": "scatterpolar"
           }
          ],
          "scatterpolargl": [
           {
            "marker": {
             "colorbar": {
              "outlinewidth": 0,
              "ticks": ""
             }
            },
            "type": "scatterpolargl"
           }
          ],
          "scatterternary": [
           {
            "marker": {
             "colorbar": {
              "outlinewidth": 0,
              "ticks": ""
             }
            },
            "type": "scatterternary"
           }
          ],
          "surface": [
           {
            "colorbar": {
             "outlinewidth": 0,
             "ticks": ""
            },
            "colorscale": [
             [
              0,
              "#0d0887"
             ],
             [
              0.1111111111111111,
              "#46039f"
             ],
             [
              0.2222222222222222,
              "#7201a8"
             ],
             [
              0.3333333333333333,
              "#9c179e"
             ],
             [
              0.4444444444444444,
              "#bd3786"
             ],
             [
              0.5555555555555556,
              "#d8576b"
             ],
             [
              0.6666666666666666,
              "#ed7953"
             ],
             [
              0.7777777777777778,
              "#fb9f3a"
             ],
             [
              0.8888888888888888,
              "#fdca26"
             ],
             [
              1,
              "#f0f921"
             ]
            ],
            "type": "surface"
           }
          ],
          "table": [
           {
            "cells": {
             "fill": {
              "color": "#EBF0F8"
             },
             "line": {
              "color": "white"
             }
            },
            "header": {
             "fill": {
              "color": "#C8D4E3"
             },
             "line": {
              "color": "white"
             }
            },
            "type": "table"
           }
          ]
         },
         "layout": {
          "annotationdefaults": {
           "arrowcolor": "#2a3f5f",
           "arrowhead": 0,
           "arrowwidth": 1
          },
          "autotypenumbers": "strict",
          "coloraxis": {
           "colorbar": {
            "outlinewidth": 0,
            "ticks": ""
           }
          },
          "colorscale": {
           "diverging": [
            [
             0,
             "#8e0152"
            ],
            [
             0.1,
             "#c51b7d"
            ],
            [
             0.2,
             "#de77ae"
            ],
            [
             0.3,
             "#f1b6da"
            ],
            [
             0.4,
             "#fde0ef"
            ],
            [
             0.5,
             "#f7f7f7"
            ],
            [
             0.6,
             "#e6f5d0"
            ],
            [
             0.7,
             "#b8e186"
            ],
            [
             0.8,
             "#7fbc41"
            ],
            [
             0.9,
             "#4d9221"
            ],
            [
             1,
             "#276419"
            ]
           ],
           "sequential": [
            [
             0,
             "#0d0887"
            ],
            [
             0.1111111111111111,
             "#46039f"
            ],
            [
             0.2222222222222222,
             "#7201a8"
            ],
            [
             0.3333333333333333,
             "#9c179e"
            ],
            [
             0.4444444444444444,
             "#bd3786"
            ],
            [
             0.5555555555555556,
             "#d8576b"
            ],
            [
             0.6666666666666666,
             "#ed7953"
            ],
            [
             0.7777777777777778,
             "#fb9f3a"
            ],
            [
             0.8888888888888888,
             "#fdca26"
            ],
            [
             1,
             "#f0f921"
            ]
           ],
           "sequentialminus": [
            [
             0,
             "#0d0887"
            ],
            [
             0.1111111111111111,
             "#46039f"
            ],
            [
             0.2222222222222222,
             "#7201a8"
            ],
            [
             0.3333333333333333,
             "#9c179e"
            ],
            [
             0.4444444444444444,
             "#bd3786"
            ],
            [
             0.5555555555555556,
             "#d8576b"
            ],
            [
             0.6666666666666666,
             "#ed7953"
            ],
            [
             0.7777777777777778,
             "#fb9f3a"
            ],
            [
             0.8888888888888888,
             "#fdca26"
            ],
            [
             1,
             "#f0f921"
            ]
           ]
          },
          "colorway": [
           "#636efa",
           "#EF553B",
           "#00cc96",
           "#ab63fa",
           "#FFA15A",
           "#19d3f3",
           "#FF6692",
           "#B6E880",
           "#FF97FF",
           "#FECB52"
          ],
          "font": {
           "color": "#2a3f5f"
          },
          "geo": {
           "bgcolor": "white",
           "lakecolor": "white",
           "landcolor": "#E5ECF6",
           "showlakes": true,
           "showland": true,
           "subunitcolor": "white"
          },
          "hoverlabel": {
           "align": "left"
          },
          "hovermode": "closest",
          "mapbox": {
           "style": "light"
          },
          "paper_bgcolor": "white",
          "plot_bgcolor": "#E5ECF6",
          "polar": {
           "angularaxis": {
            "gridcolor": "white",
            "linecolor": "white",
            "ticks": ""
           },
           "bgcolor": "#E5ECF6",
           "radialaxis": {
            "gridcolor": "white",
            "linecolor": "white",
            "ticks": ""
           }
          },
          "scene": {
           "xaxis": {
            "backgroundcolor": "#E5ECF6",
            "gridcolor": "white",
            "gridwidth": 2,
            "linecolor": "white",
            "showbackground": true,
            "ticks": "",
            "zerolinecolor": "white"
           },
           "yaxis": {
            "backgroundcolor": "#E5ECF6",
            "gridcolor": "white",
            "gridwidth": 2,
            "linecolor": "white",
            "showbackground": true,
            "ticks": "",
            "zerolinecolor": "white"
           },
           "zaxis": {
            "backgroundcolor": "#E5ECF6",
            "gridcolor": "white",
            "gridwidth": 2,
            "linecolor": "white",
            "showbackground": true,
            "ticks": "",
            "zerolinecolor": "white"
           }
          },
          "shapedefaults": {
           "line": {
            "color": "#2a3f5f"
           }
          },
          "ternary": {
           "aaxis": {
            "gridcolor": "white",
            "linecolor": "white",
            "ticks": ""
           },
           "baxis": {
            "gridcolor": "white",
            "linecolor": "white",
            "ticks": ""
           },
           "bgcolor": "#E5ECF6",
           "caxis": {
            "gridcolor": "white",
            "linecolor": "white",
            "ticks": ""
           }
          },
          "title": {
           "x": 0.05
          },
          "xaxis": {
           "automargin": true,
           "gridcolor": "white",
           "linecolor": "white",
           "ticks": "",
           "title": {
            "standoff": 15
           },
           "zerolinecolor": "white",
           "zerolinewidth": 2
          },
          "yaxis": {
           "automargin": true,
           "gridcolor": "white",
           "linecolor": "white",
           "ticks": "",
           "title": {
            "standoff": 15
           },
           "zerolinecolor": "white",
           "zerolinewidth": 2
          }
         }
        },
        "title": {
         "text": "Document Distribution by Topics"
        },
        "xaxis": {
         "anchor": "y",
         "domain": [
          0,
          1
         ],
         "title": {
          "text": "Topic"
         }
        },
        "yaxis": {
         "anchor": "x",
         "domain": [
          0,
          1
         ],
         "title": {
          "text": "Documents"
         }
        }
       }
      },
      "text/html": [
       "<div>                            <div id=\"b2ee8773-568b-4860-a426-41a7e1e6713c\" class=\"plotly-graph-div\" style=\"height:525px; width:100%;\"></div>            <script type=\"text/javascript\">                require([\"plotly\"], function(Plotly) {                    window.PLOTLYENV=window.PLOTLYENV || {};                                    if (document.getElementById(\"b2ee8773-568b-4860-a426-41a7e1e6713c\")) {                    Plotly.newPlot(                        \"b2ee8773-568b-4860-a426-41a7e1e6713c\",                        [{\"alignmentgroup\":\"True\",\"customdata\":[[\"say, people, police, kill, man, attack, report, tell, group, take\"],[\"trump, say, go, people, make, get, know, would, think, campaign\"],[\"say, would, government, official, trump, also, military, country, former, election\"],[\"say, would, state, law, year, percent, vote, government, rule, federal\"]],\"hovertemplate\":\"Topic=%{x}<br>Documents=%{y}<br>Keyword=%{customdata[0]}<extra></extra>\",\"legendgroup\":\"\",\"marker\":{\"color\":\"#636efa\",\"pattern\":{\"shape\":\"\"}},\"name\":\"\",\"offsetgroup\":\"\",\"orientation\":\"v\",\"showlegend\":false,\"textposition\":\"auto\",\"x\":[\"Topic 0\",\"Topic 1\",\"Topic 2\",\"Topic 3\"],\"xaxis\":\"x\",\"y\":[1676,3646,3002,1676],\"yaxis\":\"y\",\"type\":\"bar\"}],                        {\"template\":{\"data\":{\"histogram2dcontour\":[{\"type\":\"histogram2dcontour\",\"colorbar\":{\"outlinewidth\":0,\"ticks\":\"\"},\"colorscale\":[[0.0,\"#0d0887\"],[0.1111111111111111,\"#46039f\"],[0.2222222222222222,\"#7201a8\"],[0.3333333333333333,\"#9c179e\"],[0.4444444444444444,\"#bd3786\"],[0.5555555555555556,\"#d8576b\"],[0.6666666666666666,\"#ed7953\"],[0.7777777777777778,\"#fb9f3a\"],[0.8888888888888888,\"#fdca26\"],[1.0,\"#f0f921\"]]}],\"choropleth\":[{\"type\":\"choropleth\",\"colorbar\":{\"outlinewidth\":0,\"ticks\":\"\"}}],\"histogram2d\":[{\"type\":\"histogram2d\",\"colorbar\":{\"outlinewidth\":0,\"ticks\":\"\"},\"colorscale\":[[0.0,\"#0d0887\"],[0.1111111111111111,\"#46039f\"],[0.2222222222222222,\"#7201a8\"],[0.3333333333333333,\"#9c179e\"],[0.4444444444444444,\"#bd3786\"],[0.5555555555555556,\"#d8576b\"],[0.6666666666666666,\"#ed7953\"],[0.7777777777777778,\"#fb9f3a\"],[0.8888888888888888,\"#fdca26\"],[1.0,\"#f0f921\"]]}],\"heatmap\":[{\"type\":\"heatmap\",\"colorbar\":{\"outlinewidth\":0,\"ticks\":\"\"},\"colorscale\":[[0.0,\"#0d0887\"],[0.1111111111111111,\"#46039f\"],[0.2222222222222222,\"#7201a8\"],[0.3333333333333333,\"#9c179e\"],[0.4444444444444444,\"#bd3786\"],[0.5555555555555556,\"#d8576b\"],[0.6666666666666666,\"#ed7953\"],[0.7777777777777778,\"#fb9f3a\"],[0.8888888888888888,\"#fdca26\"],[1.0,\"#f0f921\"]]}],\"heatmapgl\":[{\"type\":\"heatmapgl\",\"colorbar\":{\"outlinewidth\":0,\"ticks\":\"\"},\"colorscale\":[[0.0,\"#0d0887\"],[0.1111111111111111,\"#46039f\"],[0.2222222222222222,\"#7201a8\"],[0.3333333333333333,\"#9c179e\"],[0.4444444444444444,\"#bd3786\"],[0.5555555555555556,\"#d8576b\"],[0.6666666666666666,\"#ed7953\"],[0.7777777777777778,\"#fb9f3a\"],[0.8888888888888888,\"#fdca26\"],[1.0,\"#f0f921\"]]}],\"contourcarpet\":[{\"type\":\"contourcarpet\",\"colorbar\":{\"outlinewidth\":0,\"ticks\":\"\"}}],\"contour\":[{\"type\":\"contour\",\"colorbar\":{\"outlinewidth\":0,\"ticks\":\"\"},\"colorscale\":[[0.0,\"#0d0887\"],[0.1111111111111111,\"#46039f\"],[0.2222222222222222,\"#7201a8\"],[0.3333333333333333,\"#9c179e\"],[0.4444444444444444,\"#bd3786\"],[0.5555555555555556,\"#d8576b\"],[0.6666666666666666,\"#ed7953\"],[0.7777777777777778,\"#fb9f3a\"],[0.8888888888888888,\"#fdca26\"],[1.0,\"#f0f921\"]]}],\"surface\":[{\"type\":\"surface\",\"colorbar\":{\"outlinewidth\":0,\"ticks\":\"\"},\"colorscale\":[[0.0,\"#0d0887\"],[0.1111111111111111,\"#46039f\"],[0.2222222222222222,\"#7201a8\"],[0.3333333333333333,\"#9c179e\"],[0.4444444444444444,\"#bd3786\"],[0.5555555555555556,\"#d8576b\"],[0.6666666666666666,\"#ed7953\"],[0.7777777777777778,\"#fb9f3a\"],[0.8888888888888888,\"#fdca26\"],[1.0,\"#f0f921\"]]}],\"mesh3d\":[{\"type\":\"mesh3d\",\"colorbar\":{\"outlinewidth\":0,\"ticks\":\"\"}}],\"scatter\":[{\"fillpattern\":{\"fillmode\":\"overlay\",\"size\":10,\"solidity\":0.2},\"type\":\"scatter\"}],\"parcoords\":[{\"type\":\"parcoords\",\"line\":{\"colorbar\":{\"outlinewidth\":0,\"ticks\":\"\"}}}],\"scatterpolargl\":[{\"type\":\"scatterpolargl\",\"marker\":{\"colorbar\":{\"outlinewidth\":0,\"ticks\":\"\"}}}],\"bar\":[{\"error_x\":{\"color\":\"#2a3f5f\"},\"error_y\":{\"color\":\"#2a3f5f\"},\"marker\":{\"line\":{\"color\":\"#E5ECF6\",\"width\":0.5},\"pattern\":{\"fillmode\":\"overlay\",\"size\":10,\"solidity\":0.2}},\"type\":\"bar\"}],\"scattergeo\":[{\"type\":\"scattergeo\",\"marker\":{\"colorbar\":{\"outlinewidth\":0,\"ticks\":\"\"}}}],\"scatterpolar\":[{\"type\":\"scatterpolar\",\"marker\":{\"colorbar\":{\"outlinewidth\":0,\"ticks\":\"\"}}}],\"histogram\":[{\"marker\":{\"pattern\":{\"fillmode\":\"overlay\",\"size\":10,\"solidity\":0.2}},\"type\":\"histogram\"}],\"scattergl\":[{\"type\":\"scattergl\",\"marker\":{\"colorbar\":{\"outlinewidth\":0,\"ticks\":\"\"}}}],\"scatter3d\":[{\"type\":\"scatter3d\",\"line\":{\"colorbar\":{\"outlinewidth\":0,\"ticks\":\"\"}},\"marker\":{\"colorbar\":{\"outlinewidth\":0,\"ticks\":\"\"}}}],\"scattermapbox\":[{\"type\":\"scattermapbox\",\"marker\":{\"colorbar\":{\"outlinewidth\":0,\"ticks\":\"\"}}}],\"scatterternary\":[{\"type\":\"scatterternary\",\"marker\":{\"colorbar\":{\"outlinewidth\":0,\"ticks\":\"\"}}}],\"scattercarpet\":[{\"type\":\"scattercarpet\",\"marker\":{\"colorbar\":{\"outlinewidth\":0,\"ticks\":\"\"}}}],\"carpet\":[{\"aaxis\":{\"endlinecolor\":\"#2a3f5f\",\"gridcolor\":\"white\",\"linecolor\":\"white\",\"minorgridcolor\":\"white\",\"startlinecolor\":\"#2a3f5f\"},\"baxis\":{\"endlinecolor\":\"#2a3f5f\",\"gridcolor\":\"white\",\"linecolor\":\"white\",\"minorgridcolor\":\"white\",\"startlinecolor\":\"#2a3f5f\"},\"type\":\"carpet\"}],\"table\":[{\"cells\":{\"fill\":{\"color\":\"#EBF0F8\"},\"line\":{\"color\":\"white\"}},\"header\":{\"fill\":{\"color\":\"#C8D4E3\"},\"line\":{\"color\":\"white\"}},\"type\":\"table\"}],\"barpolar\":[{\"marker\":{\"line\":{\"color\":\"#E5ECF6\",\"width\":0.5},\"pattern\":{\"fillmode\":\"overlay\",\"size\":10,\"solidity\":0.2}},\"type\":\"barpolar\"}],\"pie\":[{\"automargin\":true,\"type\":\"pie\"}]},\"layout\":{\"autotypenumbers\":\"strict\",\"colorway\":[\"#636efa\",\"#EF553B\",\"#00cc96\",\"#ab63fa\",\"#FFA15A\",\"#19d3f3\",\"#FF6692\",\"#B6E880\",\"#FF97FF\",\"#FECB52\"],\"font\":{\"color\":\"#2a3f5f\"},\"hovermode\":\"closest\",\"hoverlabel\":{\"align\":\"left\"},\"paper_bgcolor\":\"white\",\"plot_bgcolor\":\"#E5ECF6\",\"polar\":{\"bgcolor\":\"#E5ECF6\",\"angularaxis\":{\"gridcolor\":\"white\",\"linecolor\":\"white\",\"ticks\":\"\"},\"radialaxis\":{\"gridcolor\":\"white\",\"linecolor\":\"white\",\"ticks\":\"\"}},\"ternary\":{\"bgcolor\":\"#E5ECF6\",\"aaxis\":{\"gridcolor\":\"white\",\"linecolor\":\"white\",\"ticks\":\"\"},\"baxis\":{\"gridcolor\":\"white\",\"linecolor\":\"white\",\"ticks\":\"\"},\"caxis\":{\"gridcolor\":\"white\",\"linecolor\":\"white\",\"ticks\":\"\"}},\"coloraxis\":{\"colorbar\":{\"outlinewidth\":0,\"ticks\":\"\"}},\"colorscale\":{\"sequential\":[[0.0,\"#0d0887\"],[0.1111111111111111,\"#46039f\"],[0.2222222222222222,\"#7201a8\"],[0.3333333333333333,\"#9c179e\"],[0.4444444444444444,\"#bd3786\"],[0.5555555555555556,\"#d8576b\"],[0.6666666666666666,\"#ed7953\"],[0.7777777777777778,\"#fb9f3a\"],[0.8888888888888888,\"#fdca26\"],[1.0,\"#f0f921\"]],\"sequentialminus\":[[0.0,\"#0d0887\"],[0.1111111111111111,\"#46039f\"],[0.2222222222222222,\"#7201a8\"],[0.3333333333333333,\"#9c179e\"],[0.4444444444444444,\"#bd3786\"],[0.5555555555555556,\"#d8576b\"],[0.6666666666666666,\"#ed7953\"],[0.7777777777777778,\"#fb9f3a\"],[0.8888888888888888,\"#fdca26\"],[1.0,\"#f0f921\"]],\"diverging\":[[0,\"#8e0152\"],[0.1,\"#c51b7d\"],[0.2,\"#de77ae\"],[0.3,\"#f1b6da\"],[0.4,\"#fde0ef\"],[0.5,\"#f7f7f7\"],[0.6,\"#e6f5d0\"],[0.7,\"#b8e186\"],[0.8,\"#7fbc41\"],[0.9,\"#4d9221\"],[1,\"#276419\"]]},\"xaxis\":{\"gridcolor\":\"white\",\"linecolor\":\"white\",\"ticks\":\"\",\"title\":{\"standoff\":15},\"zerolinecolor\":\"white\",\"automargin\":true,\"zerolinewidth\":2},\"yaxis\":{\"gridcolor\":\"white\",\"linecolor\":\"white\",\"ticks\":\"\",\"title\":{\"standoff\":15},\"zerolinecolor\":\"white\",\"automargin\":true,\"zerolinewidth\":2},\"scene\":{\"xaxis\":{\"backgroundcolor\":\"#E5ECF6\",\"gridcolor\":\"white\",\"linecolor\":\"white\",\"showbackground\":true,\"ticks\":\"\",\"zerolinecolor\":\"white\",\"gridwidth\":2},\"yaxis\":{\"backgroundcolor\":\"#E5ECF6\",\"gridcolor\":\"white\",\"linecolor\":\"white\",\"showbackground\":true,\"ticks\":\"\",\"zerolinecolor\":\"white\",\"gridwidth\":2},\"zaxis\":{\"backgroundcolor\":\"#E5ECF6\",\"gridcolor\":\"white\",\"linecolor\":\"white\",\"showbackground\":true,\"ticks\":\"\",\"zerolinecolor\":\"white\",\"gridwidth\":2}},\"shapedefaults\":{\"line\":{\"color\":\"#2a3f5f\"}},\"annotationdefaults\":{\"arrowcolor\":\"#2a3f5f\",\"arrowhead\":0,\"arrowwidth\":1},\"geo\":{\"bgcolor\":\"white\",\"landcolor\":\"#E5ECF6\",\"subunitcolor\":\"white\",\"showland\":true,\"showlakes\":true,\"lakecolor\":\"white\"},\"title\":{\"x\":0.05},\"mapbox\":{\"style\":\"light\"}}},\"xaxis\":{\"anchor\":\"y\",\"domain\":[0.0,1.0],\"title\":{\"text\":\"Topic\"}},\"yaxis\":{\"anchor\":\"x\",\"domain\":[0.0,1.0],\"title\":{\"text\":\"Documents\"}},\"legend\":{\"tracegroupgap\":0},\"title\":{\"text\":\"Document Distribution by Topics\"},\"barmode\":\"relative\"},                        {\"responsive\": true}                    ).then(function(){\n",
       "                            \n",
       "var gd = document.getElementById('b2ee8773-568b-4860-a426-41a7e1e6713c');\n",
       "var x = new MutationObserver(function (mutations, observer) {{\n",
       "        var display = window.getComputedStyle(gd).display;\n",
       "        if (!display || display === 'none') {{\n",
       "            console.log([gd, 'removed!']);\n",
       "            Plotly.purge(gd);\n",
       "            observer.disconnect();\n",
       "        }}\n",
       "}});\n",
       "\n",
       "// Listen for the removal of the full notebook cells\n",
       "var notebookContainer = gd.closest('#notebook-container');\n",
       "if (notebookContainer) {{\n",
       "    x.observe(notebookContainer, {childList: true});\n",
       "}}\n",
       "\n",
       "// Listen for the clearing of the current output cell\n",
       "var outputEl = gd.closest('.output');\n",
       "if (outputEl) {{\n",
       "    x.observe(outputEl, {childList: true});\n",
       "}}\n",
       "\n",
       "                        })                };                });            </script>        </div>"
      ]
     },
     "metadata": {},
     "output_type": "display_data"
    }
   ],
   "source": [
    "lda = create_model('lda', multi_core = True)\n",
    "plot_model(lda,plot='topic_distribution')"
   ]
  },
  {
   "cell_type": "code",
   "execution_count": 22,
   "metadata": {},
   "outputs": [],
   "source": [
    "%time\n",
    "lda_df = assign_model(lda)\n",
    "lda_df.drop([\"text\", \"subject\",\"date\"], axis = 1, inplace=True, errors='ignore')"
   ]
  },
  {
   "cell_type": "code",
   "execution_count": 23,
   "metadata": {},
   "outputs": [
    {
     "data": {
      "text/html": [
       "<style type=\"text/css\">\n",
       "#T_363c4_row44_col1 {\n",
       "  background-color: lightgreen;\n",
       "}\n",
       "</style>\n",
       "<table id=\"T_363c4\">\n",
       "  <thead>\n",
       "    <tr>\n",
       "      <th class=\"blank level0\" >&nbsp;</th>\n",
       "      <th id=\"T_363c4_level0_col0\" class=\"col_heading level0 col0\" >Description</th>\n",
       "      <th id=\"T_363c4_level0_col1\" class=\"col_heading level0 col1\" >Value</th>\n",
       "    </tr>\n",
       "  </thead>\n",
       "  <tbody>\n",
       "    <tr>\n",
       "      <th id=\"T_363c4_level0_row0\" class=\"row_heading level0 row0\" >0</th>\n",
       "      <td id=\"T_363c4_row0_col0\" class=\"data row0 col0\" >session_id</td>\n",
       "      <td id=\"T_363c4_row0_col1\" class=\"data row0 col1\" >7867</td>\n",
       "    </tr>\n",
       "    <tr>\n",
       "      <th id=\"T_363c4_level0_row1\" class=\"row_heading level0 row1\" >1</th>\n",
       "      <td id=\"T_363c4_row1_col0\" class=\"data row1 col0\" >Target</td>\n",
       "      <td id=\"T_363c4_row1_col1\" class=\"data row1 col1\" >isFake</td>\n",
       "    </tr>\n",
       "    <tr>\n",
       "      <th id=\"T_363c4_level0_row2\" class=\"row_heading level0 row2\" >2</th>\n",
       "      <td id=\"T_363c4_row2_col0\" class=\"data row2 col0\" >Target Type</td>\n",
       "      <td id=\"T_363c4_row2_col1\" class=\"data row2 col1\" >Binary</td>\n",
       "    </tr>\n",
       "    <tr>\n",
       "      <th id=\"T_363c4_level0_row3\" class=\"row_heading level0 row3\" >3</th>\n",
       "      <td id=\"T_363c4_row3_col0\" class=\"data row3 col0\" >Label Encoded</td>\n",
       "      <td id=\"T_363c4_row3_col1\" class=\"data row3 col1\" >None</td>\n",
       "    </tr>\n",
       "    <tr>\n",
       "      <th id=\"T_363c4_level0_row4\" class=\"row_heading level0 row4\" >4</th>\n",
       "      <td id=\"T_363c4_row4_col0\" class=\"data row4 col0\" >Original Data</td>\n",
       "      <td id=\"T_363c4_row4_col1\" class=\"data row4 col1\" >(10000, 7)</td>\n",
       "    </tr>\n",
       "    <tr>\n",
       "      <th id=\"T_363c4_level0_row5\" class=\"row_heading level0 row5\" >5</th>\n",
       "      <td id=\"T_363c4_row5_col0\" class=\"data row5 col0\" >Missing Values</td>\n",
       "      <td id=\"T_363c4_row5_col1\" class=\"data row5 col1\" >False</td>\n",
       "    </tr>\n",
       "    <tr>\n",
       "      <th id=\"T_363c4_level0_row6\" class=\"row_heading level0 row6\" >6</th>\n",
       "      <td id=\"T_363c4_row6_col0\" class=\"data row6 col0\" >Numeric Features</td>\n",
       "      <td id=\"T_363c4_row6_col1\" class=\"data row6 col1\" >5</td>\n",
       "    </tr>\n",
       "    <tr>\n",
       "      <th id=\"T_363c4_level0_row7\" class=\"row_heading level0 row7\" >7</th>\n",
       "      <td id=\"T_363c4_row7_col0\" class=\"data row7 col0\" >Categorical Features</td>\n",
       "      <td id=\"T_363c4_row7_col1\" class=\"data row7 col1\" >1</td>\n",
       "    </tr>\n",
       "    <tr>\n",
       "      <th id=\"T_363c4_level0_row8\" class=\"row_heading level0 row8\" >8</th>\n",
       "      <td id=\"T_363c4_row8_col0\" class=\"data row8 col0\" >Ordinal Features</td>\n",
       "      <td id=\"T_363c4_row8_col1\" class=\"data row8 col1\" >False</td>\n",
       "    </tr>\n",
       "    <tr>\n",
       "      <th id=\"T_363c4_level0_row9\" class=\"row_heading level0 row9\" >9</th>\n",
       "      <td id=\"T_363c4_row9_col0\" class=\"data row9 col0\" >High Cardinality Features</td>\n",
       "      <td id=\"T_363c4_row9_col1\" class=\"data row9 col1\" >False</td>\n",
       "    </tr>\n",
       "    <tr>\n",
       "      <th id=\"T_363c4_level0_row10\" class=\"row_heading level0 row10\" >10</th>\n",
       "      <td id=\"T_363c4_row10_col0\" class=\"data row10 col0\" >High Cardinality Method</td>\n",
       "      <td id=\"T_363c4_row10_col1\" class=\"data row10 col1\" >None</td>\n",
       "    </tr>\n",
       "    <tr>\n",
       "      <th id=\"T_363c4_level0_row11\" class=\"row_heading level0 row11\" >11</th>\n",
       "      <td id=\"T_363c4_row11_col0\" class=\"data row11 col0\" >Transformed Train Set</td>\n",
       "      <td id=\"T_363c4_row11_col1\" class=\"data row11 col1\" >(6999, 9)</td>\n",
       "    </tr>\n",
       "    <tr>\n",
       "      <th id=\"T_363c4_level0_row12\" class=\"row_heading level0 row12\" >12</th>\n",
       "      <td id=\"T_363c4_row12_col0\" class=\"data row12 col0\" >Transformed Test Set</td>\n",
       "      <td id=\"T_363c4_row12_col1\" class=\"data row12 col1\" >(3001, 9)</td>\n",
       "    </tr>\n",
       "    <tr>\n",
       "      <th id=\"T_363c4_level0_row13\" class=\"row_heading level0 row13\" >13</th>\n",
       "      <td id=\"T_363c4_row13_col0\" class=\"data row13 col0\" >Shuffle Train-Test</td>\n",
       "      <td id=\"T_363c4_row13_col1\" class=\"data row13 col1\" >True</td>\n",
       "    </tr>\n",
       "    <tr>\n",
       "      <th id=\"T_363c4_level0_row14\" class=\"row_heading level0 row14\" >14</th>\n",
       "      <td id=\"T_363c4_row14_col0\" class=\"data row14 col0\" >Stratify Train-Test</td>\n",
       "      <td id=\"T_363c4_row14_col1\" class=\"data row14 col1\" >False</td>\n",
       "    </tr>\n",
       "    <tr>\n",
       "      <th id=\"T_363c4_level0_row15\" class=\"row_heading level0 row15\" >15</th>\n",
       "      <td id=\"T_363c4_row15_col0\" class=\"data row15 col0\" >Fold Generator</td>\n",
       "      <td id=\"T_363c4_row15_col1\" class=\"data row15 col1\" >StratifiedKFold</td>\n",
       "    </tr>\n",
       "    <tr>\n",
       "      <th id=\"T_363c4_level0_row16\" class=\"row_heading level0 row16\" >16</th>\n",
       "      <td id=\"T_363c4_row16_col0\" class=\"data row16 col0\" >Fold Number</td>\n",
       "      <td id=\"T_363c4_row16_col1\" class=\"data row16 col1\" >10</td>\n",
       "    </tr>\n",
       "    <tr>\n",
       "      <th id=\"T_363c4_level0_row17\" class=\"row_heading level0 row17\" >17</th>\n",
       "      <td id=\"T_363c4_row17_col0\" class=\"data row17 col0\" >CPU Jobs</td>\n",
       "      <td id=\"T_363c4_row17_col1\" class=\"data row17 col1\" >-1</td>\n",
       "    </tr>\n",
       "    <tr>\n",
       "      <th id=\"T_363c4_level0_row18\" class=\"row_heading level0 row18\" >18</th>\n",
       "      <td id=\"T_363c4_row18_col0\" class=\"data row18 col0\" >Use GPU</td>\n",
       "      <td id=\"T_363c4_row18_col1\" class=\"data row18 col1\" >False</td>\n",
       "    </tr>\n",
       "    <tr>\n",
       "      <th id=\"T_363c4_level0_row19\" class=\"row_heading level0 row19\" >19</th>\n",
       "      <td id=\"T_363c4_row19_col0\" class=\"data row19 col0\" >Log Experiment</td>\n",
       "      <td id=\"T_363c4_row19_col1\" class=\"data row19 col1\" >False</td>\n",
       "    </tr>\n",
       "    <tr>\n",
       "      <th id=\"T_363c4_level0_row20\" class=\"row_heading level0 row20\" >20</th>\n",
       "      <td id=\"T_363c4_row20_col0\" class=\"data row20 col0\" >Experiment Name</td>\n",
       "      <td id=\"T_363c4_row20_col1\" class=\"data row20 col1\" >clf-default-name</td>\n",
       "    </tr>\n",
       "    <tr>\n",
       "      <th id=\"T_363c4_level0_row21\" class=\"row_heading level0 row21\" >21</th>\n",
       "      <td id=\"T_363c4_row21_col0\" class=\"data row21 col0\" >USI</td>\n",
       "      <td id=\"T_363c4_row21_col1\" class=\"data row21 col1\" >bf3e</td>\n",
       "    </tr>\n",
       "    <tr>\n",
       "      <th id=\"T_363c4_level0_row22\" class=\"row_heading level0 row22\" >22</th>\n",
       "      <td id=\"T_363c4_row22_col0\" class=\"data row22 col0\" >Imputation Type</td>\n",
       "      <td id=\"T_363c4_row22_col1\" class=\"data row22 col1\" >simple</td>\n",
       "    </tr>\n",
       "    <tr>\n",
       "      <th id=\"T_363c4_level0_row23\" class=\"row_heading level0 row23\" >23</th>\n",
       "      <td id=\"T_363c4_row23_col0\" class=\"data row23 col0\" >Iterative Imputation Iteration</td>\n",
       "      <td id=\"T_363c4_row23_col1\" class=\"data row23 col1\" >None</td>\n",
       "    </tr>\n",
       "    <tr>\n",
       "      <th id=\"T_363c4_level0_row24\" class=\"row_heading level0 row24\" >24</th>\n",
       "      <td id=\"T_363c4_row24_col0\" class=\"data row24 col0\" >Numeric Imputer</td>\n",
       "      <td id=\"T_363c4_row24_col1\" class=\"data row24 col1\" >mean</td>\n",
       "    </tr>\n",
       "    <tr>\n",
       "      <th id=\"T_363c4_level0_row25\" class=\"row_heading level0 row25\" >25</th>\n",
       "      <td id=\"T_363c4_row25_col0\" class=\"data row25 col0\" >Iterative Imputation Numeric Model</td>\n",
       "      <td id=\"T_363c4_row25_col1\" class=\"data row25 col1\" >None</td>\n",
       "    </tr>\n",
       "    <tr>\n",
       "      <th id=\"T_363c4_level0_row26\" class=\"row_heading level0 row26\" >26</th>\n",
       "      <td id=\"T_363c4_row26_col0\" class=\"data row26 col0\" >Categorical Imputer</td>\n",
       "      <td id=\"T_363c4_row26_col1\" class=\"data row26 col1\" >constant</td>\n",
       "    </tr>\n",
       "    <tr>\n",
       "      <th id=\"T_363c4_level0_row27\" class=\"row_heading level0 row27\" >27</th>\n",
       "      <td id=\"T_363c4_row27_col0\" class=\"data row27 col0\" >Iterative Imputation Categorical Model</td>\n",
       "      <td id=\"T_363c4_row27_col1\" class=\"data row27 col1\" >None</td>\n",
       "    </tr>\n",
       "    <tr>\n",
       "      <th id=\"T_363c4_level0_row28\" class=\"row_heading level0 row28\" >28</th>\n",
       "      <td id=\"T_363c4_row28_col0\" class=\"data row28 col0\" >Unknown Categoricals Handling</td>\n",
       "      <td id=\"T_363c4_row28_col1\" class=\"data row28 col1\" >least_frequent</td>\n",
       "    </tr>\n",
       "    <tr>\n",
       "      <th id=\"T_363c4_level0_row29\" class=\"row_heading level0 row29\" >29</th>\n",
       "      <td id=\"T_363c4_row29_col0\" class=\"data row29 col0\" >Normalize</td>\n",
       "      <td id=\"T_363c4_row29_col1\" class=\"data row29 col1\" >False</td>\n",
       "    </tr>\n",
       "    <tr>\n",
       "      <th id=\"T_363c4_level0_row30\" class=\"row_heading level0 row30\" >30</th>\n",
       "      <td id=\"T_363c4_row30_col0\" class=\"data row30 col0\" >Normalize Method</td>\n",
       "      <td id=\"T_363c4_row30_col1\" class=\"data row30 col1\" >None</td>\n",
       "    </tr>\n",
       "    <tr>\n",
       "      <th id=\"T_363c4_level0_row31\" class=\"row_heading level0 row31\" >31</th>\n",
       "      <td id=\"T_363c4_row31_col0\" class=\"data row31 col0\" >Transformation</td>\n",
       "      <td id=\"T_363c4_row31_col1\" class=\"data row31 col1\" >False</td>\n",
       "    </tr>\n",
       "    <tr>\n",
       "      <th id=\"T_363c4_level0_row32\" class=\"row_heading level0 row32\" >32</th>\n",
       "      <td id=\"T_363c4_row32_col0\" class=\"data row32 col0\" >Transformation Method</td>\n",
       "      <td id=\"T_363c4_row32_col1\" class=\"data row32 col1\" >None</td>\n",
       "    </tr>\n",
       "    <tr>\n",
       "      <th id=\"T_363c4_level0_row33\" class=\"row_heading level0 row33\" >33</th>\n",
       "      <td id=\"T_363c4_row33_col0\" class=\"data row33 col0\" >PCA</td>\n",
       "      <td id=\"T_363c4_row33_col1\" class=\"data row33 col1\" >False</td>\n",
       "    </tr>\n",
       "    <tr>\n",
       "      <th id=\"T_363c4_level0_row34\" class=\"row_heading level0 row34\" >34</th>\n",
       "      <td id=\"T_363c4_row34_col0\" class=\"data row34 col0\" >PCA Method</td>\n",
       "      <td id=\"T_363c4_row34_col1\" class=\"data row34 col1\" >None</td>\n",
       "    </tr>\n",
       "    <tr>\n",
       "      <th id=\"T_363c4_level0_row35\" class=\"row_heading level0 row35\" >35</th>\n",
       "      <td id=\"T_363c4_row35_col0\" class=\"data row35 col0\" >PCA Components</td>\n",
       "      <td id=\"T_363c4_row35_col1\" class=\"data row35 col1\" >None</td>\n",
       "    </tr>\n",
       "    <tr>\n",
       "      <th id=\"T_363c4_level0_row36\" class=\"row_heading level0 row36\" >36</th>\n",
       "      <td id=\"T_363c4_row36_col0\" class=\"data row36 col0\" >Ignore Low Variance</td>\n",
       "      <td id=\"T_363c4_row36_col1\" class=\"data row36 col1\" >False</td>\n",
       "    </tr>\n",
       "    <tr>\n",
       "      <th id=\"T_363c4_level0_row37\" class=\"row_heading level0 row37\" >37</th>\n",
       "      <td id=\"T_363c4_row37_col0\" class=\"data row37 col0\" >Combine Rare Levels</td>\n",
       "      <td id=\"T_363c4_row37_col1\" class=\"data row37 col1\" >False</td>\n",
       "    </tr>\n",
       "    <tr>\n",
       "      <th id=\"T_363c4_level0_row38\" class=\"row_heading level0 row38\" >38</th>\n",
       "      <td id=\"T_363c4_row38_col0\" class=\"data row38 col0\" >Rare Level Threshold</td>\n",
       "      <td id=\"T_363c4_row38_col1\" class=\"data row38 col1\" >None</td>\n",
       "    </tr>\n",
       "    <tr>\n",
       "      <th id=\"T_363c4_level0_row39\" class=\"row_heading level0 row39\" >39</th>\n",
       "      <td id=\"T_363c4_row39_col0\" class=\"data row39 col0\" >Numeric Binning</td>\n",
       "      <td id=\"T_363c4_row39_col1\" class=\"data row39 col1\" >False</td>\n",
       "    </tr>\n",
       "    <tr>\n",
       "      <th id=\"T_363c4_level0_row40\" class=\"row_heading level0 row40\" >40</th>\n",
       "      <td id=\"T_363c4_row40_col0\" class=\"data row40 col0\" >Remove Outliers</td>\n",
       "      <td id=\"T_363c4_row40_col1\" class=\"data row40 col1\" >False</td>\n",
       "    </tr>\n",
       "    <tr>\n",
       "      <th id=\"T_363c4_level0_row41\" class=\"row_heading level0 row41\" >41</th>\n",
       "      <td id=\"T_363c4_row41_col0\" class=\"data row41 col0\" >Outliers Threshold</td>\n",
       "      <td id=\"T_363c4_row41_col1\" class=\"data row41 col1\" >None</td>\n",
       "    </tr>\n",
       "    <tr>\n",
       "      <th id=\"T_363c4_level0_row42\" class=\"row_heading level0 row42\" >42</th>\n",
       "      <td id=\"T_363c4_row42_col0\" class=\"data row42 col0\" >Remove Multicollinearity</td>\n",
       "      <td id=\"T_363c4_row42_col1\" class=\"data row42 col1\" >False</td>\n",
       "    </tr>\n",
       "    <tr>\n",
       "      <th id=\"T_363c4_level0_row43\" class=\"row_heading level0 row43\" >43</th>\n",
       "      <td id=\"T_363c4_row43_col0\" class=\"data row43 col0\" >Multicollinearity Threshold</td>\n",
       "      <td id=\"T_363c4_row43_col1\" class=\"data row43 col1\" >None</td>\n",
       "    </tr>\n",
       "    <tr>\n",
       "      <th id=\"T_363c4_level0_row44\" class=\"row_heading level0 row44\" >44</th>\n",
       "      <td id=\"T_363c4_row44_col0\" class=\"data row44 col0\" >Remove Perfect Collinearity</td>\n",
       "      <td id=\"T_363c4_row44_col1\" class=\"data row44 col1\" >True</td>\n",
       "    </tr>\n",
       "    <tr>\n",
       "      <th id=\"T_363c4_level0_row45\" class=\"row_heading level0 row45\" >45</th>\n",
       "      <td id=\"T_363c4_row45_col0\" class=\"data row45 col0\" >Clustering</td>\n",
       "      <td id=\"T_363c4_row45_col1\" class=\"data row45 col1\" >False</td>\n",
       "    </tr>\n",
       "    <tr>\n",
       "      <th id=\"T_363c4_level0_row46\" class=\"row_heading level0 row46\" >46</th>\n",
       "      <td id=\"T_363c4_row46_col0\" class=\"data row46 col0\" >Clustering Iteration</td>\n",
       "      <td id=\"T_363c4_row46_col1\" class=\"data row46 col1\" >None</td>\n",
       "    </tr>\n",
       "    <tr>\n",
       "      <th id=\"T_363c4_level0_row47\" class=\"row_heading level0 row47\" >47</th>\n",
       "      <td id=\"T_363c4_row47_col0\" class=\"data row47 col0\" >Polynomial Features</td>\n",
       "      <td id=\"T_363c4_row47_col1\" class=\"data row47 col1\" >False</td>\n",
       "    </tr>\n",
       "    <tr>\n",
       "      <th id=\"T_363c4_level0_row48\" class=\"row_heading level0 row48\" >48</th>\n",
       "      <td id=\"T_363c4_row48_col0\" class=\"data row48 col0\" >Polynomial Degree</td>\n",
       "      <td id=\"T_363c4_row48_col1\" class=\"data row48 col1\" >None</td>\n",
       "    </tr>\n",
       "    <tr>\n",
       "      <th id=\"T_363c4_level0_row49\" class=\"row_heading level0 row49\" >49</th>\n",
       "      <td id=\"T_363c4_row49_col0\" class=\"data row49 col0\" >Trignometry Features</td>\n",
       "      <td id=\"T_363c4_row49_col1\" class=\"data row49 col1\" >False</td>\n",
       "    </tr>\n",
       "    <tr>\n",
       "      <th id=\"T_363c4_level0_row50\" class=\"row_heading level0 row50\" >50</th>\n",
       "      <td id=\"T_363c4_row50_col0\" class=\"data row50 col0\" >Polynomial Threshold</td>\n",
       "      <td id=\"T_363c4_row50_col1\" class=\"data row50 col1\" >None</td>\n",
       "    </tr>\n",
       "    <tr>\n",
       "      <th id=\"T_363c4_level0_row51\" class=\"row_heading level0 row51\" >51</th>\n",
       "      <td id=\"T_363c4_row51_col0\" class=\"data row51 col0\" >Group Features</td>\n",
       "      <td id=\"T_363c4_row51_col1\" class=\"data row51 col1\" >False</td>\n",
       "    </tr>\n",
       "    <tr>\n",
       "      <th id=\"T_363c4_level0_row52\" class=\"row_heading level0 row52\" >52</th>\n",
       "      <td id=\"T_363c4_row52_col0\" class=\"data row52 col0\" >Feature Selection</td>\n",
       "      <td id=\"T_363c4_row52_col1\" class=\"data row52 col1\" >False</td>\n",
       "    </tr>\n",
       "    <tr>\n",
       "      <th id=\"T_363c4_level0_row53\" class=\"row_heading level0 row53\" >53</th>\n",
       "      <td id=\"T_363c4_row53_col0\" class=\"data row53 col0\" >Feature Selection Method</td>\n",
       "      <td id=\"T_363c4_row53_col1\" class=\"data row53 col1\" >classic</td>\n",
       "    </tr>\n",
       "    <tr>\n",
       "      <th id=\"T_363c4_level0_row54\" class=\"row_heading level0 row54\" >54</th>\n",
       "      <td id=\"T_363c4_row54_col0\" class=\"data row54 col0\" >Features Selection Threshold</td>\n",
       "      <td id=\"T_363c4_row54_col1\" class=\"data row54 col1\" >None</td>\n",
       "    </tr>\n",
       "    <tr>\n",
       "      <th id=\"T_363c4_level0_row55\" class=\"row_heading level0 row55\" >55</th>\n",
       "      <td id=\"T_363c4_row55_col0\" class=\"data row55 col0\" >Feature Interaction</td>\n",
       "      <td id=\"T_363c4_row55_col1\" class=\"data row55 col1\" >False</td>\n",
       "    </tr>\n",
       "    <tr>\n",
       "      <th id=\"T_363c4_level0_row56\" class=\"row_heading level0 row56\" >56</th>\n",
       "      <td id=\"T_363c4_row56_col0\" class=\"data row56 col0\" >Feature Ratio</td>\n",
       "      <td id=\"T_363c4_row56_col1\" class=\"data row56 col1\" >False</td>\n",
       "    </tr>\n",
       "    <tr>\n",
       "      <th id=\"T_363c4_level0_row57\" class=\"row_heading level0 row57\" >57</th>\n",
       "      <td id=\"T_363c4_row57_col0\" class=\"data row57 col0\" >Interaction Threshold</td>\n",
       "      <td id=\"T_363c4_row57_col1\" class=\"data row57 col1\" >None</td>\n",
       "    </tr>\n",
       "    <tr>\n",
       "      <th id=\"T_363c4_level0_row58\" class=\"row_heading level0 row58\" >58</th>\n",
       "      <td id=\"T_363c4_row58_col0\" class=\"data row58 col0\" >Fix Imbalance</td>\n",
       "      <td id=\"T_363c4_row58_col1\" class=\"data row58 col1\" >False</td>\n",
       "    </tr>\n",
       "    <tr>\n",
       "      <th id=\"T_363c4_level0_row59\" class=\"row_heading level0 row59\" >59</th>\n",
       "      <td id=\"T_363c4_row59_col0\" class=\"data row59 col0\" >Fix Imbalance Method</td>\n",
       "      <td id=\"T_363c4_row59_col1\" class=\"data row59 col1\" >SMOTE</td>\n",
       "    </tr>\n",
       "  </tbody>\n",
       "</table>\n"
      ],
      "text/plain": [
       "<pandas.io.formats.style.Styler at 0x1401bb19670>"
      ]
     },
     "metadata": {},
     "output_type": "display_data"
    },
    {
     "data": {
      "text/plain": [
       "(None,\n",
       " {'parameter': 'Hyperparameters',\n",
       "  'auc': 'AUC',\n",
       "  'confusion_matrix': 'Confusion Matrix',\n",
       "  'threshold': 'Threshold',\n",
       "  'pr': 'Precision Recall',\n",
       "  'error': 'Prediction Error',\n",
       "  'class_report': 'Class Report',\n",
       "  'rfe': 'Feature Selection',\n",
       "  'learning': 'Learning Curve',\n",
       "  'manifold': 'Manifold Learning',\n",
       "  'calibration': 'Calibration Curve',\n",
       "  'vc': 'Validation Curve',\n",
       "  'dimension': 'Dimensions',\n",
       "  'feature': 'Feature Importance',\n",
       "  'feature_all': 'Feature Importance (All)',\n",
       "  'boundary': 'Decision Boundary',\n",
       "  'lift': 'Lift Chart',\n",
       "  'gain': 'Gain Chart',\n",
       "  'tree': 'Decision Tree',\n",
       "  'ks': 'KS Statistic Plot'},\n",
       " <MLUsecase.CLASSIFICATION: 1>,\n",
       " {'lr': <pycaret.containers.models.classification.LogisticRegressionClassifierContainer at 0x1401bb29430>,\n",
       "  'knn': <pycaret.containers.models.classification.KNeighborsClassifierContainer at 0x1401bb23580>,\n",
       "  'nb': <pycaret.containers.models.classification.GaussianNBClassifierContainer at 0x1401bb23be0>,\n",
       "  'dt': <pycaret.containers.models.classification.DecisionTreeClassifierContainer at 0x1401bb23820>,\n",
       "  'svm': <pycaret.containers.models.classification.SGDClassifierContainer at 0x1401bb33400>,\n",
       "  'rbfsvm': <pycaret.containers.models.classification.SVCClassifierContainer at 0x1401bf0bfd0>,\n",
       "  'gpc': <pycaret.containers.models.classification.GaussianProcessClassifierContainer at 0x1401bf11130>,\n",
       "  'mlp': <pycaret.containers.models.classification.MLPClassifierContainer at 0x1401bf111f0>,\n",
       "  'ridge': <pycaret.containers.models.classification.RidgeClassifierContainer at 0x1401bfad880>,\n",
       "  'rf': <pycaret.containers.models.classification.RandomForestClassifierContainer at 0x1401bfada00>,\n",
       "  'qda': <pycaret.containers.models.classification.QuadraticDiscriminantAnalysisContainer at 0x1401bfadc10>,\n",
       "  'ada': <pycaret.containers.models.classification.AdaBoostClassifierContainer at 0x1401bfadee0>,\n",
       "  'gbc': <pycaret.containers.models.classification.GradientBoostingClassifierContainer at 0x1401bfc68b0>,\n",
       "  'lda': <pycaret.containers.models.classification.LinearDiscriminantAnalysisContainer at 0x1401bfc6940>,\n",
       "  'et': <pycaret.containers.models.classification.ExtraTreesClassifierContainer at 0x1401bfc6d90>,\n",
       "  'xgboost': <pycaret.containers.models.classification.XGBClassifierContainer at 0x1401bfc6e20>,\n",
       "  'lightgbm': <pycaret.containers.models.classification.LGBMClassifierContainer at 0x1401bfcd2e0>,\n",
       "  'catboost': <pycaret.containers.models.classification.CatBoostClassifierContainer at 0x1401bfcda00>,\n",
       "  'dummy': <pycaret.containers.models.classification.DummyClassifierContainer at 0x1401bfcdc10>},\n",
       " StratifiedKFold(n_splits=10, random_state=None, shuffle=False),\n",
       " 5,\n",
       " [],\n",
       " 'clf-default-name',\n",
       " 'lightgbm',\n",
       " False,\n",
       " 6490    0\n",
       " 8917    1\n",
       " 418     0\n",
       " 3882    0\n",
       " 7551    0\n",
       "        ..\n",
       " 7708    0\n",
       " 9555    1\n",
       " 8232    1\n",
       " 841     1\n",
       " 6780    0\n",
       " Name: isFake, Length: 3001, dtype: int64,\n",
       " 5002    1\n",
       " 5680    1\n",
       " 6775    1\n",
       " 3526    1\n",
       " 3741    1\n",
       "        ..\n",
       " 2286    0\n",
       " 5127    0\n",
       " 7992    1\n",
       " 2704    1\n",
       " 7424    0\n",
       " Name: isFake, Length: 6999, dtype: int64,\n",
       "       isFake   Topic_0   Topic_1   Topic_2   Topic_3 Dominant_Topic  \\\n",
       " 0          0  0.000817  0.053743  0.341919  0.603521        Topic 3   \n",
       " 1          0  0.002584  0.205725  0.789077  0.002614        Topic 2   \n",
       " 2          0  0.111708  0.001795  0.884623  0.001874        Topic 2   \n",
       " 3          1  0.066793  0.858211  0.002451  0.072546        Topic 1   \n",
       " 4          1  0.027432  0.826175  0.001638  0.144755        Topic 1   \n",
       " ...      ...       ...       ...       ...       ...            ...   \n",
       " 9995       0  0.083657  0.002108  0.654588  0.259647        Topic 2   \n",
       " 9996       1  0.218672  0.733671  0.045861  0.001797        Topic 1   \n",
       " 9997       0  0.971489  0.009296  0.009858  0.009358        Topic 0   \n",
       " 9998       0  0.002579  0.065104  0.620651  0.311666        Topic 2   \n",
       " 9999       1  0.990297  0.003182  0.003202  0.003319        Topic 0   \n",
       " \n",
       "       Perc_Dominant_Topic  \n",
       " 0                    0.60  \n",
       " 1                    0.79  \n",
       " 2                    0.88  \n",
       " 3                    0.86  \n",
       " 4                    0.83  \n",
       " ...                   ...  \n",
       " 9995                 0.65  \n",
       " 9996                 0.73  \n",
       " 9997                 0.97  \n",
       " 9998                 0.62  \n",
       " 9999                 0.99  \n",
       " \n",
       " [10000 rows x 7 columns],\n",
       " False,\n",
       " False,\n",
       " False,\n",
       " Pipeline(memory=None, steps=[('empty_step', 'passthrough')], verbose=False),\n",
       " None,\n",
       " 'bf3e',\n",
       " False,\n",
       " None,\n",
       "        Topic_0   Topic_1   Topic_2   Topic_3  Perc_Dominant_Topic  \\\n",
       " 0     0.000817  0.053743  0.341919  0.603521                 0.60   \n",
       " 1     0.002584  0.205725  0.789077  0.002614                 0.79   \n",
       " 2     0.111708  0.001795  0.884623  0.001874                 0.88   \n",
       " 3     0.066793  0.858211  0.002451  0.072546                 0.86   \n",
       " 4     0.027432  0.826175  0.001638  0.144755                 0.83   \n",
       " ...        ...       ...       ...       ...                  ...   \n",
       " 9995  0.083657  0.002108  0.654588  0.259647                 0.65   \n",
       " 9996  0.218672  0.733671  0.045861  0.001797                 0.73   \n",
       " 9997  0.971489  0.009296  0.009858  0.009358                 0.97   \n",
       " 9998  0.002579  0.065104  0.620651  0.311666                 0.62   \n",
       " 9999  0.990297  0.003182  0.003202  0.003319                 0.99   \n",
       " \n",
       "       Dominant_Topic_Topic 0  Dominant_Topic_Topic 1  Dominant_Topic_Topic 2  \\\n",
       " 0                        0.0                     0.0                     0.0   \n",
       " 1                        0.0                     0.0                     1.0   \n",
       " 2                        0.0                     0.0                     1.0   \n",
       " 3                        0.0                     1.0                     0.0   \n",
       " 4                        0.0                     1.0                     0.0   \n",
       " ...                      ...                     ...                     ...   \n",
       " 9995                     0.0                     0.0                     1.0   \n",
       " 9996                     0.0                     1.0                     0.0   \n",
       " 9997                     1.0                     0.0                     0.0   \n",
       " 9998                     0.0                     0.0                     1.0   \n",
       " 9999                     1.0                     0.0                     0.0   \n",
       " \n",
       "       Dominant_Topic_Topic 3  \n",
       " 0                        1.0  \n",
       " 1                        0.0  \n",
       " 2                        0.0  \n",
       " 3                        0.0  \n",
       " 4                        0.0  \n",
       " ...                      ...  \n",
       " 9995                     0.0  \n",
       " 9996                     0.0  \n",
       " 9997                     0.0  \n",
       " 9998                     0.0  \n",
       " 9999                     0.0  \n",
       " \n",
       " [10000 rows x 9 columns],\n",
       "        Topic_0   Topic_1   Topic_2   Topic_3  Perc_Dominant_Topic  \\\n",
       " 5002  0.200421  0.794237  0.002674  0.002668                 0.79   \n",
       " 5680  0.118409  0.718977  0.001507  0.161107                 0.72   \n",
       " 6775  0.002743  0.991867  0.002693  0.002698                 0.99   \n",
       " 3526  0.002593  0.902560  0.092144  0.002704                 0.90   \n",
       " 3741  0.001596  0.836917  0.159830  0.001657                 0.84   \n",
       " ...        ...       ...       ...       ...                  ...   \n",
       " 2286  0.042082  0.001908  0.589958  0.366052                 0.59   \n",
       " 5127  0.091648  0.000854  0.836764  0.070733                 0.84   \n",
       " 7992  0.201585  0.159163  0.635278  0.003974                 0.64   \n",
       " 2704  0.899342  0.034970  0.032152  0.033535                 0.90   \n",
       " 7424  0.006076  0.006074  0.006225  0.981625                 0.98   \n",
       " \n",
       "       Dominant_Topic_Topic 0  Dominant_Topic_Topic 1  Dominant_Topic_Topic 2  \\\n",
       " 5002                     0.0                     1.0                     0.0   \n",
       " 5680                     0.0                     1.0                     0.0   \n",
       " 6775                     0.0                     1.0                     0.0   \n",
       " 3526                     0.0                     1.0                     0.0   \n",
       " 3741                     0.0                     1.0                     0.0   \n",
       " ...                      ...                     ...                     ...   \n",
       " 2286                     0.0                     0.0                     1.0   \n",
       " 5127                     0.0                     0.0                     1.0   \n",
       " 7992                     0.0                     0.0                     1.0   \n",
       " 2704                     1.0                     0.0                     0.0   \n",
       " 7424                     0.0                     0.0                     0.0   \n",
       " \n",
       "       Dominant_Topic_Topic 3  \n",
       " 5002                     0.0  \n",
       " 5680                     0.0  \n",
       " 6775                     0.0  \n",
       " 3526                     0.0  \n",
       " 3741                     0.0  \n",
       " ...                      ...  \n",
       " 2286                     0.0  \n",
       " 5127                     0.0  \n",
       " 7992                     0.0  \n",
       " 2704                     0.0  \n",
       " 7424                     1.0  \n",
       " \n",
       " [6999 rows x 9 columns],\n",
       " None,\n",
       " 'isFake',\n",
       " {'USI',\n",
       "  'X',\n",
       "  'X_test',\n",
       "  'X_train',\n",
       "  '_all_metrics',\n",
       "  '_all_models',\n",
       "  '_all_models_internal',\n",
       "  '_available_plots',\n",
       "  '_gpu_n_jobs_param',\n",
       "  '_internal_pipeline',\n",
       "  '_ml_usecase',\n",
       "  'create_model_container',\n",
       "  'dashboard_logger',\n",
       "  'data_before_preprocess',\n",
       "  'display_container',\n",
       "  'exp_name_log',\n",
       "  'experiment__',\n",
       "  'fix_imbalance_method_param',\n",
       "  'fix_imbalance_param',\n",
       "  'fold_generator',\n",
       "  'fold_groups_param',\n",
       "  'fold_groups_param_full',\n",
       "  'fold_param',\n",
       "  'fold_shuffle_param',\n",
       "  'gpu_param',\n",
       "  'html_param',\n",
       "  'imputation_classifier',\n",
       "  'imputation_regressor',\n",
       "  'iterative_imputation_iters_param',\n",
       "  'log_plots_param',\n",
       "  'logging_param',\n",
       "  'master_model_container',\n",
       "  'n_jobs_param',\n",
       "  'prep_pipe',\n",
       "  'pycaret_globals',\n",
       "  'seed',\n",
       "  'stratify_param',\n",
       "  'target_param',\n",
       "  'transform_target_method_param',\n",
       "  'transform_target_param',\n",
       "  'y',\n",
       "  'y_test',\n",
       "  'y_train'},\n",
       " False,\n",
       " 0       0\n",
       " 1       0\n",
       " 2       0\n",
       " 3       1\n",
       " 4       1\n",
       "        ..\n",
       " 9995    0\n",
       " 9996    1\n",
       " 9997    0\n",
       " 9998    0\n",
       " 9999    1\n",
       " Name: isFake, Length: 10000, dtype: int64,\n",
       " {'lr': <pycaret.containers.models.classification.LogisticRegressionClassifierContainer at 0x1401bfcdf70>,\n",
       "  'knn': <pycaret.containers.models.classification.KNeighborsClassifierContainer at 0x1401bfcde50>,\n",
       "  'nb': <pycaret.containers.models.classification.GaussianNBClassifierContainer at 0x1401bfcdc70>,\n",
       "  'dt': <pycaret.containers.models.classification.DecisionTreeClassifierContainer at 0x1401bfcc040>,\n",
       "  'svm': <pycaret.containers.models.classification.SGDClassifierContainer at 0x1401bfcc070>,\n",
       "  'rbfsvm': <pycaret.containers.models.classification.SVCClassifierContainer at 0x1401bfcc5e0>,\n",
       "  'gpc': <pycaret.containers.models.classification.GaussianProcessClassifierContainer at 0x1401bfcc700>,\n",
       "  'mlp': <pycaret.containers.models.classification.MLPClassifierContainer at 0x1401bfcc7c0>,\n",
       "  'ridge': <pycaret.containers.models.classification.RidgeClassifierContainer at 0x1401bfcca60>,\n",
       "  'rf': <pycaret.containers.models.classification.RandomForestClassifierContainer at 0x1401bfccc10>,\n",
       "  'qda': <pycaret.containers.models.classification.QuadraticDiscriminantAnalysisContainer at 0x1401bfcce20>,\n",
       "  'ada': <pycaret.containers.models.classification.AdaBoostClassifierContainer at 0x1401c0121f0>,\n",
       "  'gbc': <pycaret.containers.models.classification.GradientBoostingClassifierContainer at 0x1401c012370>,\n",
       "  'lda': <pycaret.containers.models.classification.LinearDiscriminantAnalysisContainer at 0x1401c0123d0>,\n",
       "  'et': <pycaret.containers.models.classification.ExtraTreesClassifierContainer at 0x1401c012850>,\n",
       "  'xgboost': <pycaret.containers.models.classification.XGBClassifierContainer at 0x1401c0128b0>,\n",
       "  'lightgbm': <pycaret.containers.models.classification.LGBMClassifierContainer at 0x1401c012e50>,\n",
       "  'catboost': <pycaret.containers.models.classification.CatBoostClassifierContainer at 0x1401c0735e0>,\n",
       "  'dummy': <pycaret.containers.models.classification.DummyClassifierContainer at 0x1401c073820>,\n",
       "  'Bagging': <pycaret.containers.models.classification.BaggingClassifierContainer at 0x1401c073880>,\n",
       "  'Stacking': <pycaret.containers.models.classification.StackingClassifierContainer at 0x1401c073a90>,\n",
       "  'Voting': <pycaret.containers.models.classification.VotingClassifierContainer at 0x1401c073af0>,\n",
       "  'CalibratedCV': <pycaret.containers.models.classification.CalibratedClassifierCVContainer at 0x1401c073b50>},\n",
       "        Topic_0   Topic_1   Topic_2   Topic_3  Perc_Dominant_Topic  \\\n",
       " 6490  0.001212  0.032024  0.835916  0.130848                 0.84   \n",
       " 8917  0.023897  0.973041  0.001525  0.001537                 0.97   \n",
       " 418   0.273228  0.000923  0.724925  0.000924                 0.72   \n",
       " 3882  0.453050  0.002173  0.542530  0.002247                 0.54   \n",
       " 7551  0.316421  0.000929  0.469689  0.212961                 0.47   \n",
       " ...        ...       ...       ...       ...                  ...   \n",
       " 7708  0.002055  0.125790  0.454132  0.418023                 0.45   \n",
       " 9555  0.162194  0.640569  0.033547  0.163689                 0.64   \n",
       " 8232  0.052957  0.316971  0.253011  0.377061                 0.38   \n",
       " 841   0.778991  0.110236  0.109700  0.001072                 0.78   \n",
       " 6780  0.724525  0.008555  0.258093  0.008828                 0.72   \n",
       " \n",
       "       Dominant_Topic_Topic 0  Dominant_Topic_Topic 1  Dominant_Topic_Topic 2  \\\n",
       " 6490                     0.0                     0.0                     1.0   \n",
       " 8917                     0.0                     1.0                     0.0   \n",
       " 418                      0.0                     0.0                     1.0   \n",
       " 3882                     0.0                     0.0                     1.0   \n",
       " 7551                     0.0                     0.0                     1.0   \n",
       " ...                      ...                     ...                     ...   \n",
       " 7708                     0.0                     0.0                     1.0   \n",
       " 9555                     0.0                     1.0                     0.0   \n",
       " 8232                     0.0                     0.0                     0.0   \n",
       " 841                      1.0                     0.0                     0.0   \n",
       " 6780                     1.0                     0.0                     0.0   \n",
       " \n",
       "       Dominant_Topic_Topic 3  \n",
       " 6490                     0.0  \n",
       " 8917                     0.0  \n",
       " 418                      0.0  \n",
       " 3882                     0.0  \n",
       " 7551                     0.0  \n",
       " ...                      ...  \n",
       " 7708                     0.0  \n",
       " 9555                     0.0  \n",
       " 8232                     1.0  \n",
       " 841                      0.0  \n",
       " 6780                     0.0  \n",
       " \n",
       " [3001 rows x 9 columns],\n",
       " False,\n",
       " True,\n",
       " 7867,\n",
       " -1,\n",
       " Pipeline(memory=None,\n",
       "          steps=[('dtypes',\n",
       "                  DataTypes_Auto_infer(categorical_features=[],\n",
       "                                       display_types=False, features_todrop=[],\n",
       "                                       id_columns=[],\n",
       "                                       ml_usecase='classification',\n",
       "                                       numerical_features=[], target='isFake',\n",
       "                                       time_features=[])),\n",
       "                 ('imputer',\n",
       "                  Simple_Imputer(categorical_strategy='not_available',\n",
       "                                 fill_value_categorical=None,\n",
       "                                 fill_value_numerical=None,\n",
       "                                 numeric_stra...\n",
       "                 ('scaling', 'passthrough'), ('P_transform', 'passthrough'),\n",
       "                 ('binn', 'passthrough'), ('rem_outliers', 'passthrough'),\n",
       "                 ('cluster_all', 'passthrough'),\n",
       "                 ('dummy', Dummify(target='isFake')),\n",
       "                 ('fix_perfect', Remove_100(target='isFake')),\n",
       "                 ('clean_names', Clean_Colum_Names()),\n",
       "                 ('feature_select', 'passthrough'), ('fix_multi', 'passthrough'),\n",
       "                 ('dfs', 'passthrough'), ('pca', 'passthrough')],\n",
       "          verbose=False),\n",
       " [],\n",
       " 10,\n",
       " -1,\n",
       " 'lightgbm',\n",
       " [<pandas.io.formats.style.Styler at 0x1401bb19670>],\n",
       " 'box-cox',\n",
       " {'acc': <pycaret.containers.metrics.classification.AccuracyMetricContainer at 0x1401c073be0>,\n",
       "  'auc': <pycaret.containers.metrics.classification.ROCAUCMetricContainer at 0x1401c073c40>,\n",
       "  'recall': <pycaret.containers.metrics.classification.RecallMetricContainer at 0x1401c073cd0>,\n",
       "  'precision': <pycaret.containers.metrics.classification.PrecisionMetricContainer at 0x1401c073e20>,\n",
       "  'f1': <pycaret.containers.metrics.classification.F1MetricContainer at 0x1401c073f70>,\n",
       "  'kappa': <pycaret.containers.metrics.classification.KappaMetricContainer at 0x1401c077100>,\n",
       "  'mcc': <pycaret.containers.metrics.classification.MCCMetricContainer at 0x1401c077190>},\n",
       " [('Setup Config',\n",
       "                                  Description             Value\n",
       "   0                               session_id              7867\n",
       "   1                                   Target            isFake\n",
       "   2                              Target Type            Binary\n",
       "   3                            Label Encoded              None\n",
       "   4                            Original Data        (10000, 7)\n",
       "   5                           Missing Values             False\n",
       "   6                         Numeric Features                 5\n",
       "   7                     Categorical Features                 1\n",
       "   8                         Ordinal Features             False\n",
       "   9                High Cardinality Features             False\n",
       "   10                 High Cardinality Method              None\n",
       "   11                   Transformed Train Set         (6999, 9)\n",
       "   12                    Transformed Test Set         (3001, 9)\n",
       "   13                      Shuffle Train-Test              True\n",
       "   14                     Stratify Train-Test             False\n",
       "   15                          Fold Generator   StratifiedKFold\n",
       "   16                             Fold Number                10\n",
       "   17                                CPU Jobs                -1\n",
       "   18                                 Use GPU             False\n",
       "   19                          Log Experiment             False\n",
       "   20                         Experiment Name  clf-default-name\n",
       "   21                                     USI              bf3e\n",
       "   22                         Imputation Type            simple\n",
       "   23          Iterative Imputation Iteration              None\n",
       "   24                         Numeric Imputer              mean\n",
       "   25      Iterative Imputation Numeric Model              None\n",
       "   26                     Categorical Imputer          constant\n",
       "   27  Iterative Imputation Categorical Model              None\n",
       "   28           Unknown Categoricals Handling    least_frequent\n",
       "   29                               Normalize             False\n",
       "   30                        Normalize Method              None\n",
       "   31                          Transformation             False\n",
       "   32                   Transformation Method              None\n",
       "   33                                     PCA             False\n",
       "   34                              PCA Method              None\n",
       "   35                          PCA Components              None\n",
       "   36                     Ignore Low Variance             False\n",
       "   37                     Combine Rare Levels             False\n",
       "   38                    Rare Level Threshold              None\n",
       "   39                         Numeric Binning             False\n",
       "   40                         Remove Outliers             False\n",
       "   41                      Outliers Threshold              None\n",
       "   42                Remove Multicollinearity             False\n",
       "   43             Multicollinearity Threshold              None\n",
       "   44             Remove Perfect Collinearity              True\n",
       "   45                              Clustering             False\n",
       "   46                    Clustering Iteration              None\n",
       "   47                     Polynomial Features             False\n",
       "   48                       Polynomial Degree              None\n",
       "   49                    Trignometry Features             False\n",
       "   50                    Polynomial Threshold              None\n",
       "   51                          Group Features             False\n",
       "   52                       Feature Selection             False\n",
       "   53                Feature Selection Method           classic\n",
       "   54            Features Selection Threshold              None\n",
       "   55                     Feature Interaction             False\n",
       "   56                           Feature Ratio             False\n",
       "   57                   Interaction Threshold              None\n",
       "   58                           Fix Imbalance             False\n",
       "   59                    Fix Imbalance Method             SMOTE),\n",
       "  ('X_training Set',\n",
       "          Topic_0   Topic_1   Topic_2   Topic_3  Perc_Dominant_Topic  \\\n",
       "   5002  0.200421  0.794237  0.002674  0.002668                 0.79   \n",
       "   5680  0.118409  0.718977  0.001507  0.161107                 0.72   \n",
       "   6775  0.002743  0.991867  0.002693  0.002698                 0.99   \n",
       "   3526  0.002593  0.902560  0.092144  0.002704                 0.90   \n",
       "   3741  0.001596  0.836917  0.159830  0.001657                 0.84   \n",
       "   ...        ...       ...       ...       ...                  ...   \n",
       "   2286  0.042082  0.001908  0.589958  0.366052                 0.59   \n",
       "   5127  0.091648  0.000854  0.836764  0.070733                 0.84   \n",
       "   7992  0.201585  0.159163  0.635278  0.003974                 0.64   \n",
       "   2704  0.899342  0.034970  0.032152  0.033535                 0.90   \n",
       "   7424  0.006076  0.006074  0.006225  0.981625                 0.98   \n",
       "   \n",
       "         Dominant_Topic_Topic 0  Dominant_Topic_Topic 1  Dominant_Topic_Topic 2  \\\n",
       "   5002                     0.0                     1.0                     0.0   \n",
       "   5680                     0.0                     1.0                     0.0   \n",
       "   6775                     0.0                     1.0                     0.0   \n",
       "   3526                     0.0                     1.0                     0.0   \n",
       "   3741                     0.0                     1.0                     0.0   \n",
       "   ...                      ...                     ...                     ...   \n",
       "   2286                     0.0                     0.0                     1.0   \n",
       "   5127                     0.0                     0.0                     1.0   \n",
       "   7992                     0.0                     0.0                     1.0   \n",
       "   2704                     1.0                     0.0                     0.0   \n",
       "   7424                     0.0                     0.0                     0.0   \n",
       "   \n",
       "         Dominant_Topic_Topic 3  \n",
       "   5002                     0.0  \n",
       "   5680                     0.0  \n",
       "   6775                     0.0  \n",
       "   3526                     0.0  \n",
       "   3741                     0.0  \n",
       "   ...                      ...  \n",
       "   2286                     0.0  \n",
       "   5127                     0.0  \n",
       "   7992                     0.0  \n",
       "   2704                     0.0  \n",
       "   7424                     1.0  \n",
       "   \n",
       "   [6999 rows x 9 columns]),\n",
       "  ('y_training Set',\n",
       "   5002    1\n",
       "   5680    1\n",
       "   6775    1\n",
       "   3526    1\n",
       "   3741    1\n",
       "          ..\n",
       "   2286    0\n",
       "   5127    0\n",
       "   7992    1\n",
       "   2704    1\n",
       "   7424    0\n",
       "   Name: isFake, Length: 6999, dtype: int64),\n",
       "  ('X_test Set',\n",
       "          Topic_0   Topic_1   Topic_2   Topic_3  Perc_Dominant_Topic  \\\n",
       "   6490  0.001212  0.032024  0.835916  0.130848                 0.84   \n",
       "   8917  0.023897  0.973041  0.001525  0.001537                 0.97   \n",
       "   418   0.273228  0.000923  0.724925  0.000924                 0.72   \n",
       "   3882  0.453050  0.002173  0.542530  0.002247                 0.54   \n",
       "   7551  0.316421  0.000929  0.469689  0.212961                 0.47   \n",
       "   ...        ...       ...       ...       ...                  ...   \n",
       "   7708  0.002055  0.125790  0.454132  0.418023                 0.45   \n",
       "   9555  0.162194  0.640569  0.033547  0.163689                 0.64   \n",
       "   8232  0.052957  0.316971  0.253011  0.377061                 0.38   \n",
       "   841   0.778991  0.110236  0.109700  0.001072                 0.78   \n",
       "   6780  0.724525  0.008555  0.258093  0.008828                 0.72   \n",
       "   \n",
       "         Dominant_Topic_Topic 0  Dominant_Topic_Topic 1  Dominant_Topic_Topic 2  \\\n",
       "   6490                     0.0                     0.0                     1.0   \n",
       "   8917                     0.0                     1.0                     0.0   \n",
       "   418                      0.0                     0.0                     1.0   \n",
       "   3882                     0.0                     0.0                     1.0   \n",
       "   7551                     0.0                     0.0                     1.0   \n",
       "   ...                      ...                     ...                     ...   \n",
       "   7708                     0.0                     0.0                     1.0   \n",
       "   9555                     0.0                     1.0                     0.0   \n",
       "   8232                     0.0                     0.0                     0.0   \n",
       "   841                      1.0                     0.0                     0.0   \n",
       "   6780                     1.0                     0.0                     0.0   \n",
       "   \n",
       "         Dominant_Topic_Topic 3  \n",
       "   6490                     0.0  \n",
       "   8917                     0.0  \n",
       "   418                      0.0  \n",
       "   3882                     0.0  \n",
       "   7551                     0.0  \n",
       "   ...                      ...  \n",
       "   7708                     0.0  \n",
       "   9555                     0.0  \n",
       "   8232                     1.0  \n",
       "   841                      0.0  \n",
       "   6780                     0.0  \n",
       "   \n",
       "   [3001 rows x 9 columns]),\n",
       "  ('y_test Set',\n",
       "   6490    0\n",
       "   8917    1\n",
       "   418     0\n",
       "   3882    0\n",
       "   7551    0\n",
       "          ..\n",
       "   7708    0\n",
       "   9555    1\n",
       "   8232    1\n",
       "   841     1\n",
       "   6780    0\n",
       "   Name: isFake, Length: 3001, dtype: int64),\n",
       "  ('Transformation Pipeline',\n",
       "   Pipeline(memory=None,\n",
       "            steps=[('dtypes',\n",
       "                    DataTypes_Auto_infer(categorical_features=[],\n",
       "                                         display_types=False, features_todrop=[],\n",
       "                                         id_columns=[],\n",
       "                                         ml_usecase='classification',\n",
       "                                         numerical_features=[], target='isFake',\n",
       "                                         time_features=[])),\n",
       "                   ('imputer',\n",
       "                    Simple_Imputer(categorical_strategy='not_available',\n",
       "                                   fill_value_categorical=None,\n",
       "                                   fill_value_numerical=None,\n",
       "                                   numeric_stra...\n",
       "                   ('scaling', 'passthrough'), ('P_transform', 'passthrough'),\n",
       "                   ('binn', 'passthrough'), ('rem_outliers', 'passthrough'),\n",
       "                   ('cluster_all', 'passthrough'),\n",
       "                   ('dummy', Dummify(target='isFake')),\n",
       "                   ('fix_perfect', Remove_100(target='isFake')),\n",
       "                   ('clean_names', Clean_Colum_Names()),\n",
       "                   ('feature_select', 'passthrough'), ('fix_multi', 'passthrough'),\n",
       "                   ('dfs', 'passthrough'), ('pca', 'passthrough')],\n",
       "            verbose=False))])"
      ]
     },
     "execution_count": 23,
     "metadata": {},
     "output_type": "execute_result"
    }
   ],
   "source": [
    "from pycaret.classification import *\n",
    "%time \n",
    "setup(data = lda_df, \n",
    "      target = 'isFake',\n",
    "      silent = True)"
   ]
  },
  {
   "cell_type": "code",
   "execution_count": 24,
   "metadata": {},
   "outputs": [
    {
     "data": {
      "text/html": [
       "<style type=\"text/css\">\n",
       "#T_471b6 th {\n",
       "  text-align: left;\n",
       "}\n",
       "#T_471b6_row0_col0, #T_471b6_row0_col3, #T_471b6_row1_col0, #T_471b6_row1_col1, #T_471b6_row1_col2, #T_471b6_row1_col3, #T_471b6_row1_col4, #T_471b6_row1_col5, #T_471b6_row1_col6, #T_471b6_row1_col7, #T_471b6_row2_col0, #T_471b6_row2_col1, #T_471b6_row2_col2, #T_471b6_row2_col3, #T_471b6_row2_col4, #T_471b6_row2_col5, #T_471b6_row2_col6, #T_471b6_row2_col7, #T_471b6_row3_col0, #T_471b6_row3_col1, #T_471b6_row3_col2, #T_471b6_row3_col3, #T_471b6_row3_col4, #T_471b6_row3_col5, #T_471b6_row3_col6, #T_471b6_row3_col7, #T_471b6_row4_col0, #T_471b6_row4_col1, #T_471b6_row4_col2, #T_471b6_row4_col3, #T_471b6_row4_col4, #T_471b6_row4_col5, #T_471b6_row4_col6, #T_471b6_row4_col7, #T_471b6_row5_col0, #T_471b6_row5_col1, #T_471b6_row5_col2, #T_471b6_row5_col3, #T_471b6_row5_col4, #T_471b6_row5_col5, #T_471b6_row5_col6, #T_471b6_row5_col7, #T_471b6_row6_col0, #T_471b6_row6_col1, #T_471b6_row6_col2, #T_471b6_row6_col3, #T_471b6_row6_col4, #T_471b6_row6_col5, #T_471b6_row6_col6, #T_471b6_row6_col7, #T_471b6_row7_col0, #T_471b6_row7_col1, #T_471b6_row7_col2, #T_471b6_row7_col3, #T_471b6_row7_col4, #T_471b6_row7_col5, #T_471b6_row7_col6, #T_471b6_row7_col7, #T_471b6_row8_col0, #T_471b6_row8_col1, #T_471b6_row8_col2, #T_471b6_row8_col3, #T_471b6_row8_col4, #T_471b6_row8_col5, #T_471b6_row8_col6, #T_471b6_row8_col7, #T_471b6_row9_col0, #T_471b6_row9_col1, #T_471b6_row9_col2, #T_471b6_row9_col3, #T_471b6_row9_col4, #T_471b6_row9_col5, #T_471b6_row9_col6, #T_471b6_row9_col7, #T_471b6_row10_col0, #T_471b6_row10_col1, #T_471b6_row10_col2, #T_471b6_row10_col3, #T_471b6_row10_col4, #T_471b6_row10_col5, #T_471b6_row10_col6, #T_471b6_row10_col7, #T_471b6_row11_col0, #T_471b6_row11_col1, #T_471b6_row11_col2, #T_471b6_row11_col3, #T_471b6_row11_col4, #T_471b6_row11_col5, #T_471b6_row11_col6, #T_471b6_row11_col7, #T_471b6_row12_col0, #T_471b6_row12_col1, #T_471b6_row12_col2, #T_471b6_row12_col3, #T_471b6_row12_col4, #T_471b6_row12_col5, #T_471b6_row12_col6, #T_471b6_row12_col7, #T_471b6_row13_col0, #T_471b6_row13_col1, #T_471b6_row13_col2, #T_471b6_row13_col3, #T_471b6_row13_col4, #T_471b6_row13_col5, #T_471b6_row13_col6, #T_471b6_row13_col7, #T_471b6_row14_col0, #T_471b6_row14_col1, #T_471b6_row14_col2, #T_471b6_row14_col3, #T_471b6_row14_col4, #T_471b6_row14_col5, #T_471b6_row14_col6, #T_471b6_row14_col7, #T_471b6_row15_col0, #T_471b6_row15_col1, #T_471b6_row15_col2, #T_471b6_row15_col4, #T_471b6_row15_col5, #T_471b6_row15_col6, #T_471b6_row15_col7 {\n",
       "  text-align: left;\n",
       "}\n",
       "#T_471b6_row0_col1, #T_471b6_row0_col2, #T_471b6_row0_col4, #T_471b6_row0_col5, #T_471b6_row0_col6, #T_471b6_row0_col7, #T_471b6_row15_col3 {\n",
       "  text-align: left;\n",
       "  background-color: yellow;\n",
       "}\n",
       "#T_471b6_row0_col8, #T_471b6_row1_col8, #T_471b6_row2_col8, #T_471b6_row3_col8, #T_471b6_row4_col8, #T_471b6_row5_col8, #T_471b6_row6_col8, #T_471b6_row7_col8, #T_471b6_row8_col8, #T_471b6_row9_col8, #T_471b6_row11_col8, #T_471b6_row12_col8, #T_471b6_row14_col8 {\n",
       "  text-align: left;\n",
       "  background-color: lightgrey;\n",
       "}\n",
       "#T_471b6_row10_col8, #T_471b6_row13_col8, #T_471b6_row15_col8 {\n",
       "  text-align: left;\n",
       "  background-color: yellow;\n",
       "  background-color: lightgrey;\n",
       "}\n",
       "</style>\n",
       "<table id=\"T_471b6\">\n",
       "  <thead>\n",
       "    <tr>\n",
       "      <th class=\"blank level0\" >&nbsp;</th>\n",
       "      <th id=\"T_471b6_level0_col0\" class=\"col_heading level0 col0\" >Model</th>\n",
       "      <th id=\"T_471b6_level0_col1\" class=\"col_heading level0 col1\" >Accuracy</th>\n",
       "      <th id=\"T_471b6_level0_col2\" class=\"col_heading level0 col2\" >AUC</th>\n",
       "      <th id=\"T_471b6_level0_col3\" class=\"col_heading level0 col3\" >Recall</th>\n",
       "      <th id=\"T_471b6_level0_col4\" class=\"col_heading level0 col4\" >Prec.</th>\n",
       "      <th id=\"T_471b6_level0_col5\" class=\"col_heading level0 col5\" >F1</th>\n",
       "      <th id=\"T_471b6_level0_col6\" class=\"col_heading level0 col6\" >Kappa</th>\n",
       "      <th id=\"T_471b6_level0_col7\" class=\"col_heading level0 col7\" >MCC</th>\n",
       "      <th id=\"T_471b6_level0_col8\" class=\"col_heading level0 col8\" >TT (Sec)</th>\n",
       "    </tr>\n",
       "  </thead>\n",
       "  <tbody>\n",
       "    <tr>\n",
       "      <th id=\"T_471b6_level0_row0\" class=\"row_heading level0 row0\" >gbc</th>\n",
       "      <td id=\"T_471b6_row0_col0\" class=\"data row0 col0\" >Gradient Boosting Classifier</td>\n",
       "      <td id=\"T_471b6_row0_col1\" class=\"data row0 col1\" >0.8687</td>\n",
       "      <td id=\"T_471b6_row0_col2\" class=\"data row0 col2\" >0.9374</td>\n",
       "      <td id=\"T_471b6_row0_col3\" class=\"data row0 col3\" >0.8780</td>\n",
       "      <td id=\"T_471b6_row0_col4\" class=\"data row0 col4\" >0.8707</td>\n",
       "      <td id=\"T_471b6_row0_col5\" class=\"data row0 col5\" >0.8742</td>\n",
       "      <td id=\"T_471b6_row0_col6\" class=\"data row0 col6\" >0.7369</td>\n",
       "      <td id=\"T_471b6_row0_col7\" class=\"data row0 col7\" >0.7371</td>\n",
       "      <td id=\"T_471b6_row0_col8\" class=\"data row0 col8\" >0.2810</td>\n",
       "    </tr>\n",
       "    <tr>\n",
       "      <th id=\"T_471b6_level0_row1\" class=\"row_heading level0 row1\" >catboost</th>\n",
       "      <td id=\"T_471b6_row1_col0\" class=\"data row1 col0\" >CatBoost Classifier</td>\n",
       "      <td id=\"T_471b6_row1_col1\" class=\"data row1 col1\" >0.8657</td>\n",
       "      <td id=\"T_471b6_row1_col2\" class=\"data row1 col2\" >0.9364</td>\n",
       "      <td id=\"T_471b6_row1_col3\" class=\"data row1 col3\" >0.8755</td>\n",
       "      <td id=\"T_471b6_row1_col4\" class=\"data row1 col4\" >0.8675</td>\n",
       "      <td id=\"T_471b6_row1_col5\" class=\"data row1 col5\" >0.8714</td>\n",
       "      <td id=\"T_471b6_row1_col6\" class=\"data row1 col6\" >0.7309</td>\n",
       "      <td id=\"T_471b6_row1_col7\" class=\"data row1 col7\" >0.7310</td>\n",
       "      <td id=\"T_471b6_row1_col8\" class=\"data row1 col8\" >1.8120</td>\n",
       "    </tr>\n",
       "    <tr>\n",
       "      <th id=\"T_471b6_level0_row2\" class=\"row_heading level0 row2\" >lightgbm</th>\n",
       "      <td id=\"T_471b6_row2_col0\" class=\"data row2 col0\" >Light Gradient Boosting Machine</td>\n",
       "      <td id=\"T_471b6_row2_col1\" class=\"data row2 col1\" >0.8650</td>\n",
       "      <td id=\"T_471b6_row2_col2\" class=\"data row2 col2\" >0.9340</td>\n",
       "      <td id=\"T_471b6_row2_col3\" class=\"data row2 col3\" >0.8749</td>\n",
       "      <td id=\"T_471b6_row2_col4\" class=\"data row2 col4\" >0.8668</td>\n",
       "      <td id=\"T_471b6_row2_col5\" class=\"data row2 col5\" >0.8707</td>\n",
       "      <td id=\"T_471b6_row2_col6\" class=\"data row2 col6\" >0.7294</td>\n",
       "      <td id=\"T_471b6_row2_col7\" class=\"data row2 col7\" >0.7297</td>\n",
       "      <td id=\"T_471b6_row2_col8\" class=\"data row2 col8\" >0.0450</td>\n",
       "    </tr>\n",
       "    <tr>\n",
       "      <th id=\"T_471b6_level0_row3\" class=\"row_heading level0 row3\" >rf</th>\n",
       "      <td id=\"T_471b6_row3_col0\" class=\"data row3 col0\" >Random Forest Classifier</td>\n",
       "      <td id=\"T_471b6_row3_col1\" class=\"data row3 col1\" >0.8641</td>\n",
       "      <td id=\"T_471b6_row3_col2\" class=\"data row3 col2\" >0.9296</td>\n",
       "      <td id=\"T_471b6_row3_col3\" class=\"data row3 col3\" >0.8804</td>\n",
       "      <td id=\"T_471b6_row3_col4\" class=\"data row3 col4\" >0.8613</td>\n",
       "      <td id=\"T_471b6_row3_col5\" class=\"data row3 col5\" >0.8706</td>\n",
       "      <td id=\"T_471b6_row3_col6\" class=\"data row3 col6\" >0.7276</td>\n",
       "      <td id=\"T_471b6_row3_col7\" class=\"data row3 col7\" >0.7280</td>\n",
       "      <td id=\"T_471b6_row3_col8\" class=\"data row3 col8\" >0.2500</td>\n",
       "    </tr>\n",
       "    <tr>\n",
       "      <th id=\"T_471b6_level0_row4\" class=\"row_heading level0 row4\" >ada</th>\n",
       "      <td id=\"T_471b6_row4_col0\" class=\"data row4 col0\" >Ada Boost Classifier</td>\n",
       "      <td id=\"T_471b6_row4_col1\" class=\"data row4 col1\" >0.8628</td>\n",
       "      <td id=\"T_471b6_row4_col2\" class=\"data row4 col2\" >0.9340</td>\n",
       "      <td id=\"T_471b6_row4_col3\" class=\"data row4 col3\" >0.8670</td>\n",
       "      <td id=\"T_471b6_row4_col4\" class=\"data row4 col4\" >0.8689</td>\n",
       "      <td id=\"T_471b6_row4_col5\" class=\"data row4 col5\" >0.8679</td>\n",
       "      <td id=\"T_471b6_row4_col6\" class=\"data row4 col6\" >0.7253</td>\n",
       "      <td id=\"T_471b6_row4_col7\" class=\"data row4 col7\" >0.7254</td>\n",
       "      <td id=\"T_471b6_row4_col8\" class=\"data row4 col8\" >0.0920</td>\n",
       "    </tr>\n",
       "    <tr>\n",
       "      <th id=\"T_471b6_level0_row5\" class=\"row_heading level0 row5\" >xgboost</th>\n",
       "      <td id=\"T_471b6_row5_col0\" class=\"data row5 col0\" >Extreme Gradient Boosting</td>\n",
       "      <td id=\"T_471b6_row5_col1\" class=\"data row5 col1\" >0.8616</td>\n",
       "      <td id=\"T_471b6_row5_col2\" class=\"data row5 col2\" >0.9305</td>\n",
       "      <td id=\"T_471b6_row5_col3\" class=\"data row5 col3\" >0.8752</td>\n",
       "      <td id=\"T_471b6_row5_col4\" class=\"data row5 col4\" >0.8608</td>\n",
       "      <td id=\"T_471b6_row5_col5\" class=\"data row5 col5\" >0.8679</td>\n",
       "      <td id=\"T_471b6_row5_col6\" class=\"data row5 col6\" >0.7225</td>\n",
       "      <td id=\"T_471b6_row5_col7\" class=\"data row5 col7\" >0.7227</td>\n",
       "      <td id=\"T_471b6_row5_col8\" class=\"data row5 col8\" >0.4120</td>\n",
       "    </tr>\n",
       "    <tr>\n",
       "      <th id=\"T_471b6_level0_row6\" class=\"row_heading level0 row6\" >et</th>\n",
       "      <td id=\"T_471b6_row6_col0\" class=\"data row6 col0\" >Extra Trees Classifier</td>\n",
       "      <td id=\"T_471b6_row6_col1\" class=\"data row6 col1\" >0.8461</td>\n",
       "      <td id=\"T_471b6_row6_col2\" class=\"data row6 col2\" >0.9220</td>\n",
       "      <td id=\"T_471b6_row6_col3\" class=\"data row6 col3\" >0.8601</td>\n",
       "      <td id=\"T_471b6_row6_col4\" class=\"data row6 col4\" >0.8466</td>\n",
       "      <td id=\"T_471b6_row6_col5\" class=\"data row6 col5\" >0.8531</td>\n",
       "      <td id=\"T_471b6_row6_col6\" class=\"data row6 col6\" >0.6916</td>\n",
       "      <td id=\"T_471b6_row6_col7\" class=\"data row6 col7\" >0.6921</td>\n",
       "      <td id=\"T_471b6_row6_col8\" class=\"data row6 col8\" >0.2240</td>\n",
       "    </tr>\n",
       "    <tr>\n",
       "      <th id=\"T_471b6_level0_row7\" class=\"row_heading level0 row7\" >svm</th>\n",
       "      <td id=\"T_471b6_row7_col0\" class=\"data row7 col0\" >SVM - Linear Kernel</td>\n",
       "      <td id=\"T_471b6_row7_col1\" class=\"data row7 col1\" >0.8443</td>\n",
       "      <td id=\"T_471b6_row7_col2\" class=\"data row7 col2\" >0.0000</td>\n",
       "      <td id=\"T_471b6_row7_col3\" class=\"data row7 col3\" >0.8703</td>\n",
       "      <td id=\"T_471b6_row7_col4\" class=\"data row7 col4\" >0.8385</td>\n",
       "      <td id=\"T_471b6_row7_col5\" class=\"data row7 col5\" >0.8529</td>\n",
       "      <td id=\"T_471b6_row7_col6\" class=\"data row7 col6\" >0.6875</td>\n",
       "      <td id=\"T_471b6_row7_col7\" class=\"data row7 col7\" >0.6904</td>\n",
       "      <td id=\"T_471b6_row7_col8\" class=\"data row7 col8\" >0.0080</td>\n",
       "    </tr>\n",
       "    <tr>\n",
       "      <th id=\"T_471b6_level0_row8\" class=\"row_heading level0 row8\" >lr</th>\n",
       "      <td id=\"T_471b6_row8_col0\" class=\"data row8 col0\" >Logistic Regression</td>\n",
       "      <td id=\"T_471b6_row8_col1\" class=\"data row8 col1\" >0.8424</td>\n",
       "      <td id=\"T_471b6_row8_col2\" class=\"data row8 col2\" >0.9216</td>\n",
       "      <td id=\"T_471b6_row8_col3\" class=\"data row8 col3\" >0.8549</td>\n",
       "      <td id=\"T_471b6_row8_col4\" class=\"data row8 col4\" >0.8444</td>\n",
       "      <td id=\"T_471b6_row8_col5\" class=\"data row8 col5\" >0.8494</td>\n",
       "      <td id=\"T_471b6_row8_col6\" class=\"data row8 col6\" >0.6841</td>\n",
       "      <td id=\"T_471b6_row8_col7\" class=\"data row8 col7\" >0.6846</td>\n",
       "      <td id=\"T_471b6_row8_col8\" class=\"data row8 col8\" >0.8940</td>\n",
       "    </tr>\n",
       "    <tr>\n",
       "      <th id=\"T_471b6_level0_row9\" class=\"row_heading level0 row9\" >knn</th>\n",
       "      <td id=\"T_471b6_row9_col0\" class=\"data row9 col0\" >K Neighbors Classifier</td>\n",
       "      <td id=\"T_471b6_row9_col1\" class=\"data row9 col1\" >0.8420</td>\n",
       "      <td id=\"T_471b6_row9_col2\" class=\"data row9 col2\" >0.9023</td>\n",
       "      <td id=\"T_471b6_row9_col3\" class=\"data row9 col3\" >0.8480</td>\n",
       "      <td id=\"T_471b6_row9_col4\" class=\"data row9 col4\" >0.8481</td>\n",
       "      <td id=\"T_471b6_row9_col5\" class=\"data row9 col5\" >0.8479</td>\n",
       "      <td id=\"T_471b6_row9_col6\" class=\"data row9 col6\" >0.6835</td>\n",
       "      <td id=\"T_471b6_row9_col7\" class=\"data row9 col7\" >0.6837</td>\n",
       "      <td id=\"T_471b6_row9_col8\" class=\"data row9 col8\" >0.0440</td>\n",
       "    </tr>\n",
       "    <tr>\n",
       "      <th id=\"T_471b6_level0_row10\" class=\"row_heading level0 row10\" >ridge</th>\n",
       "      <td id=\"T_471b6_row10_col0\" class=\"data row10 col0\" >Ridge Classifier</td>\n",
       "      <td id=\"T_471b6_row10_col1\" class=\"data row10 col1\" >0.8417</td>\n",
       "      <td id=\"T_471b6_row10_col2\" class=\"data row10 col2\" >0.0000</td>\n",
       "      <td id=\"T_471b6_row10_col3\" class=\"data row10 col3\" >0.8584</td>\n",
       "      <td id=\"T_471b6_row10_col4\" class=\"data row10 col4\" >0.8407</td>\n",
       "      <td id=\"T_471b6_row10_col5\" class=\"data row10 col5\" >0.8493</td>\n",
       "      <td id=\"T_471b6_row10_col6\" class=\"data row10 col6\" >0.6826</td>\n",
       "      <td id=\"T_471b6_row10_col7\" class=\"data row10 col7\" >0.6831</td>\n",
       "      <td id=\"T_471b6_row10_col8\" class=\"data row10 col8\" >0.0050</td>\n",
       "    </tr>\n",
       "    <tr>\n",
       "      <th id=\"T_471b6_level0_row11\" class=\"row_heading level0 row11\" >lda</th>\n",
       "      <td id=\"T_471b6_row11_col0\" class=\"data row11 col0\" >Linear Discriminant Analysis</td>\n",
       "      <td id=\"T_471b6_row11_col1\" class=\"data row11 col1\" >0.8414</td>\n",
       "      <td id=\"T_471b6_row11_col2\" class=\"data row11 col2\" >0.9206</td>\n",
       "      <td id=\"T_471b6_row11_col3\" class=\"data row11 col3\" >0.8584</td>\n",
       "      <td id=\"T_471b6_row11_col4\" class=\"data row11 col4\" >0.8403</td>\n",
       "      <td id=\"T_471b6_row11_col5\" class=\"data row11 col5\" >0.8491</td>\n",
       "      <td id=\"T_471b6_row11_col6\" class=\"data row11 col6\" >0.6820</td>\n",
       "      <td id=\"T_471b6_row11_col7\" class=\"data row11 col7\" >0.6826</td>\n",
       "      <td id=\"T_471b6_row11_col8\" class=\"data row11 col8\" >0.0070</td>\n",
       "    </tr>\n",
       "    <tr>\n",
       "      <th id=\"T_471b6_level0_row12\" class=\"row_heading level0 row12\" >dt</th>\n",
       "      <td id=\"T_471b6_row12_col0\" class=\"data row12 col0\" >Decision Tree Classifier</td>\n",
       "      <td id=\"T_471b6_row12_col1\" class=\"data row12 col1\" >0.8184</td>\n",
       "      <td id=\"T_471b6_row12_col2\" class=\"data row12 col2\" >0.8179</td>\n",
       "      <td id=\"T_471b6_row12_col3\" class=\"data row12 col3\" >0.8315</td>\n",
       "      <td id=\"T_471b6_row12_col4\" class=\"data row12 col4\" >0.8213</td>\n",
       "      <td id=\"T_471b6_row12_col5\" class=\"data row12 col5\" >0.8263</td>\n",
       "      <td id=\"T_471b6_row12_col6\" class=\"data row12 col6\" >0.6361</td>\n",
       "      <td id=\"T_471b6_row12_col7\" class=\"data row12 col7\" >0.6363</td>\n",
       "      <td id=\"T_471b6_row12_col8\" class=\"data row12 col8\" >0.0120</td>\n",
       "    </tr>\n",
       "    <tr>\n",
       "      <th id=\"T_471b6_level0_row13\" class=\"row_heading level0 row13\" >nb</th>\n",
       "      <td id=\"T_471b6_row13_col0\" class=\"data row13 col0\" >Naive Bayes</td>\n",
       "      <td id=\"T_471b6_row13_col1\" class=\"data row13 col1\" >0.8025</td>\n",
       "      <td id=\"T_471b6_row13_col2\" class=\"data row13 col2\" >0.8931</td>\n",
       "      <td id=\"T_471b6_row13_col3\" class=\"data row13 col3\" >0.8070</td>\n",
       "      <td id=\"T_471b6_row13_col4\" class=\"data row13 col4\" >0.8121</td>\n",
       "      <td id=\"T_471b6_row13_col5\" class=\"data row13 col5\" >0.8094</td>\n",
       "      <td id=\"T_471b6_row13_col6\" class=\"data row13 col6\" >0.6046</td>\n",
       "      <td id=\"T_471b6_row13_col7\" class=\"data row13 col7\" >0.6049</td>\n",
       "      <td id=\"T_471b6_row13_col8\" class=\"data row13 col8\" >0.0050</td>\n",
       "    </tr>\n",
       "    <tr>\n",
       "      <th id=\"T_471b6_level0_row14\" class=\"row_heading level0 row14\" >qda</th>\n",
       "      <td id=\"T_471b6_row14_col0\" class=\"data row14 col0\" >Quadratic Discriminant Analysis</td>\n",
       "      <td id=\"T_471b6_row14_col1\" class=\"data row14 col1\" >0.6607</td>\n",
       "      <td id=\"T_471b6_row14_col2\" class=\"data row14 col2\" >0.7251</td>\n",
       "      <td id=\"T_471b6_row14_col3\" class=\"data row14 col3\" >0.5828</td>\n",
       "      <td id=\"T_471b6_row14_col4\" class=\"data row14 col4\" >0.7015</td>\n",
       "      <td id=\"T_471b6_row14_col5\" class=\"data row14 col5\" >0.5811</td>\n",
       "      <td id=\"T_471b6_row14_col6\" class=\"data row14 col6\" >0.3258</td>\n",
       "      <td id=\"T_471b6_row14_col7\" class=\"data row14 col7\" >0.3487</td>\n",
       "      <td id=\"T_471b6_row14_col8\" class=\"data row14 col8\" >0.0060</td>\n",
       "    </tr>\n",
       "    <tr>\n",
       "      <th id=\"T_471b6_level0_row15\" class=\"row_heading level0 row15\" >dummy</th>\n",
       "      <td id=\"T_471b6_row15_col0\" class=\"data row15 col0\" >Dummy Classifier</td>\n",
       "      <td id=\"T_471b6_row15_col1\" class=\"data row15 col1\" >0.5198</td>\n",
       "      <td id=\"T_471b6_row15_col2\" class=\"data row15 col2\" >0.5000</td>\n",
       "      <td id=\"T_471b6_row15_col3\" class=\"data row15 col3\" >1.0000</td>\n",
       "      <td id=\"T_471b6_row15_col4\" class=\"data row15 col4\" >0.5198</td>\n",
       "      <td id=\"T_471b6_row15_col5\" class=\"data row15 col5\" >0.6840</td>\n",
       "      <td id=\"T_471b6_row15_col6\" class=\"data row15 col6\" >0.0000</td>\n",
       "      <td id=\"T_471b6_row15_col7\" class=\"data row15 col7\" >0.0000</td>\n",
       "      <td id=\"T_471b6_row15_col8\" class=\"data row15 col8\" >0.0050</td>\n",
       "    </tr>\n",
       "  </tbody>\n",
       "</table>\n"
      ],
      "text/plain": [
       "<pandas.io.formats.style.Styler at 0x1401c077670>"
      ]
     },
     "metadata": {},
     "output_type": "display_data"
    },
    {
     "data": {
      "text/plain": [
       "[GradientBoostingClassifier(ccp_alpha=0.0, criterion='friedman_mse', init=None,\n",
       "                            learning_rate=0.1, loss='deviance', max_depth=3,\n",
       "                            max_features=None, max_leaf_nodes=None,\n",
       "                            min_impurity_decrease=0.0, min_impurity_split=None,\n",
       "                            min_samples_leaf=1, min_samples_split=2,\n",
       "                            min_weight_fraction_leaf=0.0, n_estimators=100,\n",
       "                            n_iter_no_change=None, presort='deprecated',\n",
       "                            random_state=7867, subsample=1.0, tol=0.0001,\n",
       "                            validation_fraction=0.1, verbose=0,\n",
       "                            warm_start=False),\n",
       " <catboost.core.CatBoostClassifier at 0x1401bffa550>,\n",
       " LGBMClassifier(boosting_type='gbdt', class_weight=None, colsample_bytree=1.0,\n",
       "                importance_type='split', learning_rate=0.1, max_depth=-1,\n",
       "                min_child_samples=20, min_child_weight=0.001, min_split_gain=0.0,\n",
       "                n_estimators=100, n_jobs=-1, num_leaves=31, objective=None,\n",
       "                random_state=7867, reg_alpha=0.0, reg_lambda=0.0, silent='warn',\n",
       "                subsample=1.0, subsample_for_bin=200000, subsample_freq=0),\n",
       " RandomForestClassifier(bootstrap=True, ccp_alpha=0.0, class_weight=None,\n",
       "                        criterion='gini', max_depth=None, max_features='auto',\n",
       "                        max_leaf_nodes=None, max_samples=None,\n",
       "                        min_impurity_decrease=0.0, min_impurity_split=None,\n",
       "                        min_samples_leaf=1, min_samples_split=2,\n",
       "                        min_weight_fraction_leaf=0.0, n_estimators=100,\n",
       "                        n_jobs=-1, oob_score=False, random_state=7867, verbose=0,\n",
       "                        warm_start=False),\n",
       " AdaBoostClassifier(algorithm='SAMME.R', base_estimator=None, learning_rate=1.0,\n",
       "                    n_estimators=50, random_state=7867)]"
      ]
     },
     "execution_count": 24,
     "metadata": {},
     "output_type": "execute_result"
    }
   ],
   "source": [
    "%time \n",
    "compare_models(sort='Accuracy',n_select = 5)"
   ]
  },
  {
   "cell_type": "code",
   "execution_count": 25,
   "metadata": {},
   "outputs": [],
   "source": [
    "catboost = create_model('catboost',verbose = False)\n",
    "lightgbm = create_model('lightgbm',verbose = False)"
   ]
  },
  {
   "cell_type": "code",
   "execution_count": 26,
   "metadata": {},
   "outputs": [
    {
     "data": {
      "text/html": [
       "<style type=\"text/css\">\n",
       "#T_30566_row10_col0, #T_30566_row10_col1, #T_30566_row10_col2, #T_30566_row10_col3, #T_30566_row10_col4, #T_30566_row10_col5, #T_30566_row10_col6 {\n",
       "  background: yellow;\n",
       "}\n",
       "</style>\n",
       "<table id=\"T_30566\">\n",
       "  <thead>\n",
       "    <tr>\n",
       "      <th class=\"blank level0\" >&nbsp;</th>\n",
       "      <th id=\"T_30566_level0_col0\" class=\"col_heading level0 col0\" >Accuracy</th>\n",
       "      <th id=\"T_30566_level0_col1\" class=\"col_heading level0 col1\" >AUC</th>\n",
       "      <th id=\"T_30566_level0_col2\" class=\"col_heading level0 col2\" >Recall</th>\n",
       "      <th id=\"T_30566_level0_col3\" class=\"col_heading level0 col3\" >Prec.</th>\n",
       "      <th id=\"T_30566_level0_col4\" class=\"col_heading level0 col4\" >F1</th>\n",
       "      <th id=\"T_30566_level0_col5\" class=\"col_heading level0 col5\" >Kappa</th>\n",
       "      <th id=\"T_30566_level0_col6\" class=\"col_heading level0 col6\" >MCC</th>\n",
       "    </tr>\n",
       "    <tr>\n",
       "      <th class=\"index_name level0\" >Fold</th>\n",
       "      <th class=\"blank col0\" >&nbsp;</th>\n",
       "      <th class=\"blank col1\" >&nbsp;</th>\n",
       "      <th class=\"blank col2\" >&nbsp;</th>\n",
       "      <th class=\"blank col3\" >&nbsp;</th>\n",
       "      <th class=\"blank col4\" >&nbsp;</th>\n",
       "      <th class=\"blank col5\" >&nbsp;</th>\n",
       "      <th class=\"blank col6\" >&nbsp;</th>\n",
       "    </tr>\n",
       "  </thead>\n",
       "  <tbody>\n",
       "    <tr>\n",
       "      <th id=\"T_30566_level0_row0\" class=\"row_heading level0 row0\" >0</th>\n",
       "      <td id=\"T_30566_row0_col0\" class=\"data row0 col0\" >0.8500</td>\n",
       "      <td id=\"T_30566_row0_col1\" class=\"data row0 col1\" >0.9323</td>\n",
       "      <td id=\"T_30566_row0_col2\" class=\"data row0 col2\" >0.8516</td>\n",
       "      <td id=\"T_30566_row0_col3\" class=\"data row0 col3\" >0.8587</td>\n",
       "      <td id=\"T_30566_row0_col4\" class=\"data row0 col4\" >0.8552</td>\n",
       "      <td id=\"T_30566_row0_col5\" class=\"data row0 col5\" >0.6996</td>\n",
       "      <td id=\"T_30566_row0_col6\" class=\"data row0 col6\" >0.6996</td>\n",
       "    </tr>\n",
       "    <tr>\n",
       "      <th id=\"T_30566_level0_row1\" class=\"row_heading level0 row1\" >1</th>\n",
       "      <td id=\"T_30566_row1_col0\" class=\"data row1 col0\" >0.8557</td>\n",
       "      <td id=\"T_30566_row1_col1\" class=\"data row1 col1\" >0.9247</td>\n",
       "      <td id=\"T_30566_row1_col2\" class=\"data row1 col2\" >0.8654</td>\n",
       "      <td id=\"T_30566_row1_col3\" class=\"data row1 col3\" >0.8583</td>\n",
       "      <td id=\"T_30566_row1_col4\" class=\"data row1 col4\" >0.8618</td>\n",
       "      <td id=\"T_30566_row1_col5\" class=\"data row1 col5\" >0.7109</td>\n",
       "      <td id=\"T_30566_row1_col6\" class=\"data row1 col6\" >0.7109</td>\n",
       "    </tr>\n",
       "    <tr>\n",
       "      <th id=\"T_30566_level0_row2\" class=\"row_heading level0 row2\" >2</th>\n",
       "      <td id=\"T_30566_row2_col0\" class=\"data row2 col0\" >0.8671</td>\n",
       "      <td id=\"T_30566_row2_col1\" class=\"data row2 col1\" >0.9320</td>\n",
       "      <td id=\"T_30566_row2_col2\" class=\"data row2 col2\" >0.8654</td>\n",
       "      <td id=\"T_30566_row2_col3\" class=\"data row2 col3\" >0.8774</td>\n",
       "      <td id=\"T_30566_row2_col4\" class=\"data row2 col4\" >0.8714</td>\n",
       "      <td id=\"T_30566_row2_col5\" class=\"data row2 col5\" >0.7340</td>\n",
       "      <td id=\"T_30566_row2_col6\" class=\"data row2 col6\" >0.7341</td>\n",
       "    </tr>\n",
       "    <tr>\n",
       "      <th id=\"T_30566_level0_row3\" class=\"row_heading level0 row3\" >3</th>\n",
       "      <td id=\"T_30566_row3_col0\" class=\"data row3 col0\" >0.8800</td>\n",
       "      <td id=\"T_30566_row3_col1\" class=\"data row3 col1\" >0.9332</td>\n",
       "      <td id=\"T_30566_row3_col2\" class=\"data row3 col2\" >0.8791</td>\n",
       "      <td id=\"T_30566_row3_col3\" class=\"data row3 col3\" >0.8889</td>\n",
       "      <td id=\"T_30566_row3_col4\" class=\"data row3 col4\" >0.8840</td>\n",
       "      <td id=\"T_30566_row3_col5\" class=\"data row3 col5\" >0.7597</td>\n",
       "      <td id=\"T_30566_row3_col6\" class=\"data row3 col6\" >0.7598</td>\n",
       "    </tr>\n",
       "    <tr>\n",
       "      <th id=\"T_30566_level0_row4\" class=\"row_heading level0 row4\" >4</th>\n",
       "      <td id=\"T_30566_row4_col0\" class=\"data row4 col0\" >0.8671</td>\n",
       "      <td id=\"T_30566_row4_col1\" class=\"data row4 col1\" >0.9323</td>\n",
       "      <td id=\"T_30566_row4_col2\" class=\"data row4 col2\" >0.8764</td>\n",
       "      <td id=\"T_30566_row4_col3\" class=\"data row4 col3\" >0.8692</td>\n",
       "      <td id=\"T_30566_row4_col4\" class=\"data row4 col4\" >0.8728</td>\n",
       "      <td id=\"T_30566_row4_col5\" class=\"data row4 col5\" >0.7338</td>\n",
       "      <td id=\"T_30566_row4_col6\" class=\"data row4 col6\" >0.7338</td>\n",
       "    </tr>\n",
       "    <tr>\n",
       "      <th id=\"T_30566_level0_row5\" class=\"row_heading level0 row5\" >5</th>\n",
       "      <td id=\"T_30566_row5_col0\" class=\"data row5 col0\" >0.8757</td>\n",
       "      <td id=\"T_30566_row5_col1\" class=\"data row5 col1\" >0.9442</td>\n",
       "      <td id=\"T_30566_row5_col2\" class=\"data row5 col2\" >0.9011</td>\n",
       "      <td id=\"T_30566_row5_col3\" class=\"data row5 col3\" >0.8654</td>\n",
       "      <td id=\"T_30566_row5_col4\" class=\"data row5 col4\" >0.8829</td>\n",
       "      <td id=\"T_30566_row5_col5\" class=\"data row5 col5\" >0.7506</td>\n",
       "      <td id=\"T_30566_row5_col6\" class=\"data row5 col6\" >0.7513</td>\n",
       "    </tr>\n",
       "    <tr>\n",
       "      <th id=\"T_30566_level0_row6\" class=\"row_heading level0 row6\" >6</th>\n",
       "      <td id=\"T_30566_row6_col0\" class=\"data row6 col0\" >0.8843</td>\n",
       "      <td id=\"T_30566_row6_col1\" class=\"data row6 col1\" >0.9507</td>\n",
       "      <td id=\"T_30566_row6_col2\" class=\"data row6 col2\" >0.8901</td>\n",
       "      <td id=\"T_30566_row6_col3\" class=\"data row6 col3\" >0.8877</td>\n",
       "      <td id=\"T_30566_row6_col4\" class=\"data row6 col4\" >0.8889</td>\n",
       "      <td id=\"T_30566_row6_col5\" class=\"data row6 col5\" >0.7682</td>\n",
       "      <td id=\"T_30566_row6_col6\" class=\"data row6 col6\" >0.7682</td>\n",
       "    </tr>\n",
       "    <tr>\n",
       "      <th id=\"T_30566_level0_row7\" class=\"row_heading level0 row7\" >7</th>\n",
       "      <td id=\"T_30566_row7_col0\" class=\"data row7 col0\" >0.8700</td>\n",
       "      <td id=\"T_30566_row7_col1\" class=\"data row7 col1\" >0.9378</td>\n",
       "      <td id=\"T_30566_row7_col2\" class=\"data row7 col2\" >0.8571</td>\n",
       "      <td id=\"T_30566_row7_col3\" class=\"data row7 col3\" >0.8889</td>\n",
       "      <td id=\"T_30566_row7_col4\" class=\"data row7 col4\" >0.8727</td>\n",
       "      <td id=\"T_30566_row7_col5\" class=\"data row7 col5\" >0.7400</td>\n",
       "      <td id=\"T_30566_row7_col6\" class=\"data row7 col6\" >0.7405</td>\n",
       "    </tr>\n",
       "    <tr>\n",
       "      <th id=\"T_30566_level0_row8\" class=\"row_heading level0 row8\" >8</th>\n",
       "      <td id=\"T_30566_row8_col0\" class=\"data row8 col0\" >0.8757</td>\n",
       "      <td id=\"T_30566_row8_col1\" class=\"data row8 col1\" >0.9479</td>\n",
       "      <td id=\"T_30566_row8_col2\" class=\"data row8 col2\" >0.8926</td>\n",
       "      <td id=\"T_30566_row8_col3\" class=\"data row8 col3\" >0.8710</td>\n",
       "      <td id=\"T_30566_row8_col4\" class=\"data row8 col4\" >0.8816</td>\n",
       "      <td id=\"T_30566_row8_col5\" class=\"data row8 col5\" >0.7508</td>\n",
       "      <td id=\"T_30566_row8_col6\" class=\"data row8 col6\" >0.7511</td>\n",
       "    </tr>\n",
       "    <tr>\n",
       "      <th id=\"T_30566_level0_row9\" class=\"row_heading level0 row9\" >9</th>\n",
       "      <td id=\"T_30566_row9_col0\" class=\"data row9 col0\" >0.8612</td>\n",
       "      <td id=\"T_30566_row9_col1\" class=\"data row9 col1\" >0.9394</td>\n",
       "      <td id=\"T_30566_row9_col2\" class=\"data row9 col2\" >0.8678</td>\n",
       "      <td id=\"T_30566_row9_col3\" class=\"data row9 col3\" >0.8654</td>\n",
       "      <td id=\"T_30566_row9_col4\" class=\"data row9 col4\" >0.8666</td>\n",
       "      <td id=\"T_30566_row9_col5\" class=\"data row9 col5\" >0.7220</td>\n",
       "      <td id=\"T_30566_row9_col6\" class=\"data row9 col6\" >0.7220</td>\n",
       "    </tr>\n",
       "    <tr>\n",
       "      <th id=\"T_30566_level0_row10\" class=\"row_heading level0 row10\" >Mean</th>\n",
       "      <td id=\"T_30566_row10_col0\" class=\"data row10 col0\" >0.8687</td>\n",
       "      <td id=\"T_30566_row10_col1\" class=\"data row10 col1\" >0.9374</td>\n",
       "      <td id=\"T_30566_row10_col2\" class=\"data row10 col2\" >0.8747</td>\n",
       "      <td id=\"T_30566_row10_col3\" class=\"data row10 col3\" >0.8731</td>\n",
       "      <td id=\"T_30566_row10_col4\" class=\"data row10 col4\" >0.8738</td>\n",
       "      <td id=\"T_30566_row10_col5\" class=\"data row10 col5\" >0.7370</td>\n",
       "      <td id=\"T_30566_row10_col6\" class=\"data row10 col6\" >0.7371</td>\n",
       "    </tr>\n",
       "    <tr>\n",
       "      <th id=\"T_30566_level0_row11\" class=\"row_heading level0 row11\" >Std</th>\n",
       "      <td id=\"T_30566_row11_col0\" class=\"data row11 col0\" >0.0102</td>\n",
       "      <td id=\"T_30566_row11_col1\" class=\"data row11 col1\" >0.0077</td>\n",
       "      <td id=\"T_30566_row11_col2\" class=\"data row11 col2\" >0.0153</td>\n",
       "      <td id=\"T_30566_row11_col3\" class=\"data row11 col3\" >0.0114</td>\n",
       "      <td id=\"T_30566_row11_col4\" class=\"data row11 col4\" >0.0101</td>\n",
       "      <td id=\"T_30566_row11_col5\" class=\"data row11 col5\" >0.0205</td>\n",
       "      <td id=\"T_30566_row11_col6\" class=\"data row11 col6\" >0.0206</td>\n",
       "    </tr>\n",
       "  </tbody>\n",
       "</table>\n"
      ],
      "text/plain": [
       "<pandas.io.formats.style.Styler at 0x1401c09e8e0>"
      ]
     },
     "metadata": {},
     "output_type": "display_data"
    }
   ],
   "source": [
    "%time\n",
    "tuned_catboost = tune_model(catboost, optimize = 'Accuracy', early_stopping = True)"
   ]
  },
  {
   "cell_type": "code",
   "execution_count": 27,
   "metadata": {},
   "outputs": [
    {
     "data": {
      "text/html": [
       "<style type=\"text/css\">\n",
       "#T_2726a_row10_col0, #T_2726a_row10_col1, #T_2726a_row10_col2, #T_2726a_row10_col3, #T_2726a_row10_col4, #T_2726a_row10_col5, #T_2726a_row10_col6 {\n",
       "  background: yellow;\n",
       "}\n",
       "</style>\n",
       "<table id=\"T_2726a\">\n",
       "  <thead>\n",
       "    <tr>\n",
       "      <th class=\"blank level0\" >&nbsp;</th>\n",
       "      <th id=\"T_2726a_level0_col0\" class=\"col_heading level0 col0\" >Accuracy</th>\n",
       "      <th id=\"T_2726a_level0_col1\" class=\"col_heading level0 col1\" >AUC</th>\n",
       "      <th id=\"T_2726a_level0_col2\" class=\"col_heading level0 col2\" >Recall</th>\n",
       "      <th id=\"T_2726a_level0_col3\" class=\"col_heading level0 col3\" >Prec.</th>\n",
       "      <th id=\"T_2726a_level0_col4\" class=\"col_heading level0 col4\" >F1</th>\n",
       "      <th id=\"T_2726a_level0_col5\" class=\"col_heading level0 col5\" >Kappa</th>\n",
       "      <th id=\"T_2726a_level0_col6\" class=\"col_heading level0 col6\" >MCC</th>\n",
       "    </tr>\n",
       "    <tr>\n",
       "      <th class=\"index_name level0\" >Fold</th>\n",
       "      <th class=\"blank col0\" >&nbsp;</th>\n",
       "      <th class=\"blank col1\" >&nbsp;</th>\n",
       "      <th class=\"blank col2\" >&nbsp;</th>\n",
       "      <th class=\"blank col3\" >&nbsp;</th>\n",
       "      <th class=\"blank col4\" >&nbsp;</th>\n",
       "      <th class=\"blank col5\" >&nbsp;</th>\n",
       "      <th class=\"blank col6\" >&nbsp;</th>\n",
       "    </tr>\n",
       "  </thead>\n",
       "  <tbody>\n",
       "    <tr>\n",
       "      <th id=\"T_2726a_level0_row0\" class=\"row_heading level0 row0\" >0</th>\n",
       "      <td id=\"T_2726a_row0_col0\" class=\"data row0 col0\" >0.8471</td>\n",
       "      <td id=\"T_2726a_row0_col1\" class=\"data row0 col1\" >0.9316</td>\n",
       "      <td id=\"T_2726a_row0_col2\" class=\"data row0 col2\" >0.8489</td>\n",
       "      <td id=\"T_2726a_row0_col3\" class=\"data row0 col3\" >0.8560</td>\n",
       "      <td id=\"T_2726a_row0_col4\" class=\"data row0 col4\" >0.8524</td>\n",
       "      <td id=\"T_2726a_row0_col5\" class=\"data row0 col5\" >0.6939</td>\n",
       "      <td id=\"T_2726a_row0_col6\" class=\"data row0 col6\" >0.6939</td>\n",
       "    </tr>\n",
       "    <tr>\n",
       "      <th id=\"T_2726a_level0_row1\" class=\"row_heading level0 row1\" >1</th>\n",
       "      <td id=\"T_2726a_row1_col0\" class=\"data row1 col0\" >0.8500</td>\n",
       "      <td id=\"T_2726a_row1_col1\" class=\"data row1 col1\" >0.9231</td>\n",
       "      <td id=\"T_2726a_row1_col2\" class=\"data row1 col2\" >0.8626</td>\n",
       "      <td id=\"T_2726a_row1_col3\" class=\"data row1 col3\" >0.8509</td>\n",
       "      <td id=\"T_2726a_row1_col4\" class=\"data row1 col4\" >0.8568</td>\n",
       "      <td id=\"T_2726a_row1_col5\" class=\"data row1 col5\" >0.6993</td>\n",
       "      <td id=\"T_2726a_row1_col6\" class=\"data row1 col6\" >0.6994</td>\n",
       "    </tr>\n",
       "    <tr>\n",
       "      <th id=\"T_2726a_level0_row2\" class=\"row_heading level0 row2\" >2</th>\n",
       "      <td id=\"T_2726a_row2_col0\" class=\"data row2 col0\" >0.8600</td>\n",
       "      <td id=\"T_2726a_row2_col1\" class=\"data row2 col1\" >0.9327</td>\n",
       "      <td id=\"T_2726a_row2_col2\" class=\"data row2 col2\" >0.8654</td>\n",
       "      <td id=\"T_2726a_row2_col3\" class=\"data row2 col3\" >0.8654</td>\n",
       "      <td id=\"T_2726a_row2_col4\" class=\"data row2 col4\" >0.8654</td>\n",
       "      <td id=\"T_2726a_row2_col5\" class=\"data row2 col5\" >0.7196</td>\n",
       "      <td id=\"T_2726a_row2_col6\" class=\"data row2 col6\" >0.7196</td>\n",
       "    </tr>\n",
       "    <tr>\n",
       "      <th id=\"T_2726a_level0_row3\" class=\"row_heading level0 row3\" >3</th>\n",
       "      <td id=\"T_2726a_row3_col0\" class=\"data row3 col0\" >0.8771</td>\n",
       "      <td id=\"T_2726a_row3_col1\" class=\"data row3 col1\" >0.9324</td>\n",
       "      <td id=\"T_2726a_row3_col2\" class=\"data row3 col2\" >0.8819</td>\n",
       "      <td id=\"T_2726a_row3_col3\" class=\"data row3 col3\" >0.8819</td>\n",
       "      <td id=\"T_2726a_row3_col4\" class=\"data row3 col4\" >0.8819</td>\n",
       "      <td id=\"T_2726a_row3_col5\" class=\"data row3 col5\" >0.7539</td>\n",
       "      <td id=\"T_2726a_row3_col6\" class=\"data row3 col6\" >0.7539</td>\n",
       "    </tr>\n",
       "    <tr>\n",
       "      <th id=\"T_2726a_level0_row4\" class=\"row_heading level0 row4\" >4</th>\n",
       "      <td id=\"T_2726a_row4_col0\" class=\"data row4 col0\" >0.8671</td>\n",
       "      <td id=\"T_2726a_row4_col1\" class=\"data row4 col1\" >0.9324</td>\n",
       "      <td id=\"T_2726a_row4_col2\" class=\"data row4 col2\" >0.8736</td>\n",
       "      <td id=\"T_2726a_row4_col3\" class=\"data row4 col3\" >0.8712</td>\n",
       "      <td id=\"T_2726a_row4_col4\" class=\"data row4 col4\" >0.8724</td>\n",
       "      <td id=\"T_2726a_row4_col5\" class=\"data row4 col5\" >0.7338</td>\n",
       "      <td id=\"T_2726a_row4_col6\" class=\"data row4 col6\" >0.7338</td>\n",
       "    </tr>\n",
       "    <tr>\n",
       "      <th id=\"T_2726a_level0_row5\" class=\"row_heading level0 row5\" >5</th>\n",
       "      <td id=\"T_2726a_row5_col0\" class=\"data row5 col0\" >0.8786</td>\n",
       "      <td id=\"T_2726a_row5_col1\" class=\"data row5 col1\" >0.9447</td>\n",
       "      <td id=\"T_2726a_row5_col2\" class=\"data row5 col2\" >0.9066</td>\n",
       "      <td id=\"T_2726a_row5_col3\" class=\"data row5 col3\" >0.8661</td>\n",
       "      <td id=\"T_2726a_row5_col4\" class=\"data row5 col4\" >0.8859</td>\n",
       "      <td id=\"T_2726a_row5_col5\" class=\"data row5 col5\" >0.7563</td>\n",
       "      <td id=\"T_2726a_row5_col6\" class=\"data row5 col6\" >0.7572</td>\n",
       "    </tr>\n",
       "    <tr>\n",
       "      <th id=\"T_2726a_level0_row6\" class=\"row_heading level0 row6\" >6</th>\n",
       "      <td id=\"T_2726a_row6_col0\" class=\"data row6 col0\" >0.8900</td>\n",
       "      <td id=\"T_2726a_row6_col1\" class=\"data row6 col1\" >0.9514</td>\n",
       "      <td id=\"T_2726a_row6_col2\" class=\"data row6 col2\" >0.9038</td>\n",
       "      <td id=\"T_2726a_row6_col3\" class=\"data row6 col3\" >0.8868</td>\n",
       "      <td id=\"T_2726a_row6_col4\" class=\"data row6 col4\" >0.8952</td>\n",
       "      <td id=\"T_2726a_row6_col5\" class=\"data row6 col5\" >0.7795</td>\n",
       "      <td id=\"T_2726a_row6_col6\" class=\"data row6 col6\" >0.7796</td>\n",
       "    </tr>\n",
       "    <tr>\n",
       "      <th id=\"T_2726a_level0_row7\" class=\"row_heading level0 row7\" >7</th>\n",
       "      <td id=\"T_2726a_row7_col0\" class=\"data row7 col0\" >0.8729</td>\n",
       "      <td id=\"T_2726a_row7_col1\" class=\"data row7 col1\" >0.9351</td>\n",
       "      <td id=\"T_2726a_row7_col2\" class=\"data row7 col2\" >0.8654</td>\n",
       "      <td id=\"T_2726a_row7_col3\" class=\"data row7 col3\" >0.8873</td>\n",
       "      <td id=\"T_2726a_row7_col4\" class=\"data row7 col4\" >0.8762</td>\n",
       "      <td id=\"T_2726a_row7_col5\" class=\"data row7 col5\" >0.7456</td>\n",
       "      <td id=\"T_2726a_row7_col6\" class=\"data row7 col6\" >0.7458</td>\n",
       "    </tr>\n",
       "    <tr>\n",
       "      <th id=\"T_2726a_level0_row8\" class=\"row_heading level0 row8\" >8</th>\n",
       "      <td id=\"T_2726a_row8_col0\" class=\"data row8 col0\" >0.8843</td>\n",
       "      <td id=\"T_2726a_row8_col1\" class=\"data row8 col1\" >0.9488</td>\n",
       "      <td id=\"T_2726a_row8_col2\" class=\"data row8 col2\" >0.9063</td>\n",
       "      <td id=\"T_2726a_row8_col3\" class=\"data row8 col3\" >0.8750</td>\n",
       "      <td id=\"T_2726a_row8_col4\" class=\"data row8 col4\" >0.8904</td>\n",
       "      <td id=\"T_2726a_row8_col5\" class=\"data row8 col5\" >0.7679</td>\n",
       "      <td id=\"T_2726a_row8_col6\" class=\"data row8 col6\" >0.7685</td>\n",
       "    </tr>\n",
       "    <tr>\n",
       "      <th id=\"T_2726a_level0_row9\" class=\"row_heading level0 row9\" >9</th>\n",
       "      <td id=\"T_2726a_row9_col0\" class=\"data row9 col0\" >0.8641</td>\n",
       "      <td id=\"T_2726a_row9_col1\" class=\"data row9 col1\" >0.9371</td>\n",
       "      <td id=\"T_2726a_row9_col2\" class=\"data row9 col2\" >0.8843</td>\n",
       "      <td id=\"T_2726a_row9_col3\" class=\"data row9 col3\" >0.8583</td>\n",
       "      <td id=\"T_2726a_row9_col4\" class=\"data row9 col4\" >0.8711</td>\n",
       "      <td id=\"T_2726a_row9_col5\" class=\"data row9 col5\" >0.7274</td>\n",
       "      <td id=\"T_2726a_row9_col6\" class=\"data row9 col6\" >0.7278</td>\n",
       "    </tr>\n",
       "    <tr>\n",
       "      <th id=\"T_2726a_level0_row10\" class=\"row_heading level0 row10\" >Mean</th>\n",
       "      <td id=\"T_2726a_row10_col0\" class=\"data row10 col0\" >0.8691</td>\n",
       "      <td id=\"T_2726a_row10_col1\" class=\"data row10 col1\" >0.9369</td>\n",
       "      <td id=\"T_2726a_row10_col2\" class=\"data row10 col2\" >0.8799</td>\n",
       "      <td id=\"T_2726a_row10_col3\" class=\"data row10 col3\" >0.8699</td>\n",
       "      <td id=\"T_2726a_row10_col4\" class=\"data row10 col4\" >0.8748</td>\n",
       "      <td id=\"T_2726a_row10_col5\" class=\"data row10 col5\" >0.7377</td>\n",
       "      <td id=\"T_2726a_row10_col6\" class=\"data row10 col6\" >0.7380</td>\n",
       "    </tr>\n",
       "    <tr>\n",
       "      <th id=\"T_2726a_level0_row11\" class=\"row_heading level0 row11\" >Std</th>\n",
       "      <td id=\"T_2726a_row11_col0\" class=\"data row11 col0\" >0.0134</td>\n",
       "      <td id=\"T_2726a_row11_col1\" class=\"data row11 col1\" >0.0083</td>\n",
       "      <td id=\"T_2726a_row11_col2\" class=\"data row11 col2\" >0.0193</td>\n",
       "      <td id=\"T_2726a_row11_col3\" class=\"data row11 col3\" >0.0122</td>\n",
       "      <td id=\"T_2726a_row11_col4\" class=\"data row11 col4\" >0.0133</td>\n",
       "      <td id=\"T_2726a_row11_col5\" class=\"data row11 col5\" >0.0268</td>\n",
       "      <td id=\"T_2726a_row11_col6\" class=\"data row11 col6\" >0.0269</td>\n",
       "    </tr>\n",
       "  </tbody>\n",
       "</table>\n"
      ],
      "text/plain": [
       "<pandas.io.formats.style.Styler at 0x1401bffa4f0>"
      ]
     },
     "metadata": {},
     "output_type": "display_data"
    }
   ],
   "source": [
    "%time\n",
    "tuned_lightgbm = tune_model(lightgbm, optimize = 'Accuracy', early_stopping = True)"
   ]
  },
  {
   "cell_type": "code",
   "execution_count": 28,
   "metadata": {},
   "outputs": [
    {
     "data": {
      "text/html": [
       "<style type=\"text/css\">\n",
       "#T_870be_row10_col0, #T_870be_row10_col1, #T_870be_row10_col2, #T_870be_row10_col3, #T_870be_row10_col4, #T_870be_row10_col5, #T_870be_row10_col6 {\n",
       "  background: yellow;\n",
       "}\n",
       "</style>\n",
       "<table id=\"T_870be\">\n",
       "  <thead>\n",
       "    <tr>\n",
       "      <th class=\"blank level0\" >&nbsp;</th>\n",
       "      <th id=\"T_870be_level0_col0\" class=\"col_heading level0 col0\" >Accuracy</th>\n",
       "      <th id=\"T_870be_level0_col1\" class=\"col_heading level0 col1\" >AUC</th>\n",
       "      <th id=\"T_870be_level0_col2\" class=\"col_heading level0 col2\" >Recall</th>\n",
       "      <th id=\"T_870be_level0_col3\" class=\"col_heading level0 col3\" >Prec.</th>\n",
       "      <th id=\"T_870be_level0_col4\" class=\"col_heading level0 col4\" >F1</th>\n",
       "      <th id=\"T_870be_level0_col5\" class=\"col_heading level0 col5\" >Kappa</th>\n",
       "      <th id=\"T_870be_level0_col6\" class=\"col_heading level0 col6\" >MCC</th>\n",
       "    </tr>\n",
       "    <tr>\n",
       "      <th class=\"index_name level0\" >Fold</th>\n",
       "      <th class=\"blank col0\" >&nbsp;</th>\n",
       "      <th class=\"blank col1\" >&nbsp;</th>\n",
       "      <th class=\"blank col2\" >&nbsp;</th>\n",
       "      <th class=\"blank col3\" >&nbsp;</th>\n",
       "      <th class=\"blank col4\" >&nbsp;</th>\n",
       "      <th class=\"blank col5\" >&nbsp;</th>\n",
       "      <th class=\"blank col6\" >&nbsp;</th>\n",
       "    </tr>\n",
       "  </thead>\n",
       "  <tbody>\n",
       "    <tr>\n",
       "      <th id=\"T_870be_level0_row0\" class=\"row_heading level0 row0\" >0</th>\n",
       "      <td id=\"T_870be_row0_col0\" class=\"data row0 col0\" >0.8514</td>\n",
       "      <td id=\"T_870be_row0_col1\" class=\"data row0 col1\" >0.9306</td>\n",
       "      <td id=\"T_870be_row0_col2\" class=\"data row0 col2\" >0.8544</td>\n",
       "      <td id=\"T_870be_row0_col3\" class=\"data row0 col3\" >0.8591</td>\n",
       "      <td id=\"T_870be_row0_col4\" class=\"data row0 col4\" >0.8567</td>\n",
       "      <td id=\"T_870be_row0_col5\" class=\"data row0 col5\" >0.7024</td>\n",
       "      <td id=\"T_870be_row0_col6\" class=\"data row0 col6\" >0.7025</td>\n",
       "    </tr>\n",
       "    <tr>\n",
       "      <th id=\"T_870be_level0_row1\" class=\"row_heading level0 row1\" >1</th>\n",
       "      <td id=\"T_870be_row1_col0\" class=\"data row1 col0\" >0.8500</td>\n",
       "      <td id=\"T_870be_row1_col1\" class=\"data row1 col1\" >0.9211</td>\n",
       "      <td id=\"T_870be_row1_col2\" class=\"data row1 col2\" >0.8654</td>\n",
       "      <td id=\"T_870be_row1_col3\" class=\"data row1 col3\" >0.8491</td>\n",
       "      <td id=\"T_870be_row1_col4\" class=\"data row1 col4\" >0.8571</td>\n",
       "      <td id=\"T_870be_row1_col5\" class=\"data row1 col5\" >0.6993</td>\n",
       "      <td id=\"T_870be_row1_col6\" class=\"data row1 col6\" >0.6994</td>\n",
       "    </tr>\n",
       "    <tr>\n",
       "      <th id=\"T_870be_level0_row2\" class=\"row_heading level0 row2\" >2</th>\n",
       "      <td id=\"T_870be_row2_col0\" class=\"data row2 col0\" >0.8643</td>\n",
       "      <td id=\"T_870be_row2_col1\" class=\"data row2 col1\" >0.9318</td>\n",
       "      <td id=\"T_870be_row2_col2\" class=\"data row2 col2\" >0.8681</td>\n",
       "      <td id=\"T_870be_row2_col3\" class=\"data row2 col3\" >0.8705</td>\n",
       "      <td id=\"T_870be_row2_col4\" class=\"data row2 col4\" >0.8693</td>\n",
       "      <td id=\"T_870be_row2_col5\" class=\"data row2 col5\" >0.7282</td>\n",
       "      <td id=\"T_870be_row2_col6\" class=\"data row2 col6\" >0.7282</td>\n",
       "    </tr>\n",
       "    <tr>\n",
       "      <th id=\"T_870be_level0_row3\" class=\"row_heading level0 row3\" >3</th>\n",
       "      <td id=\"T_870be_row3_col0\" class=\"data row3 col0\" >0.8786</td>\n",
       "      <td id=\"T_870be_row3_col1\" class=\"data row3 col1\" >0.9343</td>\n",
       "      <td id=\"T_870be_row3_col2\" class=\"data row3 col2\" >0.8764</td>\n",
       "      <td id=\"T_870be_row3_col3\" class=\"data row3 col3\" >0.8886</td>\n",
       "      <td id=\"T_870be_row3_col4\" class=\"data row3 col4\" >0.8824</td>\n",
       "      <td id=\"T_870be_row3_col5\" class=\"data row3 col5\" >0.7569</td>\n",
       "      <td id=\"T_870be_row3_col6\" class=\"data row3 col6\" >0.7570</td>\n",
       "    </tr>\n",
       "    <tr>\n",
       "      <th id=\"T_870be_level0_row4\" class=\"row_heading level0 row4\" >4</th>\n",
       "      <td id=\"T_870be_row4_col0\" class=\"data row4 col0\" >0.8757</td>\n",
       "      <td id=\"T_870be_row4_col1\" class=\"data row4 col1\" >0.9347</td>\n",
       "      <td id=\"T_870be_row4_col2\" class=\"data row4 col2\" >0.8819</td>\n",
       "      <td id=\"T_870be_row4_col3\" class=\"data row4 col3\" >0.8795</td>\n",
       "      <td id=\"T_870be_row4_col4\" class=\"data row4 col4\" >0.8807</td>\n",
       "      <td id=\"T_870be_row4_col5\" class=\"data row4 col5\" >0.7510</td>\n",
       "      <td id=\"T_870be_row4_col6\" class=\"data row4 col6\" >0.7510</td>\n",
       "    </tr>\n",
       "    <tr>\n",
       "      <th id=\"T_870be_level0_row5\" class=\"row_heading level0 row5\" >5</th>\n",
       "      <td id=\"T_870be_row5_col0\" class=\"data row5 col0\" >0.8671</td>\n",
       "      <td id=\"T_870be_row5_col1\" class=\"data row5 col1\" >0.9415</td>\n",
       "      <td id=\"T_870be_row5_col2\" class=\"data row5 col2\" >0.8956</td>\n",
       "      <td id=\"T_870be_row5_col3\" class=\"data row5 col3\" >0.8556</td>\n",
       "      <td id=\"T_870be_row5_col4\" class=\"data row5 col4\" >0.8752</td>\n",
       "      <td id=\"T_870be_row5_col5\" class=\"data row5 col5\" >0.7333</td>\n",
       "      <td id=\"T_870be_row5_col6\" class=\"data row5 col6\" >0.7342</td>\n",
       "    </tr>\n",
       "    <tr>\n",
       "      <th id=\"T_870be_level0_row6\" class=\"row_heading level0 row6\" >6</th>\n",
       "      <td id=\"T_870be_row6_col0\" class=\"data row6 col0\" >0.8814</td>\n",
       "      <td id=\"T_870be_row6_col1\" class=\"data row6 col1\" >0.9489</td>\n",
       "      <td id=\"T_870be_row6_col2\" class=\"data row6 col2\" >0.8874</td>\n",
       "      <td id=\"T_870be_row6_col3\" class=\"data row6 col3\" >0.8849</td>\n",
       "      <td id=\"T_870be_row6_col4\" class=\"data row6 col4\" >0.8861</td>\n",
       "      <td id=\"T_870be_row6_col5\" class=\"data row6 col5\" >0.7624</td>\n",
       "      <td id=\"T_870be_row6_col6\" class=\"data row6 col6\" >0.7625</td>\n",
       "    </tr>\n",
       "    <tr>\n",
       "      <th id=\"T_870be_level0_row7\" class=\"row_heading level0 row7\" >7</th>\n",
       "      <td id=\"T_870be_row7_col0\" class=\"data row7 col0\" >0.8714</td>\n",
       "      <td id=\"T_870be_row7_col1\" class=\"data row7 col1\" >0.9363</td>\n",
       "      <td id=\"T_870be_row7_col2\" class=\"data row7 col2\" >0.8626</td>\n",
       "      <td id=\"T_870be_row7_col3\" class=\"data row7 col3\" >0.8870</td>\n",
       "      <td id=\"T_870be_row7_col4\" class=\"data row7 col4\" >0.8747</td>\n",
       "      <td id=\"T_870be_row7_col5\" class=\"data row7 col5\" >0.7427</td>\n",
       "      <td id=\"T_870be_row7_col6\" class=\"data row7 col6\" >0.7430</td>\n",
       "    </tr>\n",
       "    <tr>\n",
       "      <th id=\"T_870be_level0_row8\" class=\"row_heading level0 row8\" >8</th>\n",
       "      <td id=\"T_870be_row8_col0\" class=\"data row8 col0\" >0.8743</td>\n",
       "      <td id=\"T_870be_row8_col1\" class=\"data row8 col1\" >0.9461</td>\n",
       "      <td id=\"T_870be_row8_col2\" class=\"data row8 col2\" >0.8898</td>\n",
       "      <td id=\"T_870be_row8_col3\" class=\"data row8 col3\" >0.8706</td>\n",
       "      <td id=\"T_870be_row8_col4\" class=\"data row8 col4\" >0.8801</td>\n",
       "      <td id=\"T_870be_row8_col5\" class=\"data row8 col5\" >0.7480</td>\n",
       "      <td id=\"T_870be_row8_col6\" class=\"data row8 col6\" >0.7482</td>\n",
       "    </tr>\n",
       "    <tr>\n",
       "      <th id=\"T_870be_level0_row9\" class=\"row_heading level0 row9\" >9</th>\n",
       "      <td id=\"T_870be_row9_col0\" class=\"data row9 col0\" >0.8584</td>\n",
       "      <td id=\"T_870be_row9_col1\" class=\"data row9 col1\" >0.9386</td>\n",
       "      <td id=\"T_870be_row9_col2\" class=\"data row9 col2\" >0.8760</td>\n",
       "      <td id=\"T_870be_row9_col3\" class=\"data row9 col3\" >0.8548</td>\n",
       "      <td id=\"T_870be_row9_col4\" class=\"data row9 col4\" >0.8653</td>\n",
       "      <td id=\"T_870be_row9_col5\" class=\"data row9 col5\" >0.7160</td>\n",
       "      <td id=\"T_870be_row9_col6\" class=\"data row9 col6\" >0.7163</td>\n",
       "    </tr>\n",
       "    <tr>\n",
       "      <th id=\"T_870be_level0_row10\" class=\"row_heading level0 row10\" >Mean</th>\n",
       "      <td id=\"T_870be_row10_col0\" class=\"data row10 col0\" >0.8673</td>\n",
       "      <td id=\"T_870be_row10_col1\" class=\"data row10 col1\" >0.9364</td>\n",
       "      <td id=\"T_870be_row10_col2\" class=\"data row10 col2\" >0.8758</td>\n",
       "      <td id=\"T_870be_row10_col3\" class=\"data row10 col3\" >0.8700</td>\n",
       "      <td id=\"T_870be_row10_col4\" class=\"data row10 col4\" >0.8728</td>\n",
       "      <td id=\"T_870be_row10_col5\" class=\"data row10 col5\" >0.7340</td>\n",
       "      <td id=\"T_870be_row10_col6\" class=\"data row10 col6\" >0.7342</td>\n",
       "    </tr>\n",
       "    <tr>\n",
       "      <th id=\"T_870be_level0_row11\" class=\"row_heading level0 row11\" >Std</th>\n",
       "      <td id=\"T_870be_row11_col0\" class=\"data row11 col0\" >0.0105</td>\n",
       "      <td id=\"T_870be_row11_col1\" class=\"data row11 col1\" >0.0076</td>\n",
       "      <td id=\"T_870be_row11_col2\" class=\"data row11 col2\" >0.0125</td>\n",
       "      <td id=\"T_870be_row11_col3\" class=\"data row11 col3\" >0.0139</td>\n",
       "      <td id=\"T_870be_row11_col4\" class=\"data row11 col4\" >0.0098</td>\n",
       "      <td id=\"T_870be_row11_col5\" class=\"data row11 col5\" >0.0211</td>\n",
       "      <td id=\"T_870be_row11_col6\" class=\"data row11 col6\" >0.0211</td>\n",
       "    </tr>\n",
       "  </tbody>\n",
       "</table>\n"
      ],
      "text/plain": [
       "<pandas.io.formats.style.Styler at 0x1401bb29e50>"
      ]
     },
     "metadata": {},
     "output_type": "display_data"
    }
   ],
   "source": [
    "blend_soft = blend_models(estimator_list = [lightgbm,catboost], optimize = 'Accuracy',method = 'soft')"
   ]
  },
  {
   "cell_type": "code",
   "execution_count": 29,
   "metadata": {},
   "outputs": [
    {
     "data": {
      "text/html": [
       "<style type=\"text/css\">\n",
       "#T_cfd81_row10_col0, #T_cfd81_row10_col1, #T_cfd81_row10_col2, #T_cfd81_row10_col3, #T_cfd81_row10_col4, #T_cfd81_row10_col5, #T_cfd81_row10_col6 {\n",
       "  background: yellow;\n",
       "}\n",
       "</style>\n",
       "<table id=\"T_cfd81\">\n",
       "  <thead>\n",
       "    <tr>\n",
       "      <th class=\"blank level0\" >&nbsp;</th>\n",
       "      <th id=\"T_cfd81_level0_col0\" class=\"col_heading level0 col0\" >Accuracy</th>\n",
       "      <th id=\"T_cfd81_level0_col1\" class=\"col_heading level0 col1\" >AUC</th>\n",
       "      <th id=\"T_cfd81_level0_col2\" class=\"col_heading level0 col2\" >Recall</th>\n",
       "      <th id=\"T_cfd81_level0_col3\" class=\"col_heading level0 col3\" >Prec.</th>\n",
       "      <th id=\"T_cfd81_level0_col4\" class=\"col_heading level0 col4\" >F1</th>\n",
       "      <th id=\"T_cfd81_level0_col5\" class=\"col_heading level0 col5\" >Kappa</th>\n",
       "      <th id=\"T_cfd81_level0_col6\" class=\"col_heading level0 col6\" >MCC</th>\n",
       "    </tr>\n",
       "    <tr>\n",
       "      <th class=\"index_name level0\" >Fold</th>\n",
       "      <th class=\"blank col0\" >&nbsp;</th>\n",
       "      <th class=\"blank col1\" >&nbsp;</th>\n",
       "      <th class=\"blank col2\" >&nbsp;</th>\n",
       "      <th class=\"blank col3\" >&nbsp;</th>\n",
       "      <th class=\"blank col4\" >&nbsp;</th>\n",
       "      <th class=\"blank col5\" >&nbsp;</th>\n",
       "      <th class=\"blank col6\" >&nbsp;</th>\n",
       "    </tr>\n",
       "  </thead>\n",
       "  <tbody>\n",
       "    <tr>\n",
       "      <th id=\"T_cfd81_level0_row0\" class=\"row_heading level0 row0\" >0</th>\n",
       "      <td id=\"T_cfd81_row0_col0\" class=\"data row0 col0\" >0.8543</td>\n",
       "      <td id=\"T_cfd81_row0_col1\" class=\"data row0 col1\" >0.9327</td>\n",
       "      <td id=\"T_cfd81_row0_col2\" class=\"data row0 col2\" >0.8516</td>\n",
       "      <td id=\"T_cfd81_row0_col3\" class=\"data row0 col3\" >0.8659</td>\n",
       "      <td id=\"T_cfd81_row0_col4\" class=\"data row0 col4\" >0.8587</td>\n",
       "      <td id=\"T_cfd81_row0_col5\" class=\"data row0 col5\" >0.7083</td>\n",
       "      <td id=\"T_cfd81_row0_col6\" class=\"data row0 col6\" >0.7084</td>\n",
       "    </tr>\n",
       "    <tr>\n",
       "      <th id=\"T_cfd81_level0_row1\" class=\"row_heading level0 row1\" >1</th>\n",
       "      <td id=\"T_cfd81_row1_col0\" class=\"data row1 col0\" >0.8543</td>\n",
       "      <td id=\"T_cfd81_row1_col1\" class=\"data row1 col1\" >0.9230</td>\n",
       "      <td id=\"T_cfd81_row1_col2\" class=\"data row1 col2\" >0.8681</td>\n",
       "      <td id=\"T_cfd81_row1_col3\" class=\"data row1 col3\" >0.8541</td>\n",
       "      <td id=\"T_cfd81_row1_col4\" class=\"data row1 col4\" >0.8610</td>\n",
       "      <td id=\"T_cfd81_row1_col5\" class=\"data row1 col5\" >0.7079</td>\n",
       "      <td id=\"T_cfd81_row1_col6\" class=\"data row1 col6\" >0.7080</td>\n",
       "    </tr>\n",
       "    <tr>\n",
       "      <th id=\"T_cfd81_level0_row2\" class=\"row_heading level0 row2\" >2</th>\n",
       "      <td id=\"T_cfd81_row2_col0\" class=\"data row2 col0\" >0.8657</td>\n",
       "      <td id=\"T_cfd81_row2_col1\" class=\"data row2 col1\" >0.9324</td>\n",
       "      <td id=\"T_cfd81_row2_col2\" class=\"data row2 col2\" >0.8681</td>\n",
       "      <td id=\"T_cfd81_row2_col3\" class=\"data row2 col3\" >0.8729</td>\n",
       "      <td id=\"T_cfd81_row2_col4\" class=\"data row2 col4\" >0.8705</td>\n",
       "      <td id=\"T_cfd81_row2_col5\" class=\"data row2 col5\" >0.7311</td>\n",
       "      <td id=\"T_cfd81_row2_col6\" class=\"data row2 col6\" >0.7311</td>\n",
       "    </tr>\n",
       "    <tr>\n",
       "      <th id=\"T_cfd81_level0_row3\" class=\"row_heading level0 row3\" >3</th>\n",
       "      <td id=\"T_cfd81_row3_col0\" class=\"data row3 col0\" >0.8800</td>\n",
       "      <td id=\"T_cfd81_row3_col1\" class=\"data row3 col1\" >0.9359</td>\n",
       "      <td id=\"T_cfd81_row3_col2\" class=\"data row3 col2\" >0.8764</td>\n",
       "      <td id=\"T_cfd81_row3_col3\" class=\"data row3 col3\" >0.8911</td>\n",
       "      <td id=\"T_cfd81_row3_col4\" class=\"data row3 col4\" >0.8837</td>\n",
       "      <td id=\"T_cfd81_row3_col5\" class=\"data row3 col5\" >0.7598</td>\n",
       "      <td id=\"T_cfd81_row3_col6\" class=\"data row3 col6\" >0.7599</td>\n",
       "    </tr>\n",
       "    <tr>\n",
       "      <th id=\"T_cfd81_level0_row4\" class=\"row_heading level0 row4\" >4</th>\n",
       "      <td id=\"T_cfd81_row4_col0\" class=\"data row4 col0\" >0.8729</td>\n",
       "      <td id=\"T_cfd81_row4_col1\" class=\"data row4 col1\" >0.9363</td>\n",
       "      <td id=\"T_cfd81_row4_col2\" class=\"data row4 col2\" >0.8764</td>\n",
       "      <td id=\"T_cfd81_row4_col3\" class=\"data row4 col3\" >0.8788</td>\n",
       "      <td id=\"T_cfd81_row4_col4\" class=\"data row4 col4\" >0.8776</td>\n",
       "      <td id=\"T_cfd81_row4_col5\" class=\"data row4 col5\" >0.7453</td>\n",
       "      <td id=\"T_cfd81_row4_col6\" class=\"data row4 col6\" >0.7453</td>\n",
       "    </tr>\n",
       "    <tr>\n",
       "      <th id=\"T_cfd81_level0_row5\" class=\"row_heading level0 row5\" >5</th>\n",
       "      <td id=\"T_cfd81_row5_col0\" class=\"data row5 col0\" >0.8700</td>\n",
       "      <td id=\"T_cfd81_row5_col1\" class=\"data row5 col1\" >0.9448</td>\n",
       "      <td id=\"T_cfd81_row5_col2\" class=\"data row5 col2\" >0.8929</td>\n",
       "      <td id=\"T_cfd81_row5_col3\" class=\"data row5 col3\" >0.8621</td>\n",
       "      <td id=\"T_cfd81_row5_col4\" class=\"data row5 col4\" >0.8772</td>\n",
       "      <td id=\"T_cfd81_row5_col5\" class=\"data row5 col5\" >0.7392</td>\n",
       "      <td id=\"T_cfd81_row5_col6\" class=\"data row5 col6\" >0.7397</td>\n",
       "    </tr>\n",
       "    <tr>\n",
       "      <th id=\"T_cfd81_level0_row6\" class=\"row_heading level0 row6\" >6</th>\n",
       "      <td id=\"T_cfd81_row6_col0\" class=\"data row6 col0\" >0.8857</td>\n",
       "      <td id=\"T_cfd81_row6_col1\" class=\"data row6 col1\" >0.9504</td>\n",
       "      <td id=\"T_cfd81_row6_col2\" class=\"data row6 col2\" >0.8901</td>\n",
       "      <td id=\"T_cfd81_row6_col3\" class=\"data row6 col3\" >0.8901</td>\n",
       "      <td id=\"T_cfd81_row6_col4\" class=\"data row6 col4\" >0.8901</td>\n",
       "      <td id=\"T_cfd81_row6_col5\" class=\"data row6 col5\" >0.7711</td>\n",
       "      <td id=\"T_cfd81_row6_col6\" class=\"data row6 col6\" >0.7711</td>\n",
       "    </tr>\n",
       "    <tr>\n",
       "      <th id=\"T_cfd81_level0_row7\" class=\"row_heading level0 row7\" >7</th>\n",
       "      <td id=\"T_cfd81_row7_col0\" class=\"data row7 col0\" >0.8771</td>\n",
       "      <td id=\"T_cfd81_row7_col1\" class=\"data row7 col1\" >0.9381</td>\n",
       "      <td id=\"T_cfd81_row7_col2\" class=\"data row7 col2\" >0.8654</td>\n",
       "      <td id=\"T_cfd81_row7_col3\" class=\"data row7 col3\" >0.8949</td>\n",
       "      <td id=\"T_cfd81_row7_col4\" class=\"data row7 col4\" >0.8799</td>\n",
       "      <td id=\"T_cfd81_row7_col5\" class=\"data row7 col5\" >0.7542</td>\n",
       "      <td id=\"T_cfd81_row7_col6\" class=\"data row7 col6\" >0.7547</td>\n",
       "    </tr>\n",
       "    <tr>\n",
       "      <th id=\"T_cfd81_level0_row8\" class=\"row_heading level0 row8\" >8</th>\n",
       "      <td id=\"T_cfd81_row8_col0\" class=\"data row8 col0\" >0.8771</td>\n",
       "      <td id=\"T_cfd81_row8_col1\" class=\"data row8 col1\" >0.9479</td>\n",
       "      <td id=\"T_cfd81_row8_col2\" class=\"data row8 col2\" >0.8953</td>\n",
       "      <td id=\"T_cfd81_row8_col3\" class=\"data row8 col3\" >0.8713</td>\n",
       "      <td id=\"T_cfd81_row8_col4\" class=\"data row8 col4\" >0.8832</td>\n",
       "      <td id=\"T_cfd81_row8_col5\" class=\"data row8 col5\" >0.7537</td>\n",
       "      <td id=\"T_cfd81_row8_col6\" class=\"data row8 col6\" >0.7540</td>\n",
       "    </tr>\n",
       "    <tr>\n",
       "      <th id=\"T_cfd81_level0_row9\" class=\"row_heading level0 row9\" >9</th>\n",
       "      <td id=\"T_cfd81_row9_col0\" class=\"data row9 col0\" >0.8612</td>\n",
       "      <td id=\"T_cfd81_row9_col1\" class=\"data row9 col1\" >0.9391</td>\n",
       "      <td id=\"T_cfd81_row9_col2\" class=\"data row9 col2\" >0.8788</td>\n",
       "      <td id=\"T_cfd81_row9_col3\" class=\"data row9 col3\" >0.8575</td>\n",
       "      <td id=\"T_cfd81_row9_col4\" class=\"data row9 col4\" >0.8680</td>\n",
       "      <td id=\"T_cfd81_row9_col5\" class=\"data row9 col5\" >0.7218</td>\n",
       "      <td id=\"T_cfd81_row9_col6\" class=\"data row9 col6\" >0.7220</td>\n",
       "    </tr>\n",
       "    <tr>\n",
       "      <th id=\"T_cfd81_level0_row10\" class=\"row_heading level0 row10\" >Mean</th>\n",
       "      <td id=\"T_cfd81_row10_col0\" class=\"data row10 col0\" >0.8698</td>\n",
       "      <td id=\"T_cfd81_row10_col1\" class=\"data row10 col1\" >0.9381</td>\n",
       "      <td id=\"T_cfd81_row10_col2\" class=\"data row10 col2\" >0.8763</td>\n",
       "      <td id=\"T_cfd81_row10_col3\" class=\"data row10 col3\" >0.8739</td>\n",
       "      <td id=\"T_cfd81_row10_col4\" class=\"data row10 col4\" >0.8750</td>\n",
       "      <td id=\"T_cfd81_row10_col5\" class=\"data row10 col5\" >0.7392</td>\n",
       "      <td id=\"T_cfd81_row10_col6\" class=\"data row10 col6\" >0.7394</td>\n",
       "    </tr>\n",
       "    <tr>\n",
       "      <th id=\"T_cfd81_level0_row11\" class=\"row_heading level0 row11\" >Std</th>\n",
       "      <td id=\"T_cfd81_row11_col0\" class=\"data row11 col0\" >0.0102</td>\n",
       "      <td id=\"T_cfd81_row11_col1\" class=\"data row11 col1\" >0.0077</td>\n",
       "      <td id=\"T_cfd81_row11_col2\" class=\"data row11 col2\" >0.0130</td>\n",
       "      <td id=\"T_cfd81_row11_col3\" class=\"data row11 col3\" >0.0138</td>\n",
       "      <td id=\"T_cfd81_row11_col4\" class=\"data row11 col4\" >0.0097</td>\n",
       "      <td id=\"T_cfd81_row11_col5\" class=\"data row11 col5\" >0.0205</td>\n",
       "      <td id=\"T_cfd81_row11_col6\" class=\"data row11 col6\" >0.0205</td>\n",
       "    </tr>\n",
       "  </tbody>\n",
       "</table>\n"
      ],
      "text/plain": [
       "<pandas.io.formats.style.Styler at 0x14011f38310>"
      ]
     },
     "metadata": {},
     "output_type": "display_data"
    }
   ],
   "source": [
    "cali_model = calibrate_model(blend_soft)"
   ]
  },
  {
   "cell_type": "code",
   "execution_count": 30,
   "metadata": {},
   "outputs": [
    {
     "data": {
      "image/png": "[encoded data removed]",
      "text/plain": [
       "<Figure size 432x432 with 1 Axes>"
      ]
     },
     "metadata": {},
     "output_type": "display_data"
    }
   ],
   "source": [
    "final_model = finalize_model(cali_model)\n",
    "plt.figure(figsize=(6, 6))\n",
    "plot_model(final_model, plot='learning')"
   ]
  },
  {
   "cell_type": "code",
   "execution_count": 31,
   "metadata": {},
   "outputs": [
    {
     "data": {
      "image/png": "[encoded data removed]",
      "text/plain": [
       "<Figure size 432x432 with 1 Axes>"
      ]
     },
     "metadata": {},
     "output_type": "display_data"
    }
   ],
   "source": [
    "plt.figure(figsize=(6, 6))\n",
    "plot_model(final_model, plot='confusion_matrix')"
   ]
  },
  {
   "cell_type": "markdown",
   "metadata": {},
   "source": [
    "## Prediction"
   ]
  },
  {
   "cell_type": "code",
   "execution_count": 51,
   "metadata": {},
   "outputs": [],
   "source": [
    "from wordcloud import STOPWORDS\n",
    "from nltk.corpus import stopwords\n",
    "import seaborn as sns \n",
    "import gensim\n",
    "from gensim.parsing.preprocessing import STOPWORDS\n",
    "\n",
    "from sklearn.model_selection import train_test_split\n",
    "from sklearn.feature_extraction.text import CountVectorizer\n",
    "from sklearn.linear_model import LogisticRegression\n",
    "from sklearn.metrics import roc_auc_score\n",
    "\n",
    "\n",
    "stop_words = stopwords.words('english')\n",
    "stop_words.extend(['from', 'subject', 're', 'edu', 'use'])\n",
    "def clean_text(text):\n",
    "    result = []\n",
    "    for token in gensim.utils.simple_preprocess(text):\n",
    "        if token not in gensim.parsing.preprocessing.STOPWORDS and len(token) > 2 and token not in stop_words:\n",
    "            result.append(token)\n",
    "            \n",
    "    return result"
   ]
  },
  {
   "cell_type": "code",
   "execution_count": 52,
   "metadata": {},
   "outputs": [],
   "source": [
    "df['clean'] = df['text'].apply(clean_text)\n",
    "df['clean_final']=df['clean'].apply(lambda x:\" \".join(x))"
   ]
  },
  {
   "cell_type": "code",
   "execution_count": 53,
   "metadata": {},
   "outputs": [
    {
     "name": "stdout",
     "output_type": "stream",
     "text": [
      "0.9932374105047228\n"
     ]
    }
   ],
   "source": [
    "X_train, X_test, y_train, y_test = train_test_split(df.clean_final, df.isFake, test_size = 0.2,random_state=0)\n",
    "vec_train = CountVectorizer().fit(X_train)\n",
    "X_vec_train = vec_train.transform(X_train)\n",
    "X_vec_test = vec_train.transform(X_test)\n",
    "model = LogisticRegression(C=3)\n",
    "model.fit(X_vec_train, y_train)\n",
    "predicted_value = model.predict(X_vec_test)\n",
    "accuracy_value = roc_auc_score(y_test, predicted_value)\n",
    "print(accuracy_value)"
   ]
  }
 ],
 "metadata": {
  "kernelspec": {
   "display_name": "Python 3.8.13 ('py38')",
   "language": "python",
   "name": "python3"
  },
  "language_info": {
   "codemirror_mode": {
    "name": "ipython",
    "version": 3
   },
   "file_extension": ".py",
   "mimetype": "text/x-python",
   "name": "python",
   "nbconvert_exporter": "python",
   "pygments_lexer": "ipython3",
   "version": "3.8.13"
  },
  "orig_nbformat": 4,
  "vscode": {
   "interpreter": {
    "hash": "6f01b5c94cbb3e80dd9edb5cf8c4c1c45fc2df012ecc49cefa72d6d76404892a"
   }
  }
 },
 "nbformat": 4,
 "nbformat_minor": 2
}
